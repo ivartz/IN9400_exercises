{
 "cells": [
  {
   "cell_type": "code",
   "execution_count": 45,
   "metadata": {},
   "outputs": [
    {
     "data": {
      "text/plain": [
       "_CudaDeviceProperties(name='GeForce RTX 2070', major=7, minor=5, total_memory=7951MB, multi_processor_count=36)"
      ]
     },
     "execution_count": 45,
     "metadata": {},
     "output_type": "execute_result"
    }
   ],
   "source": [
    "import torch\n",
    "\n",
    "# It is best to set device=\"cuda:0\" each time a tensor is created\n",
    "# instead of .to(device) with device as specified  \n",
    "# accordingly:\n",
    "device = torch.device(\"cuda:0\" if torch.cuda.is_available() else \"cpu\")\n",
    "# Then, the data is created directly on the CUDA GPU \n",
    "# with no CPU (RAM) memory handling first.\n",
    "\n",
    "# Convert from tensor on GPU to to numpy array on CPU.\n",
    "#x_cpu = x.cpu().numpy()\n",
    "\n",
    "# Check which device a tensor is on\n",
    "#x.device\n",
    "\n",
    "# Check if CUDA is available\n",
    "#torch.cuda.is_available()\n",
    "\n",
    "# CUDA device properties\n",
    "torch.cuda.get_device_properties(0)"
   ]
  },
  {
   "cell_type": "code",
   "execution_count": 46,
   "metadata": {},
   "outputs": [],
   "source": [
    "# edited ~/.spimagine\n",
    "# colormap = grays"
   ]
  },
  {
   "cell_type": "code",
   "execution_count": 47,
   "metadata": {},
   "outputs": [],
   "source": [
    "%gui qt5\n",
    "import spimagine\n",
    "from spimagine import volshow, volfig\n",
    "import numpy as np\n",
    "from scipy import signal\n",
    "\n",
    "random_cube_dimension = 35\n",
    "gaussian_kernel_width = 22\n",
    "gaussian_std = 12\n",
    "\n",
    "# Data to convolve\n",
    "x = \\\n",
    "torch.randn(size=(random_cube_dimension, random_cube_dimension, random_cube_dimension), dtype=torch.double, device=device)\n",
    "\n",
    "# Convolution kernel/weights .\n",
    "# A broadcasted 2D gaussian kernel to accomplish smoothing\n",
    "gaussian = signal.gaussian(gaussian_kernel_width, gaussian_std).reshape((gaussian_kernel_width, 1))\n",
    "w_np = gaussian*(gaussian.T)*gaussian.reshape((gaussian_kernel_width, 1, 1))\n",
    "w = torch.as_tensor(w_np, dtype=torch.double, device=device)\n",
    "# Make shure sum of w equals 1\n",
    "w -= torch.mean(w)\n",
    "w /= torch.std(w)\n",
    "\n",
    "# Bias term\n",
    "b = torch.randn(1, device=device)\n",
    "\n",
    "def show_volume_spimagine(volume_data_pytorch_gpu_tensor, stackUnits=(1, 1, 1)):\n",
    "    volfig()\n",
    "    spim_widget = \\\n",
    "    volshow(volume_data_pytorch_gpu_tensor.cpu().numpy(), stackUnits=stackUnits, interpolation='nearest')\n",
    "\n",
    "def show_volume_spimagine_cpu(numpy_array, stackUnits=(1, 1, 1)):\n",
    "    volfig()\n",
    "    spim_widget = \\\n",
    "    volshow(numpy_array, stackUnits=stackUnits, interpolation='nearest')\n",
    "\n",
    "#show_volume_spimagine(x)\n",
    "#show_volume_spimagine(w)"
   ]
  },
  {
   "cell_type": "code",
   "execution_count": 48,
   "metadata": {},
   "outputs": [
    {
     "data": {
      "text/plain": [
       "{'id_device': 0,\n",
       " 'spin_axis': 1,\n",
       " 'id_platform': 0,\n",
       " 'use_gpu': 1,\n",
       " 'colormap': 'viridis',\n",
       " 'texture_width': 800,\n",
       " 'window_width': 900,\n",
       " 'window_height': 800,\n",
       " 'max_steps': 200,\n",
       " 'box_linewidth': 1.0,\n",
       " 'interpolation': 'linear',\n",
       " '_qualifier_constant_to_global': 0}"
      ]
     },
     "execution_count": 48,
     "metadata": {},
     "output_type": "execute_result"
    }
   ],
   "source": [
    "# The default spimagine configuration\n",
    "spimagine.config.defaults"
   ]
  },
  {
   "cell_type": "code",
   "execution_count": 49,
   "metadata": {},
   "outputs": [],
   "source": [
    "# Implement 3D convolution.\n",
    "import torch.nn as nn\n",
    "\n",
    "def compute_convolved_image_shape_3D(input_depth, \\\n",
    "                                     input_height, \\\n",
    "                                     input_width, \\\n",
    "                                     kernel_depth, \\\n",
    "                                     kernel_height, \\\n",
    "                                     kernel_width, \\\n",
    "                                     pad_size, \\\n",
    "                                     stride):\n",
    "    # Formula for the spatial dimensions of an image\n",
    "    # in an convolutional output layer.\n",
    "    return torch.as_tensor(np.int(np.floor(1 + (input_depth + 2*pad_size - kernel_depth)/stride)), device=device), \\\n",
    "            torch.as_tensor(np.int(np.floor(1 + (input_height + 2*pad_size - kernel_height)/stride)), device=device), \\\n",
    "            torch.as_tensor(np.int(np.floor(1 + (input_width + 2*pad_size - kernel_width)/stride)), device=device)\n",
    "\n",
    "def convolution_3D(input_image, weights, pad_size=1, stride=1, save_dir=\"data\"):\n",
    "    \"\"\"\n",
    "    Write a general function to convolve an image with an arbitrary kernel.\n",
    "    \"\"\"\n",
    "    # Flipping weights/kernel to so that it is convolution and not correlation.\n",
    "    #weights = weights[::-1, ::-1]\n",
    "\n",
    "    # He scaling of weights .\n",
    "    #weights = torch.div(weights, torch.sqrt(torch.tensor(2/weights.numel())))\n",
    "    \n",
    "    \n",
    "    depth_weights, height_weights, width_weights = weights.shape\n",
    "    \n",
    "    depth_input_image, height_input_image, width_input_image = input_image.shape\n",
    "    \n",
    "    padding = nn.ConstantPad3d(pad_size, 0)\n",
    "    \n",
    "    input_image_padded = padding(input_image)\n",
    "    #np.pad(input_image, ((pad_size,), (pad_size,), (pad_size,)), mode=\"constant\", constant_values=0)\n",
    "    \n",
    "    # Define dimension of output image.\n",
    "    depth_output_image, height_output_image, width_output_image,  = \\\n",
    "    compute_convolved_image_shape_3D(depth_input_image, \\\n",
    "                                     height_input_image, \\\n",
    "                                     width_input_image, \\\n",
    "                                     depth_weights, \\\n",
    "                                     height_weights, \\\n",
    "                                     width_weights, \\\n",
    "                                     pad_size, \\\n",
    "                                     stride)\n",
    "    \n",
    "    output_image = torch.zeros((depth_output_image, \\\n",
    "                                height_output_image, \\\n",
    "                                width_output_image), \\\n",
    "                               device=device)\n",
    "    \n",
    "    # Zero padding output image to have equal dimensions\n",
    "    # as temporary_volume_to_save .\n",
    "    # Assuming equal padding in all directions.\n",
    "    #in_out_image_axis_offset = ((input_image_padded.shape[0] - output_image.shape[0])//2)//stride\n",
    "    \n",
    "    accumulated_convolved_image = torch.zeros_like(input_image_padded)\n",
    "    deaccumulated_and_accumulated_convolved_input_image = input_image_padded.clone()\n",
    "    \n",
    "    save_number = 1\n",
    "    iteration = 0\n",
    "    \n",
    "    # Firt perform the entire convolution\n",
    "    for z in range(depth_output_image):\n",
    "        for y in range(height_output_image):\n",
    "            for x in range(width_output_image):\n",
    "                                \n",
    "                    # The convolution\n",
    "                    input_image_padded_masked = \\\n",
    "                    input_image_padded[z*stride:z*stride+depth_weights, y*stride:y*stride+height_weights, x*stride:x*stride+width_weights]\n",
    "\n",
    "                    product = input_image_padded_masked * weights\n",
    "                    \n",
    "                    output_image[z, y, x] = \\\n",
    "                    torch.sum(product)\n",
    "                    \n",
    "    # Mean normalize the output\n",
    "    output_image -= torch.mean(output_image)\n",
    "    output_image /= torch.std(output_image)\n",
    "\n",
    "    print(torch.mean(output_image))\n",
    "    print(torch.std(output_image))\n",
    "    \n",
    "    # Do the entire convolution again to create the animated sequence with normalized output convolution.\n",
    "    for z in range(depth_output_image):\n",
    "        for y in range(height_output_image):\n",
    "            for x in range(width_output_image):\n",
    "                \n",
    "                    iteration += 1\n",
    "                \n",
    "                    #if iteration == 20:\n",
    "                    #    return output_image\n",
    "                    \n",
    "                    # Redo the element wise multiplication of the convolution.\n",
    "                    input_image_padded_masked = \\\n",
    "                    input_image_padded[z*stride:z*stride+depth_weights, y*stride:y*stride+height_weights, x*stride:x*stride+width_weights]\n",
    "                    \n",
    "                    product = input_image_padded_masked * weights\n",
    "                    \n",
    "                    # Normalize the product according to entire output image.\n",
    "                    product -= torch.mean(output_image)\n",
    "                    product /= torch.std(output_image)\n",
    "                    \n",
    "                    # THIS WAS NOT NECESSARY, start\n",
    "                    # Save snapshot of what is left of input image to convolute.\n",
    "                    #torch.save(deaccumulated_and_accumulated_convolved_input_image, \"data/\"+str(save_number)+\".pt\")\n",
    "                    \n",
    "                    #save_number += 1\n",
    "                    # THIS WAS NOT NECESSARY, end\n",
    "                    \n",
    "                    # Get the stored convoluted image so far.\n",
    "                    temporary_volume_to_save \\\n",
    "                    = deaccumulated_and_accumulated_convolved_input_image.clone()\n",
    "                    \n",
    "                    # update temporary_volume_to_save with the element.wise multiplicated area.\n",
    "                    temporary_volume_to_save[z*stride:z*stride+depth_weights, y*stride:y*stride+height_weights, x*stride:x*stride+width_weights]\\\n",
    "                    = product\n",
    "                    \n",
    "                    #\"\"\"\n",
    "                    # Save this view (pre-convolution step, shows the product).\n",
    "                    torch.save(temporary_volume_to_save, save_dir+\"/\"+str(save_number)+\".pt\")\n",
    "                    save_number += 1\n",
    "                    #\"\"\"\n",
    "                    \n",
    "                    # Store the actual convolution output in accumulated_convolved_image .\n",
    "                    # Using normalized output pixel from previous convolition and\n",
    "                    # noramlization step (mean centering and divide by std).\n",
    "                    accumulated_convolved_image[z*stride+depth_weights//2, \\\n",
    "                                                y*stride+height_weights//2, \\\n",
    "                                                x*stride+width_weights//2]\\\n",
    "                    = output_image[z, y, x].clone()\n",
    "                    \n",
    "                    # Update temporary_volume_to_save and overwrite\n",
    "                    # deaccumulated_and_accumulated_convolved_input_image\n",
    "                    # with a copy of it.\n",
    "                    temporary_volume_to_save[0:z*stride+depth_weights, \\\n",
    "                                             0:y*stride+height_weights, \\\n",
    "                                             0:x*stride+width_weights] \\\n",
    "                    = accumulated_convolved_image[0:z*stride+depth_weights, \\\n",
    "                                                  0:y*stride+height_weights, \\\n",
    "                                                  0:x*stride+width_weights]\n",
    "                    \n",
    "                    deaccumulated_and_accumulated_convolved_input_image \\\n",
    "                    = temporary_volume_to_save.clone()\n",
    "    \n",
    "    # Save copies of the convolved image.\n",
    "    for i in range(500):\n",
    "        torch.save(accumulated_convolved_image, save_dir+\"/\"+str(save_number)+\".pt\")\n",
    "        save_number += 1\n",
    "    \n",
    "    if stride > 1:\n",
    "        # Render images for animated high-res -> low-res\n",
    "        # affine scaling.\n",
    "        \n",
    "        print(output_image.shape)\n",
    "        accumulated_convolved_image_upscaled = \\\n",
    "        torch.zeros_like(output_image, device=device)\n",
    "        \n",
    "        # Get the relevant pixels from accumulated_convolved_image .\n",
    "        for z in range(depth_output_image):\n",
    "            for y in range(height_output_image):\n",
    "                for x in range(width_output_image):\n",
    "                    accumulated_convolved_image_upscaled[z, \\\n",
    "                                                         y, \\\n",
    "                                                         x] \\\n",
    "                    = accumulated_convolved_image[z*stride+depth_weights//2, \\\n",
    "                                                  y*stride+height_weights//2, \\\n",
    "                                                  x*stride+width_weights//2]\n",
    "        \n",
    "        # Interpolate accumulated_convolved_image from having \n",
    "        # shape like output_image to shape like accumulated_convolved_image .\n",
    "        \n",
    "        # Needed to reshape into (mini-batch, channels, depth, heigth, width)\n",
    "        # for intepolate to understand the volume.\n",
    "        # Also need to compute the scale factor, based on the formula used in\n",
    "        # compute_convolved_image_shape_3D .\n",
    "        scale_factor_z = stride*(2*pad_size + depth_input_image)/\\\n",
    "        (stride + depth_input_image + 2*pad_size - depth_weights)\n",
    "\n",
    "        scale_factor_y = stride*(2*pad_size + height_input_image)/\\\n",
    "        (stride + height_input_image + 2*pad_size - height_weights)\n",
    "\n",
    "        scale_factor_x = stride*(2*pad_size + width_input_image)/\\\n",
    "        (stride + width_input_image + 2*pad_size - width_weights)\n",
    "        \n",
    "        accumulated_convolved_image_upscaled = \\\n",
    "        nn.functional.interpolate(torch.reshape(accumulated_convolved_image_upscaled, (1, \\\n",
    "                                                                                      1, \\\n",
    "                                                                                      accumulated_convolved_image_upscaled.shape[0], \\\n",
    "                                                                                       accumulated_convolved_image_upscaled.shape[1], \\\n",
    "                                                                                       accumulated_convolved_image_upscaled.shape[2]\n",
    "                                                                                      )), \\\n",
    "                                  scale_factor=(scale_factor_z, \\\n",
    "                                                scale_factor_y, \\\n",
    "                                                scale_factor_x), \\\n",
    "                                  mode=\"nearest\")\n",
    "        #\"\"\"\n",
    "        # Reshape back to (depth, heigth, width) before saving.\n",
    "        accumulated_convolved_image_upscaled_reshaped = \\\n",
    "        torch.reshape(accumulated_convolved_image_upscaled, \\\n",
    "                      (accumulated_convolved_image_upscaled.shape[2], \\\n",
    "                       accumulated_convolved_image_upscaled.shape[3], \\\n",
    "                       accumulated_convolved_image_upscaled.shape[4]))\n",
    "        \n",
    "        \"\"\"\n",
    "        Not necessary to normalize \n",
    "        accumulated_convolved_image_upscaled_reshaped \n",
    "        since it is already normalized through the \n",
    "        commands above:\n",
    "        \n",
    "        # Mean normalize the output\n",
    "        output_image -= torch.mean(output_image)\n",
    "        output_image /= torch.std(output_image)\n",
    "        \"\"\"\n",
    "         \n",
    "        # Save copies of this image.\n",
    "        for i in range(500):\n",
    "        \n",
    "            torch.save(accumulated_convolved_image_upscaled_reshaped, \\\n",
    "                       save_dir+\"/\"+str(save_number)+\".pt\")\n",
    "            save_number += 1\n",
    "\n",
    "    print(torch.mean(output_image))\n",
    "    print(torch.std(output_image))\n",
    "        \n",
    "    return output_image"
   ]
  },
  {
   "cell_type": "code",
   "execution_count": 50,
   "metadata": {},
   "outputs": [
    {
     "name": "stdout",
     "output_type": "stream",
     "text": [
      "tensor(-1.8626e-09, device='cuda:0')\n",
      "tensor(1.0000, device='cuda:0')\n",
      "torch.Size([8, 8, 8])\n",
      "tensor(-1.8626e-09, device='cuda:0')\n",
      "tensor(1.0000, device='cuda:0')\n"
     ]
    }
   ],
   "source": [
    "# Perform the convolution\n",
    "run_output_folder = \"random_small\"\n",
    "save_dir = \"data/\" + run_output_folder\n",
    "\n",
    "import os\n",
    "if not os.path.exists(save_dir):\n",
    "    os.makedirs(save_dir)\n",
    "\n",
    "z = convolution_3D(x, w, pad_size=4, stride=3, save_dir=save_dir)# + b\n",
    "\n",
    "#print(x.shape)\n",
    "#print(w.shape)\n",
    "#print(z.shape)"
   ]
  },
  {
   "cell_type": "code",
   "execution_count": 51,
   "metadata": {},
   "outputs": [],
   "source": [
    "#show_volume_spimagine(x)\n",
    "#show_volume_spimagine(w)\n",
    "show_volume_spimagine(z)\n",
    "#show_volume_spimagine_cpu(z_series)"
   ]
  },
  {
   "cell_type": "code",
   "execution_count": 52,
   "metadata": {},
   "outputs": [],
   "source": [
    "# Load stored timeseries data of the convolution.\n",
    "\n",
    "from glob import glob\n",
    "\n",
    "aquisition_image_path = \"data/\" + run_output_folder\n",
    "images_unsorted = glob(aquisition_image_path + \"/*.pt*\")\n",
    "def get_image_number(file):\n",
    "    return int(file[len(save_dir + \"/\"):-len(\".pt\")])\n",
    "images = sorted(images_unsorted, key=get_image_number)\n",
    "\n",
    "z_series = np.array([torch.load(image).cpu().numpy() for image in images])"
   ]
  },
  {
   "cell_type": "code",
   "execution_count": 53,
   "metadata": {},
   "outputs": [
    {
     "name": "stdout",
     "output_type": "stream",
     "text": [
      "(43, 43, 43)\n",
      "(43, 43, 43)\n"
     ]
    },
    {
     "data": {
      "text/plain": [
       "True"
      ]
     },
     "execution_count": 53,
     "metadata": {},
     "output_type": "execute_result"
    }
   ],
   "source": [
    "print(z_series[-1].shape)\n",
    "print(z_series[-2].shape)\n",
    "\n",
    "z_series[-1].shape == z_series[-2].shape"
   ]
  },
  {
   "cell_type": "code",
   "execution_count": 54,
   "metadata": {},
   "outputs": [
    {
     "data": {
      "text/plain": [
       "(43, 43, 43)"
      ]
     },
     "execution_count": 54,
     "metadata": {},
     "output_type": "execute_result"
    }
   ],
   "source": [
    "z.cpu().numpy().shape\n",
    "z_series[-1].shape"
   ]
  },
  {
   "cell_type": "code",
   "execution_count": 55,
   "metadata": {
    "scrolled": false
   },
   "outputs": [],
   "source": [
    "show_volume_spimagine_cpu(z_series)"
   ]
  },
  {
   "cell_type": "code",
   "execution_count": 56,
   "metadata": {},
   "outputs": [
    {
     "name": "stdout",
     "output_type": "stream",
     "text": [
      "means\n",
      "tensor(0.0015, device='cuda:0', dtype=torch.float64)\n",
      "tensor(-8.6716e-16, device='cuda:0', dtype=torch.float64)\n",
      "tensor(-1.2669, device='cuda:0')\n",
      "tensor(-1.8626e-09, device='cuda:0')\n",
      "-0.00023749853386009697\n",
      "stds\n",
      "tensor(0.9944, device='cuda:0', dtype=torch.float64)\n",
      "tensor(1.0000, device='cuda:0', dtype=torch.float64)\n",
      "tensor(nan, device='cuda:0')\n",
      "tensor(1.0000, device='cuda:0')\n",
      "0.7366146227400442\n",
      "sums\n",
      "tensor(63.4945, device='cuda:0', dtype=torch.float64)\n",
      "tensor(-9.2335e-12, device='cuda:0', dtype=torch.float64)\n",
      "tensor(-1.2669, device='cuda:0')\n",
      "tensor(-9.5367e-07, device='cuda:0')\n",
      "-18.88279593161473\n"
     ]
    },
    {
     "name": "stderr",
     "output_type": "stream",
     "text": [
      "INFO:spimagine.gui.glwidget | saving frame as /media/ivar/HDD3TB2/IN9400_exercises/week1/volume_convolution_demo/data/random_small/rendering/output_002.png\n"
     ]
    },
    {
     "name": "stdout",
     "output_type": "stream",
     "text": [
      "record pos 1\n",
      "record pos 2\n"
     ]
    },
    {
     "name": "stderr",
     "output_type": "stream",
     "text": [
      "INFO:spimagine.gui.glwidget | saving frame as /media/ivar/HDD3TB2/IN9400_exercises/week1/volume_convolution_demo/data/random_small/rendering/output_003.png\n"
     ]
    },
    {
     "name": "stdout",
     "output_type": "stream",
     "text": [
      "record pos 3\n"
     ]
    },
    {
     "name": "stderr",
     "output_type": "stream",
     "text": [
      "INFO:spimagine.gui.glwidget | saving frame as /media/ivar/HDD3TB2/IN9400_exercises/week1/volume_convolution_demo/data/random_small/rendering/output_004.png\n"
     ]
    },
    {
     "name": "stdout",
     "output_type": "stream",
     "text": [
      "record pos 4\n"
     ]
    },
    {
     "name": "stderr",
     "output_type": "stream",
     "text": [
      "INFO:spimagine.gui.glwidget | saving frame as /media/ivar/HDD3TB2/IN9400_exercises/week1/volume_convolution_demo/data/random_small/rendering/output_005.png\n"
     ]
    },
    {
     "name": "stdout",
     "output_type": "stream",
     "text": [
      "record pos 5\n"
     ]
    },
    {
     "name": "stderr",
     "output_type": "stream",
     "text": [
      "INFO:spimagine.gui.glwidget | saving frame as /media/ivar/HDD3TB2/IN9400_exercises/week1/volume_convolution_demo/data/random_small/rendering/output_006.png\n",
      "INFO:spimagine.gui.glwidget | saving frame as /media/ivar/HDD3TB2/IN9400_exercises/week1/volume_convolution_demo/data/random_small/rendering/output_007.png\n"
     ]
    },
    {
     "name": "stdout",
     "output_type": "stream",
     "text": [
      "record pos 6\n",
      "record pos 7\n"
     ]
    },
    {
     "name": "stderr",
     "output_type": "stream",
     "text": [
      "INFO:spimagine.gui.glwidget | saving frame as /media/ivar/HDD3TB2/IN9400_exercises/week1/volume_convolution_demo/data/random_small/rendering/output_008.png\n"
     ]
    },
    {
     "name": "stdout",
     "output_type": "stream",
     "text": [
      "record pos 8\n"
     ]
    },
    {
     "name": "stderr",
     "output_type": "stream",
     "text": [
      "INFO:spimagine.gui.glwidget | saving frame as /media/ivar/HDD3TB2/IN9400_exercises/week1/volume_convolution_demo/data/random_small/rendering/output_009.png\n"
     ]
    },
    {
     "name": "stdout",
     "output_type": "stream",
     "text": [
      "record pos 9\n"
     ]
    },
    {
     "name": "stderr",
     "output_type": "stream",
     "text": [
      "INFO:spimagine.gui.glwidget | saving frame as /media/ivar/HDD3TB2/IN9400_exercises/week1/volume_convolution_demo/data/random_small/rendering/output_010.png\n",
      "INFO:spimagine.gui.glwidget | saving frame as /media/ivar/HDD3TB2/IN9400_exercises/week1/volume_convolution_demo/data/random_small/rendering/output_011.png\n"
     ]
    },
    {
     "name": "stdout",
     "output_type": "stream",
     "text": [
      "record pos 10\n",
      "record pos 11\n"
     ]
    },
    {
     "name": "stderr",
     "output_type": "stream",
     "text": [
      "INFO:spimagine.gui.glwidget | saving frame as /media/ivar/HDD3TB2/IN9400_exercises/week1/volume_convolution_demo/data/random_small/rendering/output_012.png\n"
     ]
    },
    {
     "name": "stdout",
     "output_type": "stream",
     "text": [
      "record pos 12\n"
     ]
    },
    {
     "name": "stderr",
     "output_type": "stream",
     "text": [
      "INFO:spimagine.gui.glwidget | saving frame as /media/ivar/HDD3TB2/IN9400_exercises/week1/volume_convolution_demo/data/random_small/rendering/output_013.png\n",
      "INFO:spimagine.gui.glwidget | saving frame as /media/ivar/HDD3TB2/IN9400_exercises/week1/volume_convolution_demo/data/random_small/rendering/output_014.png\n"
     ]
    },
    {
     "name": "stdout",
     "output_type": "stream",
     "text": [
      "record pos 13\n",
      "record pos 14\n"
     ]
    },
    {
     "name": "stderr",
     "output_type": "stream",
     "text": [
      "INFO:spimagine.gui.glwidget | saving frame as /media/ivar/HDD3TB2/IN9400_exercises/week1/volume_convolution_demo/data/random_small/rendering/output_015.png\n"
     ]
    },
    {
     "name": "stdout",
     "output_type": "stream",
     "text": [
      "record pos 15\n"
     ]
    },
    {
     "name": "stderr",
     "output_type": "stream",
     "text": [
      "INFO:spimagine.gui.glwidget | saving frame as /media/ivar/HDD3TB2/IN9400_exercises/week1/volume_convolution_demo/data/random_small/rendering/output_016.png\n"
     ]
    },
    {
     "name": "stdout",
     "output_type": "stream",
     "text": [
      "record pos 16\n"
     ]
    },
    {
     "name": "stderr",
     "output_type": "stream",
     "text": [
      "INFO:spimagine.gui.glwidget | saving frame as /media/ivar/HDD3TB2/IN9400_exercises/week1/volume_convolution_demo/data/random_small/rendering/output_017.png\n"
     ]
    },
    {
     "name": "stdout",
     "output_type": "stream",
     "text": [
      "record pos 17\n"
     ]
    },
    {
     "name": "stderr",
     "output_type": "stream",
     "text": [
      "INFO:spimagine.gui.glwidget | saving frame as /media/ivar/HDD3TB2/IN9400_exercises/week1/volume_convolution_demo/data/random_small/rendering/output_018.png\n"
     ]
    },
    {
     "name": "stdout",
     "output_type": "stream",
     "text": [
      "record pos 18\n"
     ]
    },
    {
     "name": "stderr",
     "output_type": "stream",
     "text": [
      "INFO:spimagine.gui.glwidget | saving frame as /media/ivar/HDD3TB2/IN9400_exercises/week1/volume_convolution_demo/data/random_small/rendering/output_019.png\n"
     ]
    },
    {
     "name": "stdout",
     "output_type": "stream",
     "text": [
      "record pos 19\n"
     ]
    },
    {
     "name": "stderr",
     "output_type": "stream",
     "text": [
      "INFO:spimagine.gui.glwidget | saving frame as /media/ivar/HDD3TB2/IN9400_exercises/week1/volume_convolution_demo/data/random_small/rendering/output_020.png\n",
      "INFO:spimagine.gui.glwidget | saving frame as /media/ivar/HDD3TB2/IN9400_exercises/week1/volume_convolution_demo/data/random_small/rendering/output_021.png\n"
     ]
    },
    {
     "name": "stdout",
     "output_type": "stream",
     "text": [
      "record pos 20\n",
      "record pos 21\n"
     ]
    },
    {
     "name": "stderr",
     "output_type": "stream",
     "text": [
      "INFO:spimagine.gui.glwidget | saving frame as /media/ivar/HDD3TB2/IN9400_exercises/week1/volume_convolution_demo/data/random_small/rendering/output_022.png\n"
     ]
    },
    {
     "name": "stdout",
     "output_type": "stream",
     "text": [
      "record pos 22\n"
     ]
    },
    {
     "name": "stderr",
     "output_type": "stream",
     "text": [
      "INFO:spimagine.gui.glwidget | saving frame as /media/ivar/HDD3TB2/IN9400_exercises/week1/volume_convolution_demo/data/random_small/rendering/output_023.png\n"
     ]
    },
    {
     "name": "stdout",
     "output_type": "stream",
     "text": [
      "record pos 23\n"
     ]
    },
    {
     "name": "stderr",
     "output_type": "stream",
     "text": [
      "INFO:spimagine.gui.glwidget | saving frame as /media/ivar/HDD3TB2/IN9400_exercises/week1/volume_convolution_demo/data/random_small/rendering/output_024.png\n"
     ]
    },
    {
     "name": "stdout",
     "output_type": "stream",
     "text": [
      "record pos 24\n"
     ]
    },
    {
     "name": "stderr",
     "output_type": "stream",
     "text": [
      "INFO:spimagine.gui.glwidget | saving frame as /media/ivar/HDD3TB2/IN9400_exercises/week1/volume_convolution_demo/data/random_small/rendering/output_025.png\n"
     ]
    },
    {
     "name": "stdout",
     "output_type": "stream",
     "text": [
      "record pos 25\n"
     ]
    },
    {
     "name": "stderr",
     "output_type": "stream",
     "text": [
      "INFO:spimagine.gui.glwidget | saving frame as /media/ivar/HDD3TB2/IN9400_exercises/week1/volume_convolution_demo/data/random_small/rendering/output_026.png\n",
      "INFO:spimagine.gui.glwidget | saving frame as /media/ivar/HDD3TB2/IN9400_exercises/week1/volume_convolution_demo/data/random_small/rendering/output_027.png\n"
     ]
    },
    {
     "name": "stdout",
     "output_type": "stream",
     "text": [
      "record pos 26\n",
      "record pos 27\n"
     ]
    },
    {
     "name": "stderr",
     "output_type": "stream",
     "text": [
      "INFO:spimagine.gui.glwidget | saving frame as /media/ivar/HDD3TB2/IN9400_exercises/week1/volume_convolution_demo/data/random_small/rendering/output_028.png\n"
     ]
    },
    {
     "name": "stdout",
     "output_type": "stream",
     "text": [
      "record pos 28\n"
     ]
    },
    {
     "name": "stderr",
     "output_type": "stream",
     "text": [
      "INFO:spimagine.gui.glwidget | saving frame as /media/ivar/HDD3TB2/IN9400_exercises/week1/volume_convolution_demo/data/random_small/rendering/output_029.png\n"
     ]
    },
    {
     "name": "stdout",
     "output_type": "stream",
     "text": [
      "record pos 29\n"
     ]
    },
    {
     "name": "stderr",
     "output_type": "stream",
     "text": [
      "INFO:spimagine.gui.glwidget | saving frame as /media/ivar/HDD3TB2/IN9400_exercises/week1/volume_convolution_demo/data/random_small/rendering/output_030.png\n"
     ]
    },
    {
     "name": "stdout",
     "output_type": "stream",
     "text": [
      "record pos 30\n",
      "record pos 31\n"
     ]
    },
    {
     "name": "stderr",
     "output_type": "stream",
     "text": [
      "INFO:spimagine.gui.glwidget | saving frame as /media/ivar/HDD3TB2/IN9400_exercises/week1/volume_convolution_demo/data/random_small/rendering/output_031.png\n",
      "INFO:spimagine.gui.glwidget | saving frame as /media/ivar/HDD3TB2/IN9400_exercises/week1/volume_convolution_demo/data/random_small/rendering/output_032.png\n"
     ]
    },
    {
     "name": "stdout",
     "output_type": "stream",
     "text": [
      "record pos 32\n"
     ]
    },
    {
     "name": "stderr",
     "output_type": "stream",
     "text": [
      "INFO:spimagine.gui.glwidget | saving frame as /media/ivar/HDD3TB2/IN9400_exercises/week1/volume_convolution_demo/data/random_small/rendering/output_033.png\n"
     ]
    },
    {
     "name": "stdout",
     "output_type": "stream",
     "text": [
      "record pos 33\n"
     ]
    },
    {
     "name": "stderr",
     "output_type": "stream",
     "text": [
      "INFO:spimagine.gui.glwidget | saving frame as /media/ivar/HDD3TB2/IN9400_exercises/week1/volume_convolution_demo/data/random_small/rendering/output_034.png\n"
     ]
    },
    {
     "name": "stdout",
     "output_type": "stream",
     "text": [
      "record pos 34\n"
     ]
    },
    {
     "name": "stderr",
     "output_type": "stream",
     "text": [
      "INFO:spimagine.gui.glwidget | saving frame as /media/ivar/HDD3TB2/IN9400_exercises/week1/volume_convolution_demo/data/random_small/rendering/output_035.png\n"
     ]
    },
    {
     "name": "stdout",
     "output_type": "stream",
     "text": [
      "record pos 35\n",
      "record pos 36\n"
     ]
    },
    {
     "name": "stderr",
     "output_type": "stream",
     "text": [
      "INFO:spimagine.gui.glwidget | saving frame as /media/ivar/HDD3TB2/IN9400_exercises/week1/volume_convolution_demo/data/random_small/rendering/output_036.png\n",
      "INFO:spimagine.gui.glwidget | saving frame as /media/ivar/HDD3TB2/IN9400_exercises/week1/volume_convolution_demo/data/random_small/rendering/output_037.png\n",
      "INFO:spimagine.gui.glwidget | saving frame as /media/ivar/HDD3TB2/IN9400_exercises/week1/volume_convolution_demo/data/random_small/rendering/output_038.png\n"
     ]
    },
    {
     "name": "stdout",
     "output_type": "stream",
     "text": [
      "record pos 37\n",
      "record pos 38\n"
     ]
    },
    {
     "name": "stderr",
     "output_type": "stream",
     "text": [
      "INFO:spimagine.gui.glwidget | saving frame as /media/ivar/HDD3TB2/IN9400_exercises/week1/volume_convolution_demo/data/random_small/rendering/output_039.png\n",
      "INFO:spimagine.gui.glwidget | saving frame as /media/ivar/HDD3TB2/IN9400_exercises/week1/volume_convolution_demo/data/random_small/rendering/output_040.png\n"
     ]
    },
    {
     "name": "stdout",
     "output_type": "stream",
     "text": [
      "record pos 39\n",
      "record pos 40\n"
     ]
    },
    {
     "name": "stderr",
     "output_type": "stream",
     "text": [
      "INFO:spimagine.gui.glwidget | saving frame as /media/ivar/HDD3TB2/IN9400_exercises/week1/volume_convolution_demo/data/random_small/rendering/output_041.png\n",
      "INFO:spimagine.gui.glwidget | saving frame as /media/ivar/HDD3TB2/IN9400_exercises/week1/volume_convolution_demo/data/random_small/rendering/output_042.png\n"
     ]
    },
    {
     "name": "stdout",
     "output_type": "stream",
     "text": [
      "record pos 41\n",
      "record pos 42\n"
     ]
    },
    {
     "name": "stderr",
     "output_type": "stream",
     "text": [
      "INFO:spimagine.gui.glwidget | saving frame as /media/ivar/HDD3TB2/IN9400_exercises/week1/volume_convolution_demo/data/random_small/rendering/output_043.png\n",
      "INFO:spimagine.gui.glwidget | saving frame as /media/ivar/HDD3TB2/IN9400_exercises/week1/volume_convolution_demo/data/random_small/rendering/output_044.png\n"
     ]
    },
    {
     "name": "stdout",
     "output_type": "stream",
     "text": [
      "record pos 43\n",
      "record pos 44\n"
     ]
    },
    {
     "name": "stderr",
     "output_type": "stream",
     "text": [
      "INFO:spimagine.gui.glwidget | saving frame as /media/ivar/HDD3TB2/IN9400_exercises/week1/volume_convolution_demo/data/random_small/rendering/output_045.png\n",
      "INFO:spimagine.gui.glwidget | saving frame as /media/ivar/HDD3TB2/IN9400_exercises/week1/volume_convolution_demo/data/random_small/rendering/output_046.png\n"
     ]
    },
    {
     "name": "stdout",
     "output_type": "stream",
     "text": [
      "record pos 45\n",
      "record pos 46\n"
     ]
    },
    {
     "name": "stderr",
     "output_type": "stream",
     "text": [
      "INFO:spimagine.gui.glwidget | saving frame as /media/ivar/HDD3TB2/IN9400_exercises/week1/volume_convolution_demo/data/random_small/rendering/output_047.png\n"
     ]
    },
    {
     "name": "stdout",
     "output_type": "stream",
     "text": [
      "record pos 47\n",
      "record pos 48\n"
     ]
    },
    {
     "name": "stderr",
     "output_type": "stream",
     "text": [
      "INFO:spimagine.gui.glwidget | saving frame as /media/ivar/HDD3TB2/IN9400_exercises/week1/volume_convolution_demo/data/random_small/rendering/output_048.png\n",
      "INFO:spimagine.gui.glwidget | saving frame as /media/ivar/HDD3TB2/IN9400_exercises/week1/volume_convolution_demo/data/random_small/rendering/output_049.png\n"
     ]
    },
    {
     "name": "stdout",
     "output_type": "stream",
     "text": [
      "record pos 49\n"
     ]
    },
    {
     "name": "stderr",
     "output_type": "stream",
     "text": [
      "INFO:spimagine.gui.glwidget | saving frame as /media/ivar/HDD3TB2/IN9400_exercises/week1/volume_convolution_demo/data/random_small/rendering/output_050.png\n",
      "INFO:spimagine.gui.glwidget | saving frame as /media/ivar/HDD3TB2/IN9400_exercises/week1/volume_convolution_demo/data/random_small/rendering/output_051.png\n"
     ]
    },
    {
     "name": "stdout",
     "output_type": "stream",
     "text": [
      "record pos 50\n",
      "record pos 51\n"
     ]
    },
    {
     "name": "stderr",
     "output_type": "stream",
     "text": [
      "INFO:spimagine.gui.glwidget | saving frame as /media/ivar/HDD3TB2/IN9400_exercises/week1/volume_convolution_demo/data/random_small/rendering/output_052.png\n",
      "INFO:spimagine.gui.glwidget | saving frame as /media/ivar/HDD3TB2/IN9400_exercises/week1/volume_convolution_demo/data/random_small/rendering/output_053.png\n"
     ]
    },
    {
     "name": "stdout",
     "output_type": "stream",
     "text": [
      "record pos 52\n",
      "record pos 53\n"
     ]
    },
    {
     "name": "stderr",
     "output_type": "stream",
     "text": [
      "INFO:spimagine.gui.glwidget | saving frame as /media/ivar/HDD3TB2/IN9400_exercises/week1/volume_convolution_demo/data/random_small/rendering/output_054.png\n"
     ]
    },
    {
     "name": "stdout",
     "output_type": "stream",
     "text": [
      "record pos 54\n"
     ]
    },
    {
     "name": "stderr",
     "output_type": "stream",
     "text": [
      "INFO:spimagine.gui.glwidget | saving frame as /media/ivar/HDD3TB2/IN9400_exercises/week1/volume_convolution_demo/data/random_small/rendering/output_055.png\n"
     ]
    },
    {
     "name": "stdout",
     "output_type": "stream",
     "text": [
      "record pos 55\n"
     ]
    },
    {
     "name": "stderr",
     "output_type": "stream",
     "text": [
      "INFO:spimagine.gui.glwidget | saving frame as /media/ivar/HDD3TB2/IN9400_exercises/week1/volume_convolution_demo/data/random_small/rendering/output_056.png\n"
     ]
    },
    {
     "name": "stdout",
     "output_type": "stream",
     "text": [
      "record pos 56\n"
     ]
    },
    {
     "name": "stderr",
     "output_type": "stream",
     "text": [
      "INFO:spimagine.gui.glwidget | saving frame as /media/ivar/HDD3TB2/IN9400_exercises/week1/volume_convolution_demo/data/random_small/rendering/output_057.png\n"
     ]
    },
    {
     "name": "stdout",
     "output_type": "stream",
     "text": [
      "record pos 57\n",
      "record pos 58\n"
     ]
    },
    {
     "name": "stderr",
     "output_type": "stream",
     "text": [
      "INFO:spimagine.gui.glwidget | saving frame as /media/ivar/HDD3TB2/IN9400_exercises/week1/volume_convolution_demo/data/random_small/rendering/output_058.png\n",
      "INFO:spimagine.gui.glwidget | saving frame as /media/ivar/HDD3TB2/IN9400_exercises/week1/volume_convolution_demo/data/random_small/rendering/output_059.png\n",
      "INFO:spimagine.gui.glwidget | saving frame as /media/ivar/HDD3TB2/IN9400_exercises/week1/volume_convolution_demo/data/random_small/rendering/output_060.png\n"
     ]
    },
    {
     "name": "stdout",
     "output_type": "stream",
     "text": [
      "record pos 59\n",
      "record pos 60\n"
     ]
    },
    {
     "name": "stderr",
     "output_type": "stream",
     "text": [
      "INFO:spimagine.gui.glwidget | saving frame as /media/ivar/HDD3TB2/IN9400_exercises/week1/volume_convolution_demo/data/random_small/rendering/output_061.png\n"
     ]
    },
    {
     "name": "stdout",
     "output_type": "stream",
     "text": [
      "record pos 61\n"
     ]
    },
    {
     "name": "stderr",
     "output_type": "stream",
     "text": [
      "INFO:spimagine.gui.glwidget | saving frame as /media/ivar/HDD3TB2/IN9400_exercises/week1/volume_convolution_demo/data/random_small/rendering/output_062.png\n"
     ]
    },
    {
     "name": "stdout",
     "output_type": "stream",
     "text": [
      "record pos 62\n"
     ]
    },
    {
     "name": "stderr",
     "output_type": "stream",
     "text": [
      "INFO:spimagine.gui.glwidget | saving frame as /media/ivar/HDD3TB2/IN9400_exercises/week1/volume_convolution_demo/data/random_small/rendering/output_063.png\n"
     ]
    },
    {
     "name": "stdout",
     "output_type": "stream",
     "text": [
      "record pos 63\n"
     ]
    },
    {
     "name": "stderr",
     "output_type": "stream",
     "text": [
      "INFO:spimagine.gui.glwidget | saving frame as /media/ivar/HDD3TB2/IN9400_exercises/week1/volume_convolution_demo/data/random_small/rendering/output_064.png\n"
     ]
    },
    {
     "name": "stdout",
     "output_type": "stream",
     "text": [
      "record pos 64\n"
     ]
    },
    {
     "name": "stderr",
     "output_type": "stream",
     "text": [
      "INFO:spimagine.gui.glwidget | saving frame as /media/ivar/HDD3TB2/IN9400_exercises/week1/volume_convolution_demo/data/random_small/rendering/output_065.png\n",
      "INFO:spimagine.gui.glwidget | saving frame as /media/ivar/HDD3TB2/IN9400_exercises/week1/volume_convolution_demo/data/random_small/rendering/output_066.png\n"
     ]
    },
    {
     "name": "stdout",
     "output_type": "stream",
     "text": [
      "record pos 65\n",
      "record pos 66\n"
     ]
    },
    {
     "name": "stderr",
     "output_type": "stream",
     "text": [
      "INFO:spimagine.gui.glwidget | saving frame as /media/ivar/HDD3TB2/IN9400_exercises/week1/volume_convolution_demo/data/random_small/rendering/output_067.png\n",
      "INFO:spimagine.gui.glwidget | saving frame as /media/ivar/HDD3TB2/IN9400_exercises/week1/volume_convolution_demo/data/random_small/rendering/output_068.png\n"
     ]
    },
    {
     "name": "stdout",
     "output_type": "stream",
     "text": [
      "record pos 67\n",
      "record pos 68\n"
     ]
    },
    {
     "name": "stderr",
     "output_type": "stream",
     "text": [
      "INFO:spimagine.gui.glwidget | saving frame as /media/ivar/HDD3TB2/IN9400_exercises/week1/volume_convolution_demo/data/random_small/rendering/output_069.png\n"
     ]
    },
    {
     "name": "stdout",
     "output_type": "stream",
     "text": [
      "record pos 69\n",
      "record pos 70\n"
     ]
    },
    {
     "name": "stderr",
     "output_type": "stream",
     "text": [
      "INFO:spimagine.gui.glwidget | saving frame as /media/ivar/HDD3TB2/IN9400_exercises/week1/volume_convolution_demo/data/random_small/rendering/output_070.png\n",
      "INFO:spimagine.gui.glwidget | saving frame as /media/ivar/HDD3TB2/IN9400_exercises/week1/volume_convolution_demo/data/random_small/rendering/output_071.png\n"
     ]
    },
    {
     "name": "stdout",
     "output_type": "stream",
     "text": [
      "record pos 71\n"
     ]
    },
    {
     "name": "stderr",
     "output_type": "stream",
     "text": [
      "INFO:spimagine.gui.glwidget | saving frame as /media/ivar/HDD3TB2/IN9400_exercises/week1/volume_convolution_demo/data/random_small/rendering/output_072.png\n"
     ]
    },
    {
     "name": "stdout",
     "output_type": "stream",
     "text": [
      "record pos 72\n"
     ]
    },
    {
     "name": "stderr",
     "output_type": "stream",
     "text": [
      "INFO:spimagine.gui.glwidget | saving frame as /media/ivar/HDD3TB2/IN9400_exercises/week1/volume_convolution_demo/data/random_small/rendering/output_073.png\n"
     ]
    },
    {
     "name": "stdout",
     "output_type": "stream",
     "text": [
      "record pos 73\n"
     ]
    },
    {
     "name": "stderr",
     "output_type": "stream",
     "text": [
      "INFO:spimagine.gui.glwidget | saving frame as /media/ivar/HDD3TB2/IN9400_exercises/week1/volume_convolution_demo/data/random_small/rendering/output_074.png\n"
     ]
    },
    {
     "name": "stdout",
     "output_type": "stream",
     "text": [
      "record pos 74\n"
     ]
    },
    {
     "name": "stderr",
     "output_type": "stream",
     "text": [
      "INFO:spimagine.gui.glwidget | saving frame as /media/ivar/HDD3TB2/IN9400_exercises/week1/volume_convolution_demo/data/random_small/rendering/output_075.png\n"
     ]
    },
    {
     "name": "stdout",
     "output_type": "stream",
     "text": [
      "record pos 75\n"
     ]
    },
    {
     "name": "stderr",
     "output_type": "stream",
     "text": [
      "INFO:spimagine.gui.glwidget | saving frame as /media/ivar/HDD3TB2/IN9400_exercises/week1/volume_convolution_demo/data/random_small/rendering/output_076.png\n"
     ]
    },
    {
     "name": "stdout",
     "output_type": "stream",
     "text": [
      "record pos 76\n"
     ]
    },
    {
     "name": "stderr",
     "output_type": "stream",
     "text": [
      "INFO:spimagine.gui.glwidget | saving frame as /media/ivar/HDD3TB2/IN9400_exercises/week1/volume_convolution_demo/data/random_small/rendering/output_077.png\n"
     ]
    },
    {
     "name": "stdout",
     "output_type": "stream",
     "text": [
      "record pos 77\n"
     ]
    },
    {
     "name": "stderr",
     "output_type": "stream",
     "text": [
      "INFO:spimagine.gui.glwidget | saving frame as /media/ivar/HDD3TB2/IN9400_exercises/week1/volume_convolution_demo/data/random_small/rendering/output_078.png\n"
     ]
    },
    {
     "name": "stdout",
     "output_type": "stream",
     "text": [
      "record pos 78\n"
     ]
    },
    {
     "name": "stderr",
     "output_type": "stream",
     "text": [
      "INFO:spimagine.gui.glwidget | saving frame as /media/ivar/HDD3TB2/IN9400_exercises/week1/volume_convolution_demo/data/random_small/rendering/output_079.png\n"
     ]
    },
    {
     "name": "stdout",
     "output_type": "stream",
     "text": [
      "record pos 79\n"
     ]
    },
    {
     "name": "stderr",
     "output_type": "stream",
     "text": [
      "INFO:spimagine.gui.glwidget | saving frame as /media/ivar/HDD3TB2/IN9400_exercises/week1/volume_convolution_demo/data/random_small/rendering/output_080.png\n"
     ]
    },
    {
     "name": "stdout",
     "output_type": "stream",
     "text": [
      "record pos 80\n"
     ]
    },
    {
     "name": "stderr",
     "output_type": "stream",
     "text": [
      "INFO:spimagine.gui.glwidget | saving frame as /media/ivar/HDD3TB2/IN9400_exercises/week1/volume_convolution_demo/data/random_small/rendering/output_081.png\n",
      "INFO:spimagine.gui.glwidget | saving frame as /media/ivar/HDD3TB2/IN9400_exercises/week1/volume_convolution_demo/data/random_small/rendering/output_082.png\n"
     ]
    },
    {
     "name": "stdout",
     "output_type": "stream",
     "text": [
      "record pos 81\n",
      "record pos 82\n"
     ]
    },
    {
     "name": "stderr",
     "output_type": "stream",
     "text": [
      "INFO:spimagine.gui.glwidget | saving frame as /media/ivar/HDD3TB2/IN9400_exercises/week1/volume_convolution_demo/data/random_small/rendering/output_083.png\n"
     ]
    },
    {
     "name": "stdout",
     "output_type": "stream",
     "text": [
      "record pos 83\n"
     ]
    },
    {
     "name": "stderr",
     "output_type": "stream",
     "text": [
      "INFO:spimagine.gui.glwidget | saving frame as /media/ivar/HDD3TB2/IN9400_exercises/week1/volume_convolution_demo/data/random_small/rendering/output_084.png\n"
     ]
    },
    {
     "name": "stdout",
     "output_type": "stream",
     "text": [
      "record pos 84\n"
     ]
    },
    {
     "name": "stderr",
     "output_type": "stream",
     "text": [
      "INFO:spimagine.gui.glwidget | saving frame as /media/ivar/HDD3TB2/IN9400_exercises/week1/volume_convolution_demo/data/random_small/rendering/output_085.png\n"
     ]
    },
    {
     "name": "stdout",
     "output_type": "stream",
     "text": [
      "record pos 85\n"
     ]
    },
    {
     "name": "stderr",
     "output_type": "stream",
     "text": [
      "INFO:spimagine.gui.glwidget | saving frame as /media/ivar/HDD3TB2/IN9400_exercises/week1/volume_convolution_demo/data/random_small/rendering/output_086.png\n"
     ]
    },
    {
     "name": "stdout",
     "output_type": "stream",
     "text": [
      "record pos 86\n"
     ]
    },
    {
     "name": "stderr",
     "output_type": "stream",
     "text": [
      "INFO:spimagine.gui.glwidget | saving frame as /media/ivar/HDD3TB2/IN9400_exercises/week1/volume_convolution_demo/data/random_small/rendering/output_087.png\n"
     ]
    },
    {
     "name": "stdout",
     "output_type": "stream",
     "text": [
      "record pos 87\n"
     ]
    },
    {
     "name": "stderr",
     "output_type": "stream",
     "text": [
      "INFO:spimagine.gui.glwidget | saving frame as /media/ivar/HDD3TB2/IN9400_exercises/week1/volume_convolution_demo/data/random_small/rendering/output_088.png\n"
     ]
    },
    {
     "name": "stdout",
     "output_type": "stream",
     "text": [
      "record pos 88\n"
     ]
    },
    {
     "name": "stderr",
     "output_type": "stream",
     "text": [
      "INFO:spimagine.gui.glwidget | saving frame as /media/ivar/HDD3TB2/IN9400_exercises/week1/volume_convolution_demo/data/random_small/rendering/output_089.png\n"
     ]
    },
    {
     "name": "stdout",
     "output_type": "stream",
     "text": [
      "record pos 89\n"
     ]
    },
    {
     "name": "stderr",
     "output_type": "stream",
     "text": [
      "INFO:spimagine.gui.glwidget | saving frame as /media/ivar/HDD3TB2/IN9400_exercises/week1/volume_convolution_demo/data/random_small/rendering/output_090.png\n"
     ]
    },
    {
     "name": "stdout",
     "output_type": "stream",
     "text": [
      "record pos 90\n"
     ]
    },
    {
     "name": "stderr",
     "output_type": "stream",
     "text": [
      "INFO:spimagine.gui.glwidget | saving frame as /media/ivar/HDD3TB2/IN9400_exercises/week1/volume_convolution_demo/data/random_small/rendering/output_091.png\n"
     ]
    },
    {
     "name": "stdout",
     "output_type": "stream",
     "text": [
      "record pos 91\n",
      "record pos 92\n"
     ]
    },
    {
     "name": "stderr",
     "output_type": "stream",
     "text": [
      "INFO:spimagine.gui.glwidget | saving frame as /media/ivar/HDD3TB2/IN9400_exercises/week1/volume_convolution_demo/data/random_small/rendering/output_092.png\n",
      "INFO:spimagine.gui.glwidget | saving frame as /media/ivar/HDD3TB2/IN9400_exercises/week1/volume_convolution_demo/data/random_small/rendering/output_093.png\n",
      "INFO:spimagine.gui.glwidget | saving frame as /media/ivar/HDD3TB2/IN9400_exercises/week1/volume_convolution_demo/data/random_small/rendering/output_094.png\n"
     ]
    },
    {
     "name": "stdout",
     "output_type": "stream",
     "text": [
      "record pos 93\n",
      "record pos 94\n"
     ]
    },
    {
     "name": "stderr",
     "output_type": "stream",
     "text": [
      "INFO:spimagine.gui.glwidget | saving frame as /media/ivar/HDD3TB2/IN9400_exercises/week1/volume_convolution_demo/data/random_small/rendering/output_095.png\n"
     ]
    },
    {
     "name": "stdout",
     "output_type": "stream",
     "text": [
      "record pos 95\n"
     ]
    },
    {
     "name": "stderr",
     "output_type": "stream",
     "text": [
      "INFO:spimagine.gui.glwidget | saving frame as /media/ivar/HDD3TB2/IN9400_exercises/week1/volume_convolution_demo/data/random_small/rendering/output_096.png\n",
      "INFO:spimagine.gui.glwidget | saving frame as /media/ivar/HDD3TB2/IN9400_exercises/week1/volume_convolution_demo/data/random_small/rendering/output_097.png\n"
     ]
    },
    {
     "name": "stdout",
     "output_type": "stream",
     "text": [
      "record pos 96\n",
      "record pos 97\n"
     ]
    },
    {
     "name": "stderr",
     "output_type": "stream",
     "text": [
      "INFO:spimagine.gui.glwidget | saving frame as /media/ivar/HDD3TB2/IN9400_exercises/week1/volume_convolution_demo/data/random_small/rendering/output_098.png\n",
      "INFO:spimagine.gui.glwidget | saving frame as /media/ivar/HDD3TB2/IN9400_exercises/week1/volume_convolution_demo/data/random_small/rendering/output_099.png\n"
     ]
    },
    {
     "name": "stdout",
     "output_type": "stream",
     "text": [
      "record pos 98\n",
      "record pos 99\n"
     ]
    },
    {
     "name": "stderr",
     "output_type": "stream",
     "text": [
      "INFO:spimagine.gui.glwidget | saving frame as /media/ivar/HDD3TB2/IN9400_exercises/week1/volume_convolution_demo/data/random_small/rendering/output_100.png\n"
     ]
    },
    {
     "name": "stdout",
     "output_type": "stream",
     "text": [
      "record pos 100\n"
     ]
    },
    {
     "name": "stderr",
     "output_type": "stream",
     "text": [
      "INFO:spimagine.gui.glwidget | saving frame as /media/ivar/HDD3TB2/IN9400_exercises/week1/volume_convolution_demo/data/random_small/rendering/output_101.png\n",
      "INFO:spimagine.gui.glwidget | saving frame as /media/ivar/HDD3TB2/IN9400_exercises/week1/volume_convolution_demo/data/random_small/rendering/output_002.png\n"
     ]
    },
    {
     "name": "stdout",
     "output_type": "stream",
     "text": [
      "record pos 1\n",
      "record pos 2\n"
     ]
    },
    {
     "name": "stderr",
     "output_type": "stream",
     "text": [
      "INFO:spimagine.gui.glwidget | saving frame as /media/ivar/HDD3TB2/IN9400_exercises/week1/volume_convolution_demo/data/random_small/rendering/output_003.png\n"
     ]
    },
    {
     "name": "stdout",
     "output_type": "stream",
     "text": [
      "record pos 3\n"
     ]
    },
    {
     "name": "stderr",
     "output_type": "stream",
     "text": [
      "INFO:spimagine.gui.glwidget | saving frame as /media/ivar/HDD3TB2/IN9400_exercises/week1/volume_convolution_demo/data/random_small/rendering/output_004.png\n"
     ]
    },
    {
     "name": "stdout",
     "output_type": "stream",
     "text": [
      "record pos 4\n"
     ]
    },
    {
     "name": "stderr",
     "output_type": "stream",
     "text": [
      "INFO:spimagine.gui.glwidget | saving frame as /media/ivar/HDD3TB2/IN9400_exercises/week1/volume_convolution_demo/data/random_small/rendering/output_005.png\n"
     ]
    },
    {
     "name": "stdout",
     "output_type": "stream",
     "text": [
      "record pos 5\n"
     ]
    },
    {
     "name": "stderr",
     "output_type": "stream",
     "text": [
      "INFO:spimagine.gui.glwidget | saving frame as /media/ivar/HDD3TB2/IN9400_exercises/week1/volume_convolution_demo/data/random_small/rendering/output_006.png\n"
     ]
    },
    {
     "name": "stdout",
     "output_type": "stream",
     "text": [
      "record pos 6\n"
     ]
    },
    {
     "name": "stderr",
     "output_type": "stream",
     "text": [
      "INFO:spimagine.gui.glwidget | saving frame as /media/ivar/HDD3TB2/IN9400_exercises/week1/volume_convolution_demo/data/random_small/rendering/output_007.png\n"
     ]
    },
    {
     "name": "stdout",
     "output_type": "stream",
     "text": [
      "record pos 7\n"
     ]
    },
    {
     "name": "stderr",
     "output_type": "stream",
     "text": [
      "INFO:spimagine.gui.glwidget | saving frame as /media/ivar/HDD3TB2/IN9400_exercises/week1/volume_convolution_demo/data/random_small/rendering/output_008.png\n"
     ]
    },
    {
     "name": "stdout",
     "output_type": "stream",
     "text": [
      "record pos 8\n"
     ]
    },
    {
     "name": "stderr",
     "output_type": "stream",
     "text": [
      "INFO:spimagine.gui.glwidget | saving frame as /media/ivar/HDD3TB2/IN9400_exercises/week1/volume_convolution_demo/data/random_small/rendering/output_009.png\n"
     ]
    },
    {
     "name": "stdout",
     "output_type": "stream",
     "text": [
      "record pos 9\n"
     ]
    },
    {
     "name": "stderr",
     "output_type": "stream",
     "text": [
      "INFO:spimagine.gui.glwidget | saving frame as /media/ivar/HDD3TB2/IN9400_exercises/week1/volume_convolution_demo/data/random_small/rendering/output_010.png\n"
     ]
    },
    {
     "name": "stdout",
     "output_type": "stream",
     "text": [
      "record pos 10\n"
     ]
    },
    {
     "name": "stderr",
     "output_type": "stream",
     "text": [
      "INFO:spimagine.gui.glwidget | saving frame as /media/ivar/HDD3TB2/IN9400_exercises/week1/volume_convolution_demo/data/random_small/rendering/output_011.png\n"
     ]
    },
    {
     "name": "stdout",
     "output_type": "stream",
     "text": [
      "record pos 11\n"
     ]
    },
    {
     "name": "stderr",
     "output_type": "stream",
     "text": [
      "INFO:spimagine.gui.glwidget | saving frame as /media/ivar/HDD3TB2/IN9400_exercises/week1/volume_convolution_demo/data/random_small/rendering/output_012.png\n"
     ]
    },
    {
     "name": "stdout",
     "output_type": "stream",
     "text": [
      "record pos 12\n"
     ]
    },
    {
     "name": "stderr",
     "output_type": "stream",
     "text": [
      "INFO:spimagine.gui.glwidget | saving frame as /media/ivar/HDD3TB2/IN9400_exercises/week1/volume_convolution_demo/data/random_small/rendering/output_013.png\n"
     ]
    },
    {
     "name": "stdout",
     "output_type": "stream",
     "text": [
      "record pos 13\n"
     ]
    },
    {
     "name": "stderr",
     "output_type": "stream",
     "text": [
      "INFO:spimagine.gui.glwidget | saving frame as /media/ivar/HDD3TB2/IN9400_exercises/week1/volume_convolution_demo/data/random_small/rendering/output_014.png\n",
      "INFO:spimagine.gui.glwidget | saving frame as /media/ivar/HDD3TB2/IN9400_exercises/week1/volume_convolution_demo/data/random_small/rendering/output_015.png\n"
     ]
    },
    {
     "name": "stdout",
     "output_type": "stream",
     "text": [
      "record pos 14\n",
      "record pos 15\n"
     ]
    },
    {
     "name": "stderr",
     "output_type": "stream",
     "text": [
      "INFO:spimagine.gui.glwidget | saving frame as /media/ivar/HDD3TB2/IN9400_exercises/week1/volume_convolution_demo/data/random_small/rendering/output_016.png\n"
     ]
    },
    {
     "name": "stdout",
     "output_type": "stream",
     "text": [
      "record pos 16\n"
     ]
    },
    {
     "name": "stderr",
     "output_type": "stream",
     "text": [
      "INFO:spimagine.gui.glwidget | saving frame as /media/ivar/HDD3TB2/IN9400_exercises/week1/volume_convolution_demo/data/random_small/rendering/output_017.png\n"
     ]
    },
    {
     "name": "stdout",
     "output_type": "stream",
     "text": [
      "record pos 17\n"
     ]
    },
    {
     "name": "stderr",
     "output_type": "stream",
     "text": [
      "INFO:spimagine.gui.glwidget | saving frame as /media/ivar/HDD3TB2/IN9400_exercises/week1/volume_convolution_demo/data/random_small/rendering/output_018.png\n"
     ]
    },
    {
     "name": "stdout",
     "output_type": "stream",
     "text": [
      "record pos 18\n"
     ]
    },
    {
     "name": "stderr",
     "output_type": "stream",
     "text": [
      "INFO:spimagine.gui.glwidget | saving frame as /media/ivar/HDD3TB2/IN9400_exercises/week1/volume_convolution_demo/data/random_small/rendering/output_019.png\n"
     ]
    },
    {
     "name": "stdout",
     "output_type": "stream",
     "text": [
      "record pos 19\n"
     ]
    },
    {
     "name": "stderr",
     "output_type": "stream",
     "text": [
      "INFO:spimagine.gui.glwidget | saving frame as /media/ivar/HDD3TB2/IN9400_exercises/week1/volume_convolution_demo/data/random_small/rendering/output_020.png\n"
     ]
    },
    {
     "name": "stdout",
     "output_type": "stream",
     "text": [
      "record pos 20\n"
     ]
    },
    {
     "name": "stderr",
     "output_type": "stream",
     "text": [
      "INFO:spimagine.gui.glwidget | saving frame as /media/ivar/HDD3TB2/IN9400_exercises/week1/volume_convolution_demo/data/random_small/rendering/output_021.png\n"
     ]
    },
    {
     "name": "stdout",
     "output_type": "stream",
     "text": [
      "record pos 21\n"
     ]
    },
    {
     "name": "stderr",
     "output_type": "stream",
     "text": [
      "INFO:spimagine.gui.glwidget | saving frame as /media/ivar/HDD3TB2/IN9400_exercises/week1/volume_convolution_demo/data/random_small/rendering/output_022.png\n"
     ]
    },
    {
     "name": "stdout",
     "output_type": "stream",
     "text": [
      "record pos 22\n"
     ]
    },
    {
     "name": "stderr",
     "output_type": "stream",
     "text": [
      "INFO:spimagine.gui.glwidget | saving frame as /media/ivar/HDD3TB2/IN9400_exercises/week1/volume_convolution_demo/data/random_small/rendering/output_023.png\n"
     ]
    },
    {
     "name": "stdout",
     "output_type": "stream",
     "text": [
      "record pos 23\n"
     ]
    },
    {
     "name": "stderr",
     "output_type": "stream",
     "text": [
      "INFO:spimagine.gui.glwidget | saving frame as /media/ivar/HDD3TB2/IN9400_exercises/week1/volume_convolution_demo/data/random_small/rendering/output_024.png\n"
     ]
    },
    {
     "name": "stdout",
     "output_type": "stream",
     "text": [
      "record pos 24\n"
     ]
    },
    {
     "name": "stderr",
     "output_type": "stream",
     "text": [
      "INFO:spimagine.gui.glwidget | saving frame as /media/ivar/HDD3TB2/IN9400_exercises/week1/volume_convolution_demo/data/random_small/rendering/output_025.png\n"
     ]
    },
    {
     "name": "stdout",
     "output_type": "stream",
     "text": [
      "record pos 25\n"
     ]
    },
    {
     "name": "stderr",
     "output_type": "stream",
     "text": [
      "INFO:spimagine.gui.glwidget | saving frame as /media/ivar/HDD3TB2/IN9400_exercises/week1/volume_convolution_demo/data/random_small/rendering/output_026.png\n"
     ]
    },
    {
     "name": "stdout",
     "output_type": "stream",
     "text": [
      "record pos 26\n"
     ]
    },
    {
     "name": "stderr",
     "output_type": "stream",
     "text": [
      "INFO:spimagine.gui.glwidget | saving frame as /media/ivar/HDD3TB2/IN9400_exercises/week1/volume_convolution_demo/data/random_small/rendering/output_027.png\n"
     ]
    },
    {
     "name": "stdout",
     "output_type": "stream",
     "text": [
      "record pos 27\n"
     ]
    },
    {
     "name": "stderr",
     "output_type": "stream",
     "text": [
      "INFO:spimagine.gui.glwidget | saving frame as /media/ivar/HDD3TB2/IN9400_exercises/week1/volume_convolution_demo/data/random_small/rendering/output_028.png\n"
     ]
    },
    {
     "name": "stdout",
     "output_type": "stream",
     "text": [
      "record pos 28\n"
     ]
    },
    {
     "name": "stderr",
     "output_type": "stream",
     "text": [
      "INFO:spimagine.gui.glwidget | saving frame as /media/ivar/HDD3TB2/IN9400_exercises/week1/volume_convolution_demo/data/random_small/rendering/output_029.png\n"
     ]
    },
    {
     "name": "stdout",
     "output_type": "stream",
     "text": [
      "record pos 29\n"
     ]
    },
    {
     "name": "stderr",
     "output_type": "stream",
     "text": [
      "INFO:spimagine.gui.glwidget | saving frame as /media/ivar/HDD3TB2/IN9400_exercises/week1/volume_convolution_demo/data/random_small/rendering/output_030.png\n"
     ]
    },
    {
     "name": "stdout",
     "output_type": "stream",
     "text": [
      "record pos 30\n"
     ]
    },
    {
     "name": "stderr",
     "output_type": "stream",
     "text": [
      "INFO:spimagine.gui.glwidget | saving frame as /media/ivar/HDD3TB2/IN9400_exercises/week1/volume_convolution_demo/data/random_small/rendering/output_031.png\n"
     ]
    },
    {
     "name": "stdout",
     "output_type": "stream",
     "text": [
      "record pos 31\n"
     ]
    },
    {
     "name": "stderr",
     "output_type": "stream",
     "text": [
      "INFO:spimagine.gui.glwidget | saving frame as /media/ivar/HDD3TB2/IN9400_exercises/week1/volume_convolution_demo/data/random_small/rendering/output_032.png\n"
     ]
    },
    {
     "name": "stdout",
     "output_type": "stream",
     "text": [
      "record pos 32\n"
     ]
    },
    {
     "name": "stderr",
     "output_type": "stream",
     "text": [
      "INFO:spimagine.gui.glwidget | saving frame as /media/ivar/HDD3TB2/IN9400_exercises/week1/volume_convolution_demo/data/random_small/rendering/output_033.png\n"
     ]
    },
    {
     "name": "stdout",
     "output_type": "stream",
     "text": [
      "record pos 33\n"
     ]
    },
    {
     "name": "stderr",
     "output_type": "stream",
     "text": [
      "INFO:spimagine.gui.glwidget | saving frame as /media/ivar/HDD3TB2/IN9400_exercises/week1/volume_convolution_demo/data/random_small/rendering/output_034.png\n"
     ]
    },
    {
     "name": "stdout",
     "output_type": "stream",
     "text": [
      "record pos 34\n"
     ]
    },
    {
     "name": "stderr",
     "output_type": "stream",
     "text": [
      "INFO:spimagine.gui.glwidget | saving frame as /media/ivar/HDD3TB2/IN9400_exercises/week1/volume_convolution_demo/data/random_small/rendering/output_035.png\n"
     ]
    },
    {
     "name": "stdout",
     "output_type": "stream",
     "text": [
      "record pos 35\n"
     ]
    },
    {
     "name": "stderr",
     "output_type": "stream",
     "text": [
      "INFO:spimagine.gui.glwidget | saving frame as /media/ivar/HDD3TB2/IN9400_exercises/week1/volume_convolution_demo/data/random_small/rendering/output_036.png\n"
     ]
    },
    {
     "name": "stdout",
     "output_type": "stream",
     "text": [
      "record pos 36\n"
     ]
    },
    {
     "name": "stderr",
     "output_type": "stream",
     "text": [
      "INFO:spimagine.gui.glwidget | saving frame as /media/ivar/HDD3TB2/IN9400_exercises/week1/volume_convolution_demo/data/random_small/rendering/output_037.png\n"
     ]
    },
    {
     "name": "stdout",
     "output_type": "stream",
     "text": [
      "record pos 37\n"
     ]
    },
    {
     "name": "stderr",
     "output_type": "stream",
     "text": [
      "INFO:spimagine.gui.glwidget | saving frame as /media/ivar/HDD3TB2/IN9400_exercises/week1/volume_convolution_demo/data/random_small/rendering/output_038.png\n"
     ]
    },
    {
     "name": "stdout",
     "output_type": "stream",
     "text": [
      "record pos 38\n"
     ]
    },
    {
     "name": "stderr",
     "output_type": "stream",
     "text": [
      "INFO:spimagine.gui.glwidget | saving frame as /media/ivar/HDD3TB2/IN9400_exercises/week1/volume_convolution_demo/data/random_small/rendering/output_039.png\n"
     ]
    },
    {
     "name": "stdout",
     "output_type": "stream",
     "text": [
      "record pos 39\n"
     ]
    },
    {
     "name": "stderr",
     "output_type": "stream",
     "text": [
      "INFO:spimagine.gui.glwidget | saving frame as /media/ivar/HDD3TB2/IN9400_exercises/week1/volume_convolution_demo/data/random_small/rendering/output_040.png\n"
     ]
    },
    {
     "name": "stdout",
     "output_type": "stream",
     "text": [
      "record pos 40\n"
     ]
    },
    {
     "name": "stderr",
     "output_type": "stream",
     "text": [
      "INFO:spimagine.gui.glwidget | saving frame as /media/ivar/HDD3TB2/IN9400_exercises/week1/volume_convolution_demo/data/random_small/rendering/output_041.png\n"
     ]
    },
    {
     "name": "stdout",
     "output_type": "stream",
     "text": [
      "record pos 41\n"
     ]
    },
    {
     "name": "stderr",
     "output_type": "stream",
     "text": [
      "INFO:spimagine.gui.glwidget | saving frame as /media/ivar/HDD3TB2/IN9400_exercises/week1/volume_convolution_demo/data/random_small/rendering/output_042.png\n"
     ]
    },
    {
     "name": "stdout",
     "output_type": "stream",
     "text": [
      "record pos 42\n"
     ]
    },
    {
     "name": "stderr",
     "output_type": "stream",
     "text": [
      "INFO:spimagine.gui.glwidget | saving frame as /media/ivar/HDD3TB2/IN9400_exercises/week1/volume_convolution_demo/data/random_small/rendering/output_043.png\n"
     ]
    },
    {
     "name": "stdout",
     "output_type": "stream",
     "text": [
      "record pos 43\n"
     ]
    },
    {
     "name": "stderr",
     "output_type": "stream",
     "text": [
      "INFO:spimagine.gui.glwidget | saving frame as /media/ivar/HDD3TB2/IN9400_exercises/week1/volume_convolution_demo/data/random_small/rendering/output_044.png\n"
     ]
    },
    {
     "name": "stdout",
     "output_type": "stream",
     "text": [
      "record pos 44\n"
     ]
    },
    {
     "name": "stderr",
     "output_type": "stream",
     "text": [
      "INFO:spimagine.gui.glwidget | saving frame as /media/ivar/HDD3TB2/IN9400_exercises/week1/volume_convolution_demo/data/random_small/rendering/output_045.png\n"
     ]
    },
    {
     "name": "stdout",
     "output_type": "stream",
     "text": [
      "record pos 45\n"
     ]
    },
    {
     "name": "stderr",
     "output_type": "stream",
     "text": [
      "INFO:spimagine.gui.glwidget | saving frame as /media/ivar/HDD3TB2/IN9400_exercises/week1/volume_convolution_demo/data/random_small/rendering/output_046.png\n"
     ]
    },
    {
     "name": "stdout",
     "output_type": "stream",
     "text": [
      "record pos 46\n"
     ]
    },
    {
     "name": "stderr",
     "output_type": "stream",
     "text": [
      "INFO:spimagine.gui.glwidget | saving frame as /media/ivar/HDD3TB2/IN9400_exercises/week1/volume_convolution_demo/data/random_small/rendering/output_047.png\n"
     ]
    },
    {
     "name": "stdout",
     "output_type": "stream",
     "text": [
      "record pos 47\n"
     ]
    },
    {
     "name": "stderr",
     "output_type": "stream",
     "text": [
      "INFO:spimagine.gui.glwidget | saving frame as /media/ivar/HDD3TB2/IN9400_exercises/week1/volume_convolution_demo/data/random_small/rendering/output_048.png\n"
     ]
    },
    {
     "name": "stdout",
     "output_type": "stream",
     "text": [
      "record pos 48\n"
     ]
    },
    {
     "name": "stderr",
     "output_type": "stream",
     "text": [
      "INFO:spimagine.gui.glwidget | saving frame as /media/ivar/HDD3TB2/IN9400_exercises/week1/volume_convolution_demo/data/random_small/rendering/output_049.png\n"
     ]
    },
    {
     "name": "stdout",
     "output_type": "stream",
     "text": [
      "record pos 49\n",
      "record pos 50\n"
     ]
    },
    {
     "name": "stderr",
     "output_type": "stream",
     "text": [
      "INFO:spimagine.gui.glwidget | saving frame as /media/ivar/HDD3TB2/IN9400_exercises/week1/volume_convolution_demo/data/random_small/rendering/output_050.png\n",
      "INFO:spimagine.gui.glwidget | saving frame as /media/ivar/HDD3TB2/IN9400_exercises/week1/volume_convolution_demo/data/random_small/rendering/output_051.png\n"
     ]
    },
    {
     "name": "stdout",
     "output_type": "stream",
     "text": [
      "record pos 51\n"
     ]
    },
    {
     "name": "stderr",
     "output_type": "stream",
     "text": [
      "INFO:spimagine.gui.glwidget | saving frame as /media/ivar/HDD3TB2/IN9400_exercises/week1/volume_convolution_demo/data/random_small/rendering/output_052.png\n"
     ]
    },
    {
     "name": "stdout",
     "output_type": "stream",
     "text": [
      "record pos 52\n"
     ]
    },
    {
     "name": "stderr",
     "output_type": "stream",
     "text": [
      "INFO:spimagine.gui.glwidget | saving frame as /media/ivar/HDD3TB2/IN9400_exercises/week1/volume_convolution_demo/data/random_small/rendering/output_053.png\n"
     ]
    },
    {
     "name": "stdout",
     "output_type": "stream",
     "text": [
      "record pos 53\n"
     ]
    },
    {
     "name": "stderr",
     "output_type": "stream",
     "text": [
      "INFO:spimagine.gui.glwidget | saving frame as /media/ivar/HDD3TB2/IN9400_exercises/week1/volume_convolution_demo/data/random_small/rendering/output_054.png\n"
     ]
    },
    {
     "name": "stdout",
     "output_type": "stream",
     "text": [
      "record pos 54\n"
     ]
    },
    {
     "name": "stderr",
     "output_type": "stream",
     "text": [
      "INFO:spimagine.gui.glwidget | saving frame as /media/ivar/HDD3TB2/IN9400_exercises/week1/volume_convolution_demo/data/random_small/rendering/output_055.png\n"
     ]
    },
    {
     "name": "stdout",
     "output_type": "stream",
     "text": [
      "record pos 55\n"
     ]
    },
    {
     "name": "stderr",
     "output_type": "stream",
     "text": [
      "INFO:spimagine.gui.glwidget | saving frame as /media/ivar/HDD3TB2/IN9400_exercises/week1/volume_convolution_demo/data/random_small/rendering/output_056.png\n"
     ]
    },
    {
     "name": "stdout",
     "output_type": "stream",
     "text": [
      "record pos 56\n"
     ]
    },
    {
     "name": "stderr",
     "output_type": "stream",
     "text": [
      "INFO:spimagine.gui.glwidget | saving frame as /media/ivar/HDD3TB2/IN9400_exercises/week1/volume_convolution_demo/data/random_small/rendering/output_057.png\n"
     ]
    },
    {
     "name": "stdout",
     "output_type": "stream",
     "text": [
      "record pos 57\n"
     ]
    },
    {
     "name": "stderr",
     "output_type": "stream",
     "text": [
      "INFO:spimagine.gui.glwidget | saving frame as /media/ivar/HDD3TB2/IN9400_exercises/week1/volume_convolution_demo/data/random_small/rendering/output_058.png\n"
     ]
    },
    {
     "name": "stdout",
     "output_type": "stream",
     "text": [
      "record pos 58\n"
     ]
    },
    {
     "name": "stderr",
     "output_type": "stream",
     "text": [
      "INFO:spimagine.gui.glwidget | saving frame as /media/ivar/HDD3TB2/IN9400_exercises/week1/volume_convolution_demo/data/random_small/rendering/output_059.png\n"
     ]
    },
    {
     "name": "stdout",
     "output_type": "stream",
     "text": [
      "record pos 59\n"
     ]
    },
    {
     "name": "stderr",
     "output_type": "stream",
     "text": [
      "INFO:spimagine.gui.glwidget | saving frame as /media/ivar/HDD3TB2/IN9400_exercises/week1/volume_convolution_demo/data/random_small/rendering/output_060.png\n"
     ]
    },
    {
     "name": "stdout",
     "output_type": "stream",
     "text": [
      "record pos 60\n"
     ]
    },
    {
     "name": "stderr",
     "output_type": "stream",
     "text": [
      "INFO:spimagine.gui.glwidget | saving frame as /media/ivar/HDD3TB2/IN9400_exercises/week1/volume_convolution_demo/data/random_small/rendering/output_061.png\n"
     ]
    },
    {
     "name": "stdout",
     "output_type": "stream",
     "text": [
      "record pos 61\n"
     ]
    },
    {
     "name": "stderr",
     "output_type": "stream",
     "text": [
      "INFO:spimagine.gui.glwidget | saving frame as /media/ivar/HDD3TB2/IN9400_exercises/week1/volume_convolution_demo/data/random_small/rendering/output_062.png\n"
     ]
    },
    {
     "name": "stdout",
     "output_type": "stream",
     "text": [
      "record pos 62\n"
     ]
    },
    {
     "name": "stderr",
     "output_type": "stream",
     "text": [
      "INFO:spimagine.gui.glwidget | saving frame as /media/ivar/HDD3TB2/IN9400_exercises/week1/volume_convolution_demo/data/random_small/rendering/output_063.png\n",
      "INFO:spimagine.gui.glwidget | saving frame as /media/ivar/HDD3TB2/IN9400_exercises/week1/volume_convolution_demo/data/random_small/rendering/output_064.png\n"
     ]
    },
    {
     "name": "stdout",
     "output_type": "stream",
     "text": [
      "record pos 63\n",
      "record pos 64\n"
     ]
    },
    {
     "name": "stderr",
     "output_type": "stream",
     "text": [
      "INFO:spimagine.gui.glwidget | saving frame as /media/ivar/HDD3TB2/IN9400_exercises/week1/volume_convolution_demo/data/random_small/rendering/output_065.png\n"
     ]
    },
    {
     "name": "stdout",
     "output_type": "stream",
     "text": [
      "record pos 65\n"
     ]
    },
    {
     "name": "stderr",
     "output_type": "stream",
     "text": [
      "INFO:spimagine.gui.glwidget | saving frame as /media/ivar/HDD3TB2/IN9400_exercises/week1/volume_convolution_demo/data/random_small/rendering/output_066.png\n"
     ]
    },
    {
     "name": "stdout",
     "output_type": "stream",
     "text": [
      "record pos 66\n"
     ]
    },
    {
     "name": "stderr",
     "output_type": "stream",
     "text": [
      "INFO:spimagine.gui.glwidget | saving frame as /media/ivar/HDD3TB2/IN9400_exercises/week1/volume_convolution_demo/data/random_small/rendering/output_067.png\n"
     ]
    },
    {
     "name": "stdout",
     "output_type": "stream",
     "text": [
      "record pos 67\n"
     ]
    },
    {
     "name": "stderr",
     "output_type": "stream",
     "text": [
      "INFO:spimagine.gui.glwidget | saving frame as /media/ivar/HDD3TB2/IN9400_exercises/week1/volume_convolution_demo/data/random_small/rendering/output_068.png\n"
     ]
    },
    {
     "name": "stdout",
     "output_type": "stream",
     "text": [
      "record pos 68\n"
     ]
    },
    {
     "name": "stderr",
     "output_type": "stream",
     "text": [
      "INFO:spimagine.gui.glwidget | saving frame as /media/ivar/HDD3TB2/IN9400_exercises/week1/volume_convolution_demo/data/random_small/rendering/output_069.png\n"
     ]
    },
    {
     "name": "stdout",
     "output_type": "stream",
     "text": [
      "record pos 69\n"
     ]
    },
    {
     "name": "stderr",
     "output_type": "stream",
     "text": [
      "INFO:spimagine.gui.glwidget | saving frame as /media/ivar/HDD3TB2/IN9400_exercises/week1/volume_convolution_demo/data/random_small/rendering/output_070.png\n"
     ]
    },
    {
     "name": "stdout",
     "output_type": "stream",
     "text": [
      "record pos 70\n"
     ]
    },
    {
     "name": "stderr",
     "output_type": "stream",
     "text": [
      "INFO:spimagine.gui.glwidget | saving frame as /media/ivar/HDD3TB2/IN9400_exercises/week1/volume_convolution_demo/data/random_small/rendering/output_071.png\n"
     ]
    },
    {
     "name": "stdout",
     "output_type": "stream",
     "text": [
      "record pos 71\n"
     ]
    },
    {
     "name": "stderr",
     "output_type": "stream",
     "text": [
      "INFO:spimagine.gui.glwidget | saving frame as /media/ivar/HDD3TB2/IN9400_exercises/week1/volume_convolution_demo/data/random_small/rendering/output_072.png\n"
     ]
    },
    {
     "name": "stdout",
     "output_type": "stream",
     "text": [
      "record pos 72\n"
     ]
    },
    {
     "name": "stderr",
     "output_type": "stream",
     "text": [
      "INFO:spimagine.gui.glwidget | saving frame as /media/ivar/HDD3TB2/IN9400_exercises/week1/volume_convolution_demo/data/random_small/rendering/output_073.png\n"
     ]
    },
    {
     "name": "stdout",
     "output_type": "stream",
     "text": [
      "record pos 73\n"
     ]
    },
    {
     "name": "stderr",
     "output_type": "stream",
     "text": [
      "INFO:spimagine.gui.glwidget | saving frame as /media/ivar/HDD3TB2/IN9400_exercises/week1/volume_convolution_demo/data/random_small/rendering/output_074.png\n"
     ]
    },
    {
     "name": "stdout",
     "output_type": "stream",
     "text": [
      "record pos 74\n"
     ]
    },
    {
     "name": "stderr",
     "output_type": "stream",
     "text": [
      "INFO:spimagine.gui.glwidget | saving frame as /media/ivar/HDD3TB2/IN9400_exercises/week1/volume_convolution_demo/data/random_small/rendering/output_075.png\n"
     ]
    },
    {
     "name": "stdout",
     "output_type": "stream",
     "text": [
      "record pos 75\n"
     ]
    },
    {
     "name": "stderr",
     "output_type": "stream",
     "text": [
      "INFO:spimagine.gui.glwidget | saving frame as /media/ivar/HDD3TB2/IN9400_exercises/week1/volume_convolution_demo/data/random_small/rendering/output_076.png\n"
     ]
    },
    {
     "name": "stdout",
     "output_type": "stream",
     "text": [
      "record pos 76\n"
     ]
    },
    {
     "name": "stderr",
     "output_type": "stream",
     "text": [
      "INFO:spimagine.gui.glwidget | saving frame as /media/ivar/HDD3TB2/IN9400_exercises/week1/volume_convolution_demo/data/random_small/rendering/output_077.png\n"
     ]
    },
    {
     "name": "stdout",
     "output_type": "stream",
     "text": [
      "record pos 77\n"
     ]
    },
    {
     "name": "stderr",
     "output_type": "stream",
     "text": [
      "INFO:spimagine.gui.glwidget | saving frame as /media/ivar/HDD3TB2/IN9400_exercises/week1/volume_convolution_demo/data/random_small/rendering/output_078.png\n"
     ]
    },
    {
     "name": "stdout",
     "output_type": "stream",
     "text": [
      "record pos 78\n"
     ]
    },
    {
     "name": "stderr",
     "output_type": "stream",
     "text": [
      "INFO:spimagine.gui.glwidget | saving frame as /media/ivar/HDD3TB2/IN9400_exercises/week1/volume_convolution_demo/data/random_small/rendering/output_079.png\n"
     ]
    },
    {
     "name": "stdout",
     "output_type": "stream",
     "text": [
      "record pos 79\n"
     ]
    },
    {
     "name": "stderr",
     "output_type": "stream",
     "text": [
      "INFO:spimagine.gui.glwidget | saving frame as /media/ivar/HDD3TB2/IN9400_exercises/week1/volume_convolution_demo/data/random_small/rendering/output_080.png\n"
     ]
    },
    {
     "name": "stdout",
     "output_type": "stream",
     "text": [
      "record pos 80\n"
     ]
    },
    {
     "name": "stderr",
     "output_type": "stream",
     "text": [
      "INFO:spimagine.gui.glwidget | saving frame as /media/ivar/HDD3TB2/IN9400_exercises/week1/volume_convolution_demo/data/random_small/rendering/output_081.png\n"
     ]
    },
    {
     "name": "stdout",
     "output_type": "stream",
     "text": [
      "record pos 81\n"
     ]
    },
    {
     "name": "stderr",
     "output_type": "stream",
     "text": [
      "INFO:spimagine.gui.glwidget | saving frame as /media/ivar/HDD3TB2/IN9400_exercises/week1/volume_convolution_demo/data/random_small/rendering/output_082.png\n"
     ]
    },
    {
     "name": "stdout",
     "output_type": "stream",
     "text": [
      "record pos 82\n"
     ]
    },
    {
     "name": "stderr",
     "output_type": "stream",
     "text": [
      "INFO:spimagine.gui.glwidget | saving frame as /media/ivar/HDD3TB2/IN9400_exercises/week1/volume_convolution_demo/data/random_small/rendering/output_083.png\n"
     ]
    },
    {
     "name": "stdout",
     "output_type": "stream",
     "text": [
      "record pos 83\n"
     ]
    },
    {
     "name": "stderr",
     "output_type": "stream",
     "text": [
      "INFO:spimagine.gui.glwidget | saving frame as /media/ivar/HDD3TB2/IN9400_exercises/week1/volume_convolution_demo/data/random_small/rendering/output_084.png\n"
     ]
    },
    {
     "name": "stdout",
     "output_type": "stream",
     "text": [
      "record pos 84\n"
     ]
    },
    {
     "name": "stderr",
     "output_type": "stream",
     "text": [
      "INFO:spimagine.gui.glwidget | saving frame as /media/ivar/HDD3TB2/IN9400_exercises/week1/volume_convolution_demo/data/random_small/rendering/output_085.png\n"
     ]
    },
    {
     "name": "stdout",
     "output_type": "stream",
     "text": [
      "record pos 85\n"
     ]
    },
    {
     "name": "stderr",
     "output_type": "stream",
     "text": [
      "INFO:spimagine.gui.glwidget | saving frame as /media/ivar/HDD3TB2/IN9400_exercises/week1/volume_convolution_demo/data/random_small/rendering/output_086.png\n"
     ]
    },
    {
     "name": "stdout",
     "output_type": "stream",
     "text": [
      "record pos 86\n"
     ]
    },
    {
     "name": "stderr",
     "output_type": "stream",
     "text": [
      "INFO:spimagine.gui.glwidget | saving frame as /media/ivar/HDD3TB2/IN9400_exercises/week1/volume_convolution_demo/data/random_small/rendering/output_087.png\n"
     ]
    },
    {
     "name": "stdout",
     "output_type": "stream",
     "text": [
      "record pos 87\n"
     ]
    },
    {
     "name": "stderr",
     "output_type": "stream",
     "text": [
      "INFO:spimagine.gui.glwidget | saving frame as /media/ivar/HDD3TB2/IN9400_exercises/week1/volume_convolution_demo/data/random_small/rendering/output_088.png\n"
     ]
    },
    {
     "name": "stdout",
     "output_type": "stream",
     "text": [
      "record pos 88\n"
     ]
    },
    {
     "name": "stderr",
     "output_type": "stream",
     "text": [
      "INFO:spimagine.gui.glwidget | saving frame as /media/ivar/HDD3TB2/IN9400_exercises/week1/volume_convolution_demo/data/random_small/rendering/output_089.png\n"
     ]
    },
    {
     "name": "stdout",
     "output_type": "stream",
     "text": [
      "record pos 89\n"
     ]
    },
    {
     "name": "stderr",
     "output_type": "stream",
     "text": [
      "INFO:spimagine.gui.glwidget | saving frame as /media/ivar/HDD3TB2/IN9400_exercises/week1/volume_convolution_demo/data/random_small/rendering/output_090.png\n"
     ]
    },
    {
     "name": "stdout",
     "output_type": "stream",
     "text": [
      "record pos 90\n"
     ]
    },
    {
     "name": "stderr",
     "output_type": "stream",
     "text": [
      "INFO:spimagine.gui.glwidget | saving frame as /media/ivar/HDD3TB2/IN9400_exercises/week1/volume_convolution_demo/data/random_small/rendering/output_091.png\n"
     ]
    },
    {
     "name": "stdout",
     "output_type": "stream",
     "text": [
      "record pos 91\n",
      "record pos 92\n"
     ]
    },
    {
     "name": "stderr",
     "output_type": "stream",
     "text": [
      "INFO:spimagine.gui.glwidget | saving frame as /media/ivar/HDD3TB2/IN9400_exercises/week1/volume_convolution_demo/data/random_small/rendering/output_092.png\n",
      "INFO:spimagine.gui.glwidget | saving frame as /media/ivar/HDD3TB2/IN9400_exercises/week1/volume_convolution_demo/data/random_small/rendering/output_093.png\n"
     ]
    },
    {
     "name": "stdout",
     "output_type": "stream",
     "text": [
      "record pos 93\n"
     ]
    },
    {
     "name": "stderr",
     "output_type": "stream",
     "text": [
      "INFO:spimagine.gui.glwidget | saving frame as /media/ivar/HDD3TB2/IN9400_exercises/week1/volume_convolution_demo/data/random_small/rendering/output_094.png\n"
     ]
    },
    {
     "name": "stdout",
     "output_type": "stream",
     "text": [
      "record pos 94\n"
     ]
    },
    {
     "name": "stderr",
     "output_type": "stream",
     "text": [
      "INFO:spimagine.gui.glwidget | saving frame as /media/ivar/HDD3TB2/IN9400_exercises/week1/volume_convolution_demo/data/random_small/rendering/output_095.png\n"
     ]
    },
    {
     "name": "stdout",
     "output_type": "stream",
     "text": [
      "record pos 95\n"
     ]
    },
    {
     "name": "stderr",
     "output_type": "stream",
     "text": [
      "INFO:spimagine.gui.glwidget | saving frame as /media/ivar/HDD3TB2/IN9400_exercises/week1/volume_convolution_demo/data/random_small/rendering/output_096.png\n"
     ]
    },
    {
     "name": "stdout",
     "output_type": "stream",
     "text": [
      "record pos 96\n"
     ]
    },
    {
     "name": "stderr",
     "output_type": "stream",
     "text": [
      "INFO:spimagine.gui.glwidget | saving frame as /media/ivar/HDD3TB2/IN9400_exercises/week1/volume_convolution_demo/data/random_small/rendering/output_097.png\n"
     ]
    },
    {
     "name": "stdout",
     "output_type": "stream",
     "text": [
      "record pos 97\n"
     ]
    },
    {
     "name": "stderr",
     "output_type": "stream",
     "text": [
      "INFO:spimagine.gui.glwidget | saving frame as /media/ivar/HDD3TB2/IN9400_exercises/week1/volume_convolution_demo/data/random_small/rendering/output_098.png\n"
     ]
    },
    {
     "name": "stdout",
     "output_type": "stream",
     "text": [
      "record pos 98\n"
     ]
    },
    {
     "name": "stderr",
     "output_type": "stream",
     "text": [
      "INFO:spimagine.gui.glwidget | saving frame as /media/ivar/HDD3TB2/IN9400_exercises/week1/volume_convolution_demo/data/random_small/rendering/output_099.png\n"
     ]
    },
    {
     "name": "stdout",
     "output_type": "stream",
     "text": [
      "record pos 99\n"
     ]
    },
    {
     "name": "stderr",
     "output_type": "stream",
     "text": [
      "INFO:spimagine.gui.glwidget | saving frame as /media/ivar/HDD3TB2/IN9400_exercises/week1/volume_convolution_demo/data/random_small/rendering/output_100.png\n"
     ]
    },
    {
     "name": "stdout",
     "output_type": "stream",
     "text": [
      "record pos 100\n"
     ]
    },
    {
     "name": "stderr",
     "output_type": "stream",
     "text": [
      "INFO:spimagine.gui.glwidget | saving frame as /media/ivar/HDD3TB2/IN9400_exercises/week1/volume_convolution_demo/data/random_small/rendering/output_101.png\n"
     ]
    },
    {
     "name": "stdout",
     "output_type": "stream",
     "text": [
      "record pos 1\n"
     ]
    },
    {
     "name": "stderr",
     "output_type": "stream",
     "text": [
      "INFO:spimagine.gui.glwidget | saving frame as /media/ivar/HDD3TB2/IN9400_exercises/week1/volume_convolution_demo/data/random_small/rendring2/output_002.png\n"
     ]
    },
    {
     "name": "stdout",
     "output_type": "stream",
     "text": [
      "record pos 2\n"
     ]
    },
    {
     "name": "stderr",
     "output_type": "stream",
     "text": [
      "INFO:spimagine.gui.glwidget | saving frame as /media/ivar/HDD3TB2/IN9400_exercises/week1/volume_convolution_demo/data/random_small/rendring2/output_003.png\n"
     ]
    },
    {
     "name": "stdout",
     "output_type": "stream",
     "text": [
      "record pos 3\n"
     ]
    },
    {
     "name": "stderr",
     "output_type": "stream",
     "text": [
      "INFO:spimagine.gui.glwidget | saving frame as /media/ivar/HDD3TB2/IN9400_exercises/week1/volume_convolution_demo/data/random_small/rendring2/output_004.png\n"
     ]
    },
    {
     "name": "stdout",
     "output_type": "stream",
     "text": [
      "record pos 4\n"
     ]
    },
    {
     "name": "stderr",
     "output_type": "stream",
     "text": [
      "INFO:spimagine.gui.glwidget | saving frame as /media/ivar/HDD3TB2/IN9400_exercises/week1/volume_convolution_demo/data/random_small/rendring2/output_005.png\n"
     ]
    },
    {
     "name": "stdout",
     "output_type": "stream",
     "text": [
      "record pos 5\n"
     ]
    },
    {
     "name": "stderr",
     "output_type": "stream",
     "text": [
      "INFO:spimagine.gui.glwidget | saving frame as /media/ivar/HDD3TB2/IN9400_exercises/week1/volume_convolution_demo/data/random_small/rendring2/output_006.png\n"
     ]
    },
    {
     "name": "stdout",
     "output_type": "stream",
     "text": [
      "record pos 6\n"
     ]
    },
    {
     "name": "stderr",
     "output_type": "stream",
     "text": [
      "INFO:spimagine.gui.glwidget | saving frame as /media/ivar/HDD3TB2/IN9400_exercises/week1/volume_convolution_demo/data/random_small/rendring2/output_007.png\n"
     ]
    },
    {
     "name": "stdout",
     "output_type": "stream",
     "text": [
      "record pos 7\n"
     ]
    },
    {
     "name": "stderr",
     "output_type": "stream",
     "text": [
      "INFO:spimagine.gui.glwidget | saving frame as /media/ivar/HDD3TB2/IN9400_exercises/week1/volume_convolution_demo/data/random_small/rendring2/output_008.png\n"
     ]
    },
    {
     "name": "stdout",
     "output_type": "stream",
     "text": [
      "record pos 8\n"
     ]
    },
    {
     "name": "stderr",
     "output_type": "stream",
     "text": [
      "INFO:spimagine.gui.glwidget | saving frame as /media/ivar/HDD3TB2/IN9400_exercises/week1/volume_convolution_demo/data/random_small/rendring2/output_009.png\n"
     ]
    },
    {
     "name": "stdout",
     "output_type": "stream",
     "text": [
      "record pos 9\n"
     ]
    },
    {
     "name": "stderr",
     "output_type": "stream",
     "text": [
      "INFO:spimagine.gui.glwidget | saving frame as /media/ivar/HDD3TB2/IN9400_exercises/week1/volume_convolution_demo/data/random_small/rendring2/output_010.png\n"
     ]
    },
    {
     "name": "stdout",
     "output_type": "stream",
     "text": [
      "record pos 10\n"
     ]
    },
    {
     "name": "stderr",
     "output_type": "stream",
     "text": [
      "INFO:spimagine.gui.glwidget | saving frame as /media/ivar/HDD3TB2/IN9400_exercises/week1/volume_convolution_demo/data/random_small/rendring2/output_011.png\n"
     ]
    },
    {
     "name": "stdout",
     "output_type": "stream",
     "text": [
      "record pos 11\n",
      "record pos"
     ]
    },
    {
     "name": "stderr",
     "output_type": "stream",
     "text": [
      "INFO:spimagine.gui.glwidget | saving frame as /media/ivar/HDD3TB2/IN9400_exercises/week1/volume_convolution_demo/data/random_small/rendring2/output_012.png\n"
     ]
    },
    {
     "name": "stdout",
     "output_type": "stream",
     "text": [
      " 12\n"
     ]
    },
    {
     "name": "stderr",
     "output_type": "stream",
     "text": [
      "INFO:spimagine.gui.glwidget | saving frame as /media/ivar/HDD3TB2/IN9400_exercises/week1/volume_convolution_demo/data/random_small/rendring2/output_013.png\n"
     ]
    },
    {
     "name": "stdout",
     "output_type": "stream",
     "text": [
      "record pos 13\n"
     ]
    },
    {
     "name": "stderr",
     "output_type": "stream",
     "text": [
      "INFO:spimagine.gui.glwidget | saving frame as /media/ivar/HDD3TB2/IN9400_exercises/week1/volume_convolution_demo/data/random_small/rendring2/output_014.png\n"
     ]
    },
    {
     "name": "stdout",
     "output_type": "stream",
     "text": [
      "record pos 14\n"
     ]
    },
    {
     "name": "stderr",
     "output_type": "stream",
     "text": [
      "INFO:spimagine.gui.glwidget | saving frame as /media/ivar/HDD3TB2/IN9400_exercises/week1/volume_convolution_demo/data/random_small/rendring2/output_015.png\n"
     ]
    },
    {
     "name": "stdout",
     "output_type": "stream",
     "text": [
      "record pos 15\n"
     ]
    },
    {
     "name": "stderr",
     "output_type": "stream",
     "text": [
      "INFO:spimagine.gui.glwidget | saving frame as /media/ivar/HDD3TB2/IN9400_exercises/week1/volume_convolution_demo/data/random_small/rendring2/output_016.png\n"
     ]
    },
    {
     "name": "stdout",
     "output_type": "stream",
     "text": [
      "record pos 16\n"
     ]
    },
    {
     "name": "stderr",
     "output_type": "stream",
     "text": [
      "INFO:spimagine.gui.glwidget | saving frame as /media/ivar/HDD3TB2/IN9400_exercises/week1/volume_convolution_demo/data/random_small/rendring2/output_017.png\n"
     ]
    },
    {
     "name": "stdout",
     "output_type": "stream",
     "text": [
      "record pos 17\n"
     ]
    },
    {
     "name": "stderr",
     "output_type": "stream",
     "text": [
      "INFO:spimagine.gui.glwidget | saving frame as /media/ivar/HDD3TB2/IN9400_exercises/week1/volume_convolution_demo/data/random_small/rendring2/output_018.png\n"
     ]
    },
    {
     "name": "stdout",
     "output_type": "stream",
     "text": [
      "record pos 18\n"
     ]
    },
    {
     "name": "stderr",
     "output_type": "stream",
     "text": [
      "INFO:spimagine.gui.glwidget | saving frame as /media/ivar/HDD3TB2/IN9400_exercises/week1/volume_convolution_demo/data/random_small/rendring2/output_019.png\n"
     ]
    },
    {
     "name": "stdout",
     "output_type": "stream",
     "text": [
      "record pos 19\n"
     ]
    },
    {
     "name": "stderr",
     "output_type": "stream",
     "text": [
      "INFO:spimagine.gui.glwidget | saving frame as /media/ivar/HDD3TB2/IN9400_exercises/week1/volume_convolution_demo/data/random_small/rendring2/output_020.png\n"
     ]
    },
    {
     "name": "stdout",
     "output_type": "stream",
     "text": [
      "record pos 20\n"
     ]
    },
    {
     "name": "stderr",
     "output_type": "stream",
     "text": [
      "INFO:spimagine.gui.glwidget | saving frame as /media/ivar/HDD3TB2/IN9400_exercises/week1/volume_convolution_demo/data/random_small/rendring2/output_021.png\n"
     ]
    },
    {
     "name": "stdout",
     "output_type": "stream",
     "text": [
      "record pos 21\n"
     ]
    },
    {
     "name": "stderr",
     "output_type": "stream",
     "text": [
      "INFO:spimagine.gui.glwidget | saving frame as /media/ivar/HDD3TB2/IN9400_exercises/week1/volume_convolution_demo/data/random_small/rendring2/output_022.png\n"
     ]
    },
    {
     "name": "stdout",
     "output_type": "stream",
     "text": [
      "record pos 22\n"
     ]
    },
    {
     "name": "stderr",
     "output_type": "stream",
     "text": [
      "INFO:spimagine.gui.glwidget | saving frame as /media/ivar/HDD3TB2/IN9400_exercises/week1/volume_convolution_demo/data/random_small/rendring2/output_023.png\n"
     ]
    },
    {
     "name": "stdout",
     "output_type": "stream",
     "text": [
      "record pos 23\n"
     ]
    },
    {
     "name": "stderr",
     "output_type": "stream",
     "text": [
      "INFO:spimagine.gui.glwidget | saving frame as /media/ivar/HDD3TB2/IN9400_exercises/week1/volume_convolution_demo/data/random_small/rendring2/output_024.png\n"
     ]
    },
    {
     "name": "stdout",
     "output_type": "stream",
     "text": [
      "record pos 24\n"
     ]
    },
    {
     "name": "stderr",
     "output_type": "stream",
     "text": [
      "INFO:spimagine.gui.glwidget | saving frame as /media/ivar/HDD3TB2/IN9400_exercises/week1/volume_convolution_demo/data/random_small/rendring2/output_025.png\n",
      "INFO:spimagine.gui.glwidget | saving frame as /media/ivar/HDD3TB2/IN9400_exercises/week1/volume_convolution_demo/data/random_small/rendring2/output_026.png\n"
     ]
    },
    {
     "name": "stdout",
     "output_type": "stream",
     "text": [
      "record pos 25\n",
      "record pos 26\n"
     ]
    },
    {
     "name": "stderr",
     "output_type": "stream",
     "text": [
      "INFO:spimagine.gui.glwidget | saving frame as /media/ivar/HDD3TB2/IN9400_exercises/week1/volume_convolution_demo/data/random_small/rendring2/output_027.png\n"
     ]
    },
    {
     "name": "stdout",
     "output_type": "stream",
     "text": [
      "record pos 27\n"
     ]
    },
    {
     "name": "stderr",
     "output_type": "stream",
     "text": [
      "INFO:spimagine.gui.glwidget | saving frame as /media/ivar/HDD3TB2/IN9400_exercises/week1/volume_convolution_demo/data/random_small/rendring2/output_028.png\n"
     ]
    },
    {
     "name": "stdout",
     "output_type": "stream",
     "text": [
      "record pos 28\n"
     ]
    },
    {
     "name": "stderr",
     "output_type": "stream",
     "text": [
      "INFO:spimagine.gui.glwidget | saving frame as /media/ivar/HDD3TB2/IN9400_exercises/week1/volume_convolution_demo/data/random_small/rendring2/output_029.png\n"
     ]
    },
    {
     "name": "stdout",
     "output_type": "stream",
     "text": [
      "record pos 29\n"
     ]
    },
    {
     "name": "stderr",
     "output_type": "stream",
     "text": [
      "INFO:spimagine.gui.glwidget | saving frame as /media/ivar/HDD3TB2/IN9400_exercises/week1/volume_convolution_demo/data/random_small/rendring2/output_030.png\n"
     ]
    },
    {
     "name": "stdout",
     "output_type": "stream",
     "text": [
      "record pos 30\n"
     ]
    },
    {
     "name": "stderr",
     "output_type": "stream",
     "text": [
      "INFO:spimagine.gui.glwidget | saving frame as /media/ivar/HDD3TB2/IN9400_exercises/week1/volume_convolution_demo/data/random_small/rendring2/output_031.png\n"
     ]
    },
    {
     "name": "stdout",
     "output_type": "stream",
     "text": [
      "record pos 31\n"
     ]
    },
    {
     "name": "stderr",
     "output_type": "stream",
     "text": [
      "INFO:spimagine.gui.glwidget | saving frame as /media/ivar/HDD3TB2/IN9400_exercises/week1/volume_convolution_demo/data/random_small/rendring2/output_032.png\n"
     ]
    },
    {
     "name": "stdout",
     "output_type": "stream",
     "text": [
      "record pos 32\n"
     ]
    },
    {
     "name": "stderr",
     "output_type": "stream",
     "text": [
      "INFO:spimagine.gui.glwidget | saving frame as /media/ivar/HDD3TB2/IN9400_exercises/week1/volume_convolution_demo/data/random_small/rendring2/output_033.png\n"
     ]
    },
    {
     "name": "stdout",
     "output_type": "stream",
     "text": [
      "record pos 33\n"
     ]
    },
    {
     "name": "stderr",
     "output_type": "stream",
     "text": [
      "INFO:spimagine.gui.glwidget | saving frame as /media/ivar/HDD3TB2/IN9400_exercises/week1/volume_convolution_demo/data/random_small/rendring2/output_034.png\n"
     ]
    },
    {
     "name": "stdout",
     "output_type": "stream",
     "text": [
      "record pos 34\n"
     ]
    },
    {
     "name": "stderr",
     "output_type": "stream",
     "text": [
      "INFO:spimagine.gui.glwidget | saving frame as /media/ivar/HDD3TB2/IN9400_exercises/week1/volume_convolution_demo/data/random_small/rendring2/output_035.png\n"
     ]
    },
    {
     "name": "stdout",
     "output_type": "stream",
     "text": [
      "record pos 35\n"
     ]
    },
    {
     "name": "stderr",
     "output_type": "stream",
     "text": [
      "INFO:spimagine.gui.glwidget | saving frame as /media/ivar/HDD3TB2/IN9400_exercises/week1/volume_convolution_demo/data/random_small/rendring2/output_036.png\n"
     ]
    },
    {
     "name": "stdout",
     "output_type": "stream",
     "text": [
      "record pos 36\n"
     ]
    },
    {
     "name": "stderr",
     "output_type": "stream",
     "text": [
      "INFO:spimagine.gui.glwidget | saving frame as /media/ivar/HDD3TB2/IN9400_exercises/week1/volume_convolution_demo/data/random_small/rendring2/output_037.png\n"
     ]
    },
    {
     "name": "stdout",
     "output_type": "stream",
     "text": [
      "record pos 37\n"
     ]
    },
    {
     "name": "stderr",
     "output_type": "stream",
     "text": [
      "INFO:spimagine.gui.glwidget | saving frame as /media/ivar/HDD3TB2/IN9400_exercises/week1/volume_convolution_demo/data/random_small/rendring2/output_038.png\n"
     ]
    },
    {
     "name": "stdout",
     "output_type": "stream",
     "text": [
      "record pos 38\n"
     ]
    },
    {
     "name": "stderr",
     "output_type": "stream",
     "text": [
      "INFO:spimagine.gui.glwidget | saving frame as /media/ivar/HDD3TB2/IN9400_exercises/week1/volume_convolution_demo/data/random_small/rendring2/output_039.png\n"
     ]
    },
    {
     "name": "stdout",
     "output_type": "stream",
     "text": [
      "record pos 39\n",
      "record pos 40\n"
     ]
    },
    {
     "name": "stderr",
     "output_type": "stream",
     "text": [
      "INFO:spimagine.gui.glwidget | saving frame as /media/ivar/HDD3TB2/IN9400_exercises/week1/volume_convolution_demo/data/random_small/rendring2/output_040.png\n",
      "INFO:spimagine.gui.glwidget | saving frame as /media/ivar/HDD3TB2/IN9400_exercises/week1/volume_convolution_demo/data/random_small/rendring2/output_041.png\n"
     ]
    },
    {
     "name": "stdout",
     "output_type": "stream",
     "text": [
      "record pos 41\n"
     ]
    },
    {
     "name": "stderr",
     "output_type": "stream",
     "text": [
      "INFO:spimagine.gui.glwidget | saving frame as /media/ivar/HDD3TB2/IN9400_exercises/week1/volume_convolution_demo/data/random_small/rendring2/output_042.png\n"
     ]
    },
    {
     "name": "stdout",
     "output_type": "stream",
     "text": [
      "record pos 42\n"
     ]
    },
    {
     "name": "stderr",
     "output_type": "stream",
     "text": [
      "INFO:spimagine.gui.glwidget | saving frame as /media/ivar/HDD3TB2/IN9400_exercises/week1/volume_convolution_demo/data/random_small/rendring2/output_043.png\n",
      "INFO:spimagine.gui.glwidget | saving frame as /media/ivar/HDD3TB2/IN9400_exercises/week1/volume_convolution_demo/data/random_small/rendring2/output_044.png\n"
     ]
    },
    {
     "name": "stdout",
     "output_type": "stream",
     "text": [
      "record pos 43\n",
      "record pos 44\n"
     ]
    },
    {
     "name": "stderr",
     "output_type": "stream",
     "text": [
      "INFO:spimagine.gui.glwidget | saving frame as /media/ivar/HDD3TB2/IN9400_exercises/week1/volume_convolution_demo/data/random_small/rendring2/output_045.png\n"
     ]
    },
    {
     "name": "stdout",
     "output_type": "stream",
     "text": [
      "record pos 45\n"
     ]
    },
    {
     "name": "stderr",
     "output_type": "stream",
     "text": [
      "INFO:spimagine.gui.glwidget | saving frame as /media/ivar/HDD3TB2/IN9400_exercises/week1/volume_convolution_demo/data/random_small/rendring2/output_046.png\n"
     ]
    },
    {
     "name": "stdout",
     "output_type": "stream",
     "text": [
      "record pos 46\n",
      "record pos 47\n"
     ]
    },
    {
     "name": "stderr",
     "output_type": "stream",
     "text": [
      "INFO:spimagine.gui.glwidget | saving frame as /media/ivar/HDD3TB2/IN9400_exercises/week1/volume_convolution_demo/data/random_small/rendring2/output_047.png\n",
      "INFO:spimagine.gui.glwidget | saving frame as /media/ivar/HDD3TB2/IN9400_exercises/week1/volume_convolution_demo/data/random_small/rendring2/output_048.png\n",
      "INFO:spimagine.gui.glwidget | saving frame as /media/ivar/HDD3TB2/IN9400_exercises/week1/volume_convolution_demo/data/random_small/rendring2/output_049.png\n"
     ]
    },
    {
     "name": "stdout",
     "output_type": "stream",
     "text": [
      "record pos 48\n",
      "record pos 49\n"
     ]
    },
    {
     "name": "stderr",
     "output_type": "stream",
     "text": [
      "INFO:spimagine.gui.glwidget | saving frame as /media/ivar/HDD3TB2/IN9400_exercises/week1/volume_convolution_demo/data/random_small/rendring2/output_050.png\n",
      "INFO:spimagine.gui.glwidget | saving frame as /media/ivar/HDD3TB2/IN9400_exercises/week1/volume_convolution_demo/data/random_small/rendring2/output_051.png\n"
     ]
    },
    {
     "name": "stdout",
     "output_type": "stream",
     "text": [
      "record pos 50\n",
      "record pos 51\n"
     ]
    },
    {
     "name": "stderr",
     "output_type": "stream",
     "text": [
      "INFO:spimagine.gui.glwidget | saving frame as /media/ivar/HDD3TB2/IN9400_exercises/week1/volume_convolution_demo/data/random_small/rendring2/output_052.png\n"
     ]
    },
    {
     "name": "stdout",
     "output_type": "stream",
     "text": [
      "record pos 52\n"
     ]
    },
    {
     "name": "stderr",
     "output_type": "stream",
     "text": [
      "INFO:spimagine.gui.glwidget | saving frame as /media/ivar/HDD3TB2/IN9400_exercises/week1/volume_convolution_demo/data/random_small/rendring2/output_053.png\n",
      "INFO:spimagine.gui.glwidget | saving frame as /media/ivar/HDD3TB2/IN9400_exercises/week1/volume_convolution_demo/data/random_small/rendring2/output_054.png\n"
     ]
    },
    {
     "name": "stdout",
     "output_type": "stream",
     "text": [
      "record pos 53\n",
      "record pos 54\n"
     ]
    },
    {
     "name": "stderr",
     "output_type": "stream",
     "text": [
      "INFO:spimagine.gui.glwidget | saving frame as /media/ivar/HDD3TB2/IN9400_exercises/week1/volume_convolution_demo/data/random_small/rendring2/output_055.png\n",
      "INFO:spimagine.gui.glwidget | saving frame as /media/ivar/HDD3TB2/IN9400_exercises/week1/volume_convolution_demo/data/random_small/rendring2/output_056.png\n"
     ]
    },
    {
     "name": "stdout",
     "output_type": "stream",
     "text": [
      "record pos 55\n",
      "record pos 56\n"
     ]
    },
    {
     "name": "stderr",
     "output_type": "stream",
     "text": [
      "INFO:spimagine.gui.glwidget | saving frame as /media/ivar/HDD3TB2/IN9400_exercises/week1/volume_convolution_demo/data/random_small/rendring2/output_057.png\n"
     ]
    },
    {
     "name": "stdout",
     "output_type": "stream",
     "text": [
      "record pos 57\n"
     ]
    },
    {
     "name": "stderr",
     "output_type": "stream",
     "text": [
      "INFO:spimagine.gui.glwidget | saving frame as /media/ivar/HDD3TB2/IN9400_exercises/week1/volume_convolution_demo/data/random_small/rendring2/output_058.png\n"
     ]
    },
    {
     "name": "stdout",
     "output_type": "stream",
     "text": [
      "record pos 58\n"
     ]
    },
    {
     "name": "stderr",
     "output_type": "stream",
     "text": [
      "INFO:spimagine.gui.glwidget | saving frame as /media/ivar/HDD3TB2/IN9400_exercises/week1/volume_convolution_demo/data/random_small/rendring2/output_059.png\n"
     ]
    },
    {
     "name": "stdout",
     "output_type": "stream",
     "text": [
      "record pos 59\n"
     ]
    },
    {
     "name": "stderr",
     "output_type": "stream",
     "text": [
      "INFO:spimagine.gui.glwidget | saving frame as /media/ivar/HDD3TB2/IN9400_exercises/week1/volume_convolution_demo/data/random_small/rendring2/output_060.png\n"
     ]
    },
    {
     "name": "stdout",
     "output_type": "stream",
     "text": [
      "record pos 60\n"
     ]
    },
    {
     "name": "stderr",
     "output_type": "stream",
     "text": [
      "INFO:spimagine.gui.glwidget | saving frame as /media/ivar/HDD3TB2/IN9400_exercises/week1/volume_convolution_demo/data/random_small/rendring2/output_061.png\n"
     ]
    },
    {
     "name": "stdout",
     "output_type": "stream",
     "text": [
      "record pos 61\n"
     ]
    },
    {
     "name": "stderr",
     "output_type": "stream",
     "text": [
      "INFO:spimagine.gui.glwidget | saving frame as /media/ivar/HDD3TB2/IN9400_exercises/week1/volume_convolution_demo/data/random_small/rendring2/output_062.png\n",
      "INFO:spimagine.gui.glwidget | saving frame as /media/ivar/HDD3TB2/IN9400_exercises/week1/volume_convolution_demo/data/random_small/rendring2/output_063.png\n"
     ]
    },
    {
     "name": "stdout",
     "output_type": "stream",
     "text": [
      "record pos 62\n",
      "record pos 63\n"
     ]
    },
    {
     "name": "stderr",
     "output_type": "stream",
     "text": [
      "INFO:spimagine.gui.glwidget | saving frame as /media/ivar/HDD3TB2/IN9400_exercises/week1/volume_convolution_demo/data/random_small/rendring2/output_064.png\n",
      "INFO:spimagine.gui.glwidget | saving frame as /media/ivar/HDD3TB2/IN9400_exercises/week1/volume_convolution_demo/data/random_small/rendring2/output_065.png\n"
     ]
    },
    {
     "name": "stdout",
     "output_type": "stream",
     "text": [
      "record pos 64\n",
      "record pos 65\n"
     ]
    },
    {
     "name": "stderr",
     "output_type": "stream",
     "text": [
      "INFO:spimagine.gui.glwidget | saving frame as /media/ivar/HDD3TB2/IN9400_exercises/week1/volume_convolution_demo/data/random_small/rendring2/output_066.png\n"
     ]
    },
    {
     "name": "stdout",
     "output_type": "stream",
     "text": [
      "record pos 66\n"
     ]
    },
    {
     "name": "stderr",
     "output_type": "stream",
     "text": [
      "INFO:spimagine.gui.glwidget | saving frame as /media/ivar/HDD3TB2/IN9400_exercises/week1/volume_convolution_demo/data/random_small/rendring2/output_067.png\n"
     ]
    },
    {
     "name": "stdout",
     "output_type": "stream",
     "text": [
      "record pos 67\n"
     ]
    },
    {
     "name": "stderr",
     "output_type": "stream",
     "text": [
      "INFO:spimagine.gui.glwidget | saving frame as /media/ivar/HDD3TB2/IN9400_exercises/week1/volume_convolution_demo/data/random_small/rendring2/output_068.png\n"
     ]
    },
    {
     "name": "stdout",
     "output_type": "stream",
     "text": [
      "record pos 68\n"
     ]
    },
    {
     "name": "stderr",
     "output_type": "stream",
     "text": [
      "INFO:spimagine.gui.glwidget | saving frame as /media/ivar/HDD3TB2/IN9400_exercises/week1/volume_convolution_demo/data/random_small/rendring2/output_069.png\n"
     ]
    },
    {
     "name": "stdout",
     "output_type": "stream",
     "text": [
      "record pos 69\n"
     ]
    },
    {
     "name": "stderr",
     "output_type": "stream",
     "text": [
      "INFO:spimagine.gui.glwidget | saving frame as /media/ivar/HDD3TB2/IN9400_exercises/week1/volume_convolution_demo/data/random_small/rendring2/output_070.png\n"
     ]
    },
    {
     "name": "stdout",
     "output_type": "stream",
     "text": [
      "record pos 70\n"
     ]
    },
    {
     "name": "stderr",
     "output_type": "stream",
     "text": [
      "INFO:spimagine.gui.glwidget | saving frame as /media/ivar/HDD3TB2/IN9400_exercises/week1/volume_convolution_demo/data/random_small/rendring2/output_071.png\n"
     ]
    },
    {
     "name": "stdout",
     "output_type": "stream",
     "text": [
      "record pos 71\n"
     ]
    },
    {
     "name": "stderr",
     "output_type": "stream",
     "text": [
      "INFO:spimagine.gui.glwidget | saving frame as /media/ivar/HDD3TB2/IN9400_exercises/week1/volume_convolution_demo/data/random_small/rendring2/output_072.png\n"
     ]
    },
    {
     "name": "stdout",
     "output_type": "stream",
     "text": [
      "record pos 72\n"
     ]
    },
    {
     "name": "stderr",
     "output_type": "stream",
     "text": [
      "INFO:spimagine.gui.glwidget | saving frame as /media/ivar/HDD3TB2/IN9400_exercises/week1/volume_convolution_demo/data/random_small/rendring2/output_073.png\n"
     ]
    },
    {
     "name": "stdout",
     "output_type": "stream",
     "text": [
      "record pos 73\n"
     ]
    },
    {
     "name": "stderr",
     "output_type": "stream",
     "text": [
      "INFO:spimagine.gui.glwidget | saving frame as /media/ivar/HDD3TB2/IN9400_exercises/week1/volume_convolution_demo/data/random_small/rendring2/output_074.png\n"
     ]
    },
    {
     "name": "stdout",
     "output_type": "stream",
     "text": [
      "record pos 74\n"
     ]
    },
    {
     "name": "stderr",
     "output_type": "stream",
     "text": [
      "INFO:spimagine.gui.glwidget | saving frame as /media/ivar/HDD3TB2/IN9400_exercises/week1/volume_convolution_demo/data/random_small/rendring2/output_075.png\n"
     ]
    },
    {
     "name": "stdout",
     "output_type": "stream",
     "text": [
      "record pos 75\n"
     ]
    },
    {
     "name": "stderr",
     "output_type": "stream",
     "text": [
      "INFO:spimagine.gui.glwidget | saving frame as /media/ivar/HDD3TB2/IN9400_exercises/week1/volume_convolution_demo/data/random_small/rendring2/output_076.png\n"
     ]
    },
    {
     "name": "stdout",
     "output_type": "stream",
     "text": [
      "record pos 76\n"
     ]
    },
    {
     "name": "stderr",
     "output_type": "stream",
     "text": [
      "INFO:spimagine.gui.glwidget | saving frame as /media/ivar/HDD3TB2/IN9400_exercises/week1/volume_convolution_demo/data/random_small/rendring2/output_077.png\n",
      "INFO:spimagine.gui.glwidget | saving frame as /media/ivar/HDD3TB2/IN9400_exercises/week1/volume_convolution_demo/data/random_small/rendring2/output_078.png\n"
     ]
    },
    {
     "name": "stdout",
     "output_type": "stream",
     "text": [
      "record pos 77\n",
      "record pos 78\n"
     ]
    },
    {
     "name": "stderr",
     "output_type": "stream",
     "text": [
      "INFO:spimagine.gui.glwidget | saving frame as /media/ivar/HDD3TB2/IN9400_exercises/week1/volume_convolution_demo/data/random_small/rendring2/output_079.png\n"
     ]
    },
    {
     "name": "stdout",
     "output_type": "stream",
     "text": [
      "record pos 79\n"
     ]
    },
    {
     "name": "stderr",
     "output_type": "stream",
     "text": [
      "INFO:spimagine.gui.glwidget | saving frame as /media/ivar/HDD3TB2/IN9400_exercises/week1/volume_convolution_demo/data/random_small/rendring2/output_080.png\n"
     ]
    },
    {
     "name": "stdout",
     "output_type": "stream",
     "text": [
      "record pos 80\n"
     ]
    },
    {
     "name": "stderr",
     "output_type": "stream",
     "text": [
      "INFO:spimagine.gui.glwidget | saving frame as /media/ivar/HDD3TB2/IN9400_exercises/week1/volume_convolution_demo/data/random_small/rendring2/output_081.png\n"
     ]
    },
    {
     "name": "stdout",
     "output_type": "stream",
     "text": [
      "record pos 81\n"
     ]
    },
    {
     "name": "stderr",
     "output_type": "stream",
     "text": [
      "INFO:spimagine.gui.glwidget | saving frame as /media/ivar/HDD3TB2/IN9400_exercises/week1/volume_convolution_demo/data/random_small/rendring2/output_082.png\n"
     ]
    },
    {
     "name": "stdout",
     "output_type": "stream",
     "text": [
      "record pos 82\n"
     ]
    },
    {
     "name": "stderr",
     "output_type": "stream",
     "text": [
      "INFO:spimagine.gui.glwidget | saving frame as /media/ivar/HDD3TB2/IN9400_exercises/week1/volume_convolution_demo/data/random_small/rendring2/output_083.png\n"
     ]
    },
    {
     "name": "stdout",
     "output_type": "stream",
     "text": [
      "record pos 83\n"
     ]
    },
    {
     "name": "stderr",
     "output_type": "stream",
     "text": [
      "INFO:spimagine.gui.glwidget | saving frame as /media/ivar/HDD3TB2/IN9400_exercises/week1/volume_convolution_demo/data/random_small/rendring2/output_084.png\n"
     ]
    },
    {
     "name": "stdout",
     "output_type": "stream",
     "text": [
      "record pos 84\n"
     ]
    },
    {
     "name": "stderr",
     "output_type": "stream",
     "text": [
      "INFO:spimagine.gui.glwidget | saving frame as /media/ivar/HDD3TB2/IN9400_exercises/week1/volume_convolution_demo/data/random_small/rendring2/output_085.png\n"
     ]
    },
    {
     "name": "stdout",
     "output_type": "stream",
     "text": [
      "record pos 85\n"
     ]
    },
    {
     "name": "stderr",
     "output_type": "stream",
     "text": [
      "INFO:spimagine.gui.glwidget | saving frame as /media/ivar/HDD3TB2/IN9400_exercises/week1/volume_convolution_demo/data/random_small/rendring2/output_086.png\n"
     ]
    },
    {
     "name": "stdout",
     "output_type": "stream",
     "text": [
      "record pos 86\n"
     ]
    },
    {
     "name": "stderr",
     "output_type": "stream",
     "text": [
      "INFO:spimagine.gui.glwidget | saving frame as /media/ivar/HDD3TB2/IN9400_exercises/week1/volume_convolution_demo/data/random_small/rendring2/output_087.png\n"
     ]
    },
    {
     "name": "stdout",
     "output_type": "stream",
     "text": [
      "record pos 87\n"
     ]
    },
    {
     "name": "stderr",
     "output_type": "stream",
     "text": [
      "INFO:spimagine.gui.glwidget | saving frame as /media/ivar/HDD3TB2/IN9400_exercises/week1/volume_convolution_demo/data/random_small/rendring2/output_088.png\n",
      "INFO:spimagine.gui.glwidget | saving frame as /media/ivar/HDD3TB2/IN9400_exercises/week1/volume_convolution_demo/data/random_small/rendring2/output_089.png\n"
     ]
    },
    {
     "name": "stdout",
     "output_type": "stream",
     "text": [
      "record pos 88\n",
      "record pos 89\n"
     ]
    },
    {
     "name": "stderr",
     "output_type": "stream",
     "text": [
      "INFO:spimagine.gui.glwidget | saving frame as /media/ivar/HDD3TB2/IN9400_exercises/week1/volume_convolution_demo/data/random_small/rendring2/output_090.png\n",
      "INFO:spimagine.gui.glwidget | saving frame as /media/ivar/HDD3TB2/IN9400_exercises/week1/volume_convolution_demo/data/random_small/rendring2/output_091.png\n"
     ]
    },
    {
     "name": "stdout",
     "output_type": "stream",
     "text": [
      "record pos 90\n",
      "record pos 91\n"
     ]
    },
    {
     "name": "stderr",
     "output_type": "stream",
     "text": [
      "INFO:spimagine.gui.glwidget | saving frame as /media/ivar/HDD3TB2/IN9400_exercises/week1/volume_convolution_demo/data/random_small/rendring2/output_092.png\n"
     ]
    },
    {
     "name": "stdout",
     "output_type": "stream",
     "text": [
      "record pos 92\n"
     ]
    },
    {
     "name": "stderr",
     "output_type": "stream",
     "text": [
      "INFO:spimagine.gui.glwidget | saving frame as /media/ivar/HDD3TB2/IN9400_exercises/week1/volume_convolution_demo/data/random_small/rendring2/output_093.png\n"
     ]
    },
    {
     "name": "stdout",
     "output_type": "stream",
     "text": [
      "record pos 93\n"
     ]
    },
    {
     "name": "stderr",
     "output_type": "stream",
     "text": [
      "INFO:spimagine.gui.glwidget | saving frame as /media/ivar/HDD3TB2/IN9400_exercises/week1/volume_convolution_demo/data/random_small/rendring2/output_094.png\n"
     ]
    },
    {
     "name": "stdout",
     "output_type": "stream",
     "text": [
      "record pos 94\n"
     ]
    },
    {
     "name": "stderr",
     "output_type": "stream",
     "text": [
      "INFO:spimagine.gui.glwidget | saving frame as /media/ivar/HDD3TB2/IN9400_exercises/week1/volume_convolution_demo/data/random_small/rendring2/output_095.png\n"
     ]
    },
    {
     "name": "stdout",
     "output_type": "stream",
     "text": [
      "record pos 95\n"
     ]
    },
    {
     "name": "stderr",
     "output_type": "stream",
     "text": [
      "INFO:spimagine.gui.glwidget | saving frame as /media/ivar/HDD3TB2/IN9400_exercises/week1/volume_convolution_demo/data/random_small/rendring2/output_096.png\n"
     ]
    },
    {
     "name": "stdout",
     "output_type": "stream",
     "text": [
      "record pos 96\n"
     ]
    },
    {
     "name": "stderr",
     "output_type": "stream",
     "text": [
      "INFO:spimagine.gui.glwidget | saving frame as /media/ivar/HDD3TB2/IN9400_exercises/week1/volume_convolution_demo/data/random_small/rendring2/output_097.png\n",
      "INFO:spimagine.gui.glwidget | saving frame as /media/ivar/HDD3TB2/IN9400_exercises/week1/volume_convolution_demo/data/random_small/rendring2/output_098.png\n"
     ]
    },
    {
     "name": "stdout",
     "output_type": "stream",
     "text": [
      "record pos 97\n",
      "record pos 98\n"
     ]
    },
    {
     "name": "stderr",
     "output_type": "stream",
     "text": [
      "INFO:spimagine.gui.glwidget | saving frame as /media/ivar/HDD3TB2/IN9400_exercises/week1/volume_convolution_demo/data/random_small/rendring2/output_099.png\n",
      "INFO:spimagine.gui.glwidget | saving frame as /media/ivar/HDD3TB2/IN9400_exercises/week1/volume_convolution_demo/data/random_small/rendring2/output_100.png\n"
     ]
    },
    {
     "name": "stdout",
     "output_type": "stream",
     "text": [
      "record pos 99\n",
      "record pos 100\n"
     ]
    },
    {
     "name": "stderr",
     "output_type": "stream",
     "text": [
      "INFO:spimagine.gui.glwidget | saving frame as /media/ivar/HDD3TB2/IN9400_exercises/week1/volume_convolution_demo/data/random_small/rendring2/output_101.png\n",
      "INFO:spimagine.gui.glwidget | saving frame as /media/ivar/HDD3TB2/IN9400_exercises/week1/volume_convolution_demo/data/random_small/rendring3/output_002.png\n"
     ]
    },
    {
     "name": "stdout",
     "output_type": "stream",
     "text": [
      "record pos 1\n",
      "record pos 2\n"
     ]
    },
    {
     "name": "stderr",
     "output_type": "stream",
     "text": [
      "INFO:spimagine.gui.glwidget | saving frame as /media/ivar/HDD3TB2/IN9400_exercises/week1/volume_convolution_demo/data/random_small/rendring3/output_003.png\n"
     ]
    },
    {
     "name": "stdout",
     "output_type": "stream",
     "text": [
      "record pos 3\n"
     ]
    },
    {
     "name": "stderr",
     "output_type": "stream",
     "text": [
      "INFO:spimagine.gui.glwidget | saving frame as /media/ivar/HDD3TB2/IN9400_exercises/week1/volume_convolution_demo/data/random_small/rendring3/output_004.png\n"
     ]
    },
    {
     "name": "stdout",
     "output_type": "stream",
     "text": [
      "record pos 4\n"
     ]
    },
    {
     "name": "stderr",
     "output_type": "stream",
     "text": [
      "INFO:spimagine.gui.glwidget | saving frame as /media/ivar/HDD3TB2/IN9400_exercises/week1/volume_convolution_demo/data/random_small/rendring3/output_005.png\n"
     ]
    },
    {
     "name": "stdout",
     "output_type": "stream",
     "text": [
      "record pos 5\n"
     ]
    },
    {
     "name": "stderr",
     "output_type": "stream",
     "text": [
      "INFO:spimagine.gui.glwidget | saving frame as /media/ivar/HDD3TB2/IN9400_exercises/week1/volume_convolution_demo/data/random_small/rendring3/output_006.png\n"
     ]
    },
    {
     "name": "stdout",
     "output_type": "stream",
     "text": [
      "record pos 6\n"
     ]
    },
    {
     "name": "stderr",
     "output_type": "stream",
     "text": [
      "INFO:spimagine.gui.glwidget | saving frame as /media/ivar/HDD3TB2/IN9400_exercises/week1/volume_convolution_demo/data/random_small/rendring3/output_007.png\n"
     ]
    },
    {
     "name": "stdout",
     "output_type": "stream",
     "text": [
      "record pos 7\n",
      "record pos 8\n"
     ]
    },
    {
     "name": "stderr",
     "output_type": "stream",
     "text": [
      "INFO:spimagine.gui.glwidget | saving frame as /media/ivar/HDD3TB2/IN9400_exercises/week1/volume_convolution_demo/data/random_small/rendring3/output_008.png\n",
      "INFO:spimagine.gui.glwidget | saving frame as /media/ivar/HDD3TB2/IN9400_exercises/week1/volume_convolution_demo/data/random_small/rendring3/output_009.png\n",
      "INFO:spimagine.gui.glwidget | saving frame as /media/ivar/HDD3TB2/IN9400_exercises/week1/volume_convolution_demo/data/random_small/rendring3/output_010.png\n"
     ]
    },
    {
     "name": "stdout",
     "output_type": "stream",
     "text": [
      "record pos 9\n",
      "record pos 10\n"
     ]
    },
    {
     "name": "stderr",
     "output_type": "stream",
     "text": [
      "INFO:spimagine.gui.glwidget | saving frame as /media/ivar/HDD3TB2/IN9400_exercises/week1/volume_convolution_demo/data/random_small/rendring3/output_011.png\n"
     ]
    },
    {
     "name": "stdout",
     "output_type": "stream",
     "text": [
      "record pos 11\n"
     ]
    },
    {
     "name": "stderr",
     "output_type": "stream",
     "text": [
      "INFO:spimagine.gui.glwidget | saving frame as /media/ivar/HDD3TB2/IN9400_exercises/week1/volume_convolution_demo/data/random_small/rendring3/output_012.png\n"
     ]
    },
    {
     "name": "stdout",
     "output_type": "stream",
     "text": [
      "record pos 12\n"
     ]
    },
    {
     "name": "stderr",
     "output_type": "stream",
     "text": [
      "INFO:spimagine.gui.glwidget | saving frame as /media/ivar/HDD3TB2/IN9400_exercises/week1/volume_convolution_demo/data/random_small/rendring3/output_013.png\n"
     ]
    },
    {
     "name": "stdout",
     "output_type": "stream",
     "text": [
      "record pos 13\n"
     ]
    },
    {
     "name": "stderr",
     "output_type": "stream",
     "text": [
      "INFO:spimagine.gui.glwidget | saving frame as /media/ivar/HDD3TB2/IN9400_exercises/week1/volume_convolution_demo/data/random_small/rendring3/output_014.png\n"
     ]
    },
    {
     "name": "stdout",
     "output_type": "stream",
     "text": [
      "record pos 14\n",
      "record pos 15\n"
     ]
    },
    {
     "name": "stderr",
     "output_type": "stream",
     "text": [
      "INFO:spimagine.gui.glwidget | saving frame as /media/ivar/HDD3TB2/IN9400_exercises/week1/volume_convolution_demo/data/random_small/rendring3/output_015.png\n",
      "INFO:spimagine.gui.glwidget | saving frame as /media/ivar/HDD3TB2/IN9400_exercises/week1/volume_convolution_demo/data/random_small/rendring3/output_016.png\n",
      "INFO:spimagine.gui.glwidget | saving frame as /media/ivar/HDD3TB2/IN9400_exercises/week1/volume_convolution_demo/data/random_small/rendring3/output_017.png\n"
     ]
    },
    {
     "name": "stdout",
     "output_type": "stream",
     "text": [
      "record pos 16\n",
      "record pos 17\n"
     ]
    },
    {
     "name": "stderr",
     "output_type": "stream",
     "text": [
      "INFO:spimagine.gui.glwidget | saving frame as /media/ivar/HDD3TB2/IN9400_exercises/week1/volume_convolution_demo/data/random_small/rendring3/output_018.png\n"
     ]
    },
    {
     "name": "stdout",
     "output_type": "stream",
     "text": [
      "record pos 18\n"
     ]
    },
    {
     "name": "stderr",
     "output_type": "stream",
     "text": [
      "INFO:spimagine.gui.glwidget | saving frame as /media/ivar/HDD3TB2/IN9400_exercises/week1/volume_convolution_demo/data/random_small/rendring3/output_019.png\n",
      "INFO:spimagine.gui.glwidget | saving frame as /media/ivar/HDD3TB2/IN9400_exercises/week1/volume_convolution_demo/data/random_small/rendring3/output_020.png\n"
     ]
    },
    {
     "name": "stdout",
     "output_type": "stream",
     "text": [
      "record pos 19\n",
      "record pos 20\n"
     ]
    },
    {
     "name": "stderr",
     "output_type": "stream",
     "text": [
      "INFO:spimagine.gui.glwidget | saving frame as /media/ivar/HDD3TB2/IN9400_exercises/week1/volume_convolution_demo/data/random_small/rendring3/output_021.png\n"
     ]
    },
    {
     "name": "stdout",
     "output_type": "stream",
     "text": [
      "record pos 21\n"
     ]
    },
    {
     "name": "stderr",
     "output_type": "stream",
     "text": [
      "INFO:spimagine.gui.glwidget | saving frame as /media/ivar/HDD3TB2/IN9400_exercises/week1/volume_convolution_demo/data/random_small/rendring3/output_022.png\n"
     ]
    },
    {
     "name": "stdout",
     "output_type": "stream",
     "text": [
      "record pos 22\n"
     ]
    },
    {
     "name": "stderr",
     "output_type": "stream",
     "text": [
      "INFO:spimagine.gui.glwidget | saving frame as /media/ivar/HDD3TB2/IN9400_exercises/week1/volume_convolution_demo/data/random_small/rendring3/output_023.png\n"
     ]
    },
    {
     "name": "stdout",
     "output_type": "stream",
     "text": [
      "record pos 23\n"
     ]
    },
    {
     "name": "stderr",
     "output_type": "stream",
     "text": [
      "INFO:spimagine.gui.glwidget | saving frame as /media/ivar/HDD3TB2/IN9400_exercises/week1/volume_convolution_demo/data/random_small/rendring3/output_024.png\n"
     ]
    },
    {
     "name": "stdout",
     "output_type": "stream",
     "text": [
      "record pos 24\n"
     ]
    },
    {
     "name": "stderr",
     "output_type": "stream",
     "text": [
      "INFO:spimagine.gui.glwidget | saving frame as /media/ivar/HDD3TB2/IN9400_exercises/week1/volume_convolution_demo/data/random_small/rendring3/output_025.png\n"
     ]
    },
    {
     "name": "stdout",
     "output_type": "stream",
     "text": [
      "record pos 25\n"
     ]
    },
    {
     "name": "stderr",
     "output_type": "stream",
     "text": [
      "INFO:spimagine.gui.glwidget | saving frame as /media/ivar/HDD3TB2/IN9400_exercises/week1/volume_convolution_demo/data/random_small/rendring3/output_026.png\n"
     ]
    },
    {
     "name": "stdout",
     "output_type": "stream",
     "text": [
      "record pos 26\n",
      "record pos 27\n"
     ]
    },
    {
     "name": "stderr",
     "output_type": "stream",
     "text": [
      "INFO:spimagine.gui.glwidget | saving frame as /media/ivar/HDD3TB2/IN9400_exercises/week1/volume_convolution_demo/data/random_small/rendring3/output_027.png\n",
      "INFO:spimagine.gui.glwidget | saving frame as /media/ivar/HDD3TB2/IN9400_exercises/week1/volume_convolution_demo/data/random_small/rendring3/output_028.png\n"
     ]
    },
    {
     "name": "stdout",
     "output_type": "stream",
     "text": [
      "record pos 28\n"
     ]
    },
    {
     "name": "stderr",
     "output_type": "stream",
     "text": [
      "INFO:spimagine.gui.glwidget | saving frame as /media/ivar/HDD3TB2/IN9400_exercises/week1/volume_convolution_demo/data/random_small/rendring3/output_029.png\n"
     ]
    },
    {
     "name": "stdout",
     "output_type": "stream",
     "text": [
      "record pos 29\n"
     ]
    },
    {
     "name": "stderr",
     "output_type": "stream",
     "text": [
      "INFO:spimagine.gui.glwidget | saving frame as /media/ivar/HDD3TB2/IN9400_exercises/week1/volume_convolution_demo/data/random_small/rendring3/output_030.png\n"
     ]
    },
    {
     "name": "stdout",
     "output_type": "stream",
     "text": [
      "record pos 30\n"
     ]
    },
    {
     "name": "stderr",
     "output_type": "stream",
     "text": [
      "INFO:spimagine.gui.glwidget | saving frame as /media/ivar/HDD3TB2/IN9400_exercises/week1/volume_convolution_demo/data/random_small/rendring3/output_031.png\n"
     ]
    },
    {
     "name": "stdout",
     "output_type": "stream",
     "text": [
      "record pos 31\n"
     ]
    },
    {
     "name": "stderr",
     "output_type": "stream",
     "text": [
      "INFO:spimagine.gui.glwidget | saving frame as /media/ivar/HDD3TB2/IN9400_exercises/week1/volume_convolution_demo/data/random_small/rendring3/output_032.png\n"
     ]
    },
    {
     "name": "stdout",
     "output_type": "stream",
     "text": [
      "record pos 32\n"
     ]
    },
    {
     "name": "stderr",
     "output_type": "stream",
     "text": [
      "INFO:spimagine.gui.glwidget | saving frame as /media/ivar/HDD3TB2/IN9400_exercises/week1/volume_convolution_demo/data/random_small/rendring3/output_033.png\n"
     ]
    },
    {
     "name": "stdout",
     "output_type": "stream",
     "text": [
      "record pos 33\n"
     ]
    },
    {
     "name": "stderr",
     "output_type": "stream",
     "text": [
      "INFO:spimagine.gui.glwidget | saving frame as /media/ivar/HDD3TB2/IN9400_exercises/week1/volume_convolution_demo/data/random_small/rendring3/output_034.png\n"
     ]
    },
    {
     "name": "stdout",
     "output_type": "stream",
     "text": [
      "record pos 34\n"
     ]
    },
    {
     "name": "stderr",
     "output_type": "stream",
     "text": [
      "INFO:spimagine.gui.glwidget | saving frame as /media/ivar/HDD3TB2/IN9400_exercises/week1/volume_convolution_demo/data/random_small/rendring3/output_035.png\n"
     ]
    },
    {
     "name": "stdout",
     "output_type": "stream",
     "text": [
      "record pos 35\n"
     ]
    },
    {
     "name": "stderr",
     "output_type": "stream",
     "text": [
      "INFO:spimagine.gui.glwidget | saving frame as /media/ivar/HDD3TB2/IN9400_exercises/week1/volume_convolution_demo/data/random_small/rendring3/output_036.png\n"
     ]
    },
    {
     "name": "stdout",
     "output_type": "stream",
     "text": [
      "record pos 36\n"
     ]
    },
    {
     "name": "stderr",
     "output_type": "stream",
     "text": [
      "INFO:spimagine.gui.glwidget | saving frame as /media/ivar/HDD3TB2/IN9400_exercises/week1/volume_convolution_demo/data/random_small/rendring3/output_037.png\n"
     ]
    },
    {
     "name": "stdout",
     "output_type": "stream",
     "text": [
      "record pos 37\n"
     ]
    },
    {
     "name": "stderr",
     "output_type": "stream",
     "text": [
      "INFO:spimagine.gui.glwidget | saving frame as /media/ivar/HDD3TB2/IN9400_exercises/week1/volume_convolution_demo/data/random_small/rendring3/output_038.png\n"
     ]
    },
    {
     "name": "stdout",
     "output_type": "stream",
     "text": [
      "record pos 38\n"
     ]
    },
    {
     "name": "stderr",
     "output_type": "stream",
     "text": [
      "INFO:spimagine.gui.glwidget | saving frame as /media/ivar/HDD3TB2/IN9400_exercises/week1/volume_convolution_demo/data/random_small/rendring3/output_039.png\n"
     ]
    },
    {
     "name": "stdout",
     "output_type": "stream",
     "text": [
      "record pos 39\n"
     ]
    },
    {
     "name": "stderr",
     "output_type": "stream",
     "text": [
      "INFO:spimagine.gui.glwidget | saving frame as /media/ivar/HDD3TB2/IN9400_exercises/week1/volume_convolution_demo/data/random_small/rendring3/output_040.png\n"
     ]
    },
    {
     "name": "stdout",
     "output_type": "stream",
     "text": [
      "record pos 40\n"
     ]
    },
    {
     "name": "stderr",
     "output_type": "stream",
     "text": [
      "INFO:spimagine.gui.glwidget | saving frame as /media/ivar/HDD3TB2/IN9400_exercises/week1/volume_convolution_demo/data/random_small/rendring3/output_041.png\n"
     ]
    },
    {
     "name": "stdout",
     "output_type": "stream",
     "text": [
      "record pos 41\n"
     ]
    },
    {
     "name": "stderr",
     "output_type": "stream",
     "text": [
      "INFO:spimagine.gui.glwidget | saving frame as /media/ivar/HDD3TB2/IN9400_exercises/week1/volume_convolution_demo/data/random_small/rendring3/output_042.png\n"
     ]
    },
    {
     "name": "stdout",
     "output_type": "stream",
     "text": [
      "record pos 42\n"
     ]
    },
    {
     "name": "stderr",
     "output_type": "stream",
     "text": [
      "INFO:spimagine.gui.glwidget | saving frame as /media/ivar/HDD3TB2/IN9400_exercises/week1/volume_convolution_demo/data/random_small/rendring3/output_043.png\n"
     ]
    },
    {
     "name": "stdout",
     "output_type": "stream",
     "text": [
      "record pos 43\n"
     ]
    },
    {
     "name": "stderr",
     "output_type": "stream",
     "text": [
      "INFO:spimagine.gui.glwidget | saving frame as /media/ivar/HDD3TB2/IN9400_exercises/week1/volume_convolution_demo/data/random_small/rendring3/output_044.png\n"
     ]
    },
    {
     "name": "stdout",
     "output_type": "stream",
     "text": [
      "record pos 44\n"
     ]
    },
    {
     "name": "stderr",
     "output_type": "stream",
     "text": [
      "INFO:spimagine.gui.glwidget | saving frame as /media/ivar/HDD3TB2/IN9400_exercises/week1/volume_convolution_demo/data/random_small/rendring3/output_045.png\n"
     ]
    },
    {
     "name": "stdout",
     "output_type": "stream",
     "text": [
      "record pos 45\n"
     ]
    },
    {
     "name": "stderr",
     "output_type": "stream",
     "text": [
      "INFO:spimagine.gui.glwidget | saving frame as /media/ivar/HDD3TB2/IN9400_exercises/week1/volume_convolution_demo/data/random_small/rendring3/output_046.png\n"
     ]
    },
    {
     "name": "stdout",
     "output_type": "stream",
     "text": [
      "record pos 46\n"
     ]
    },
    {
     "name": "stderr",
     "output_type": "stream",
     "text": [
      "INFO:spimagine.gui.glwidget | saving frame as /media/ivar/HDD3TB2/IN9400_exercises/week1/volume_convolution_demo/data/random_small/rendring3/output_047.png\n"
     ]
    },
    {
     "name": "stdout",
     "output_type": "stream",
     "text": [
      "record pos 47\n"
     ]
    },
    {
     "name": "stderr",
     "output_type": "stream",
     "text": [
      "INFO:spimagine.gui.glwidget | saving frame as /media/ivar/HDD3TB2/IN9400_exercises/week1/volume_convolution_demo/data/random_small/rendring3/output_048.png\n"
     ]
    },
    {
     "name": "stdout",
     "output_type": "stream",
     "text": [
      "record pos 48\n"
     ]
    },
    {
     "name": "stderr",
     "output_type": "stream",
     "text": [
      "INFO:spimagine.gui.glwidget | saving frame as /media/ivar/HDD3TB2/IN9400_exercises/week1/volume_convolution_demo/data/random_small/rendring3/output_049.png\n"
     ]
    },
    {
     "name": "stdout",
     "output_type": "stream",
     "text": [
      "record pos 49\n"
     ]
    },
    {
     "name": "stderr",
     "output_type": "stream",
     "text": [
      "INFO:spimagine.gui.glwidget | saving frame as /media/ivar/HDD3TB2/IN9400_exercises/week1/volume_convolution_demo/data/random_small/rendring3/output_050.png\n"
     ]
    },
    {
     "name": "stdout",
     "output_type": "stream",
     "text": [
      "record pos 50\n"
     ]
    },
    {
     "name": "stderr",
     "output_type": "stream",
     "text": [
      "INFO:spimagine.gui.glwidget | saving frame as /media/ivar/HDD3TB2/IN9400_exercises/week1/volume_convolution_demo/data/random_small/rendring3/output_051.png\n"
     ]
    },
    {
     "name": "stdout",
     "output_type": "stream",
     "text": [
      "record pos 51\n"
     ]
    },
    {
     "name": "stderr",
     "output_type": "stream",
     "text": [
      "INFO:spimagine.gui.glwidget | saving frame as /media/ivar/HDD3TB2/IN9400_exercises/week1/volume_convolution_demo/data/random_small/rendring3/output_052.png\n"
     ]
    },
    {
     "name": "stdout",
     "output_type": "stream",
     "text": [
      "record pos 52\n"
     ]
    },
    {
     "name": "stderr",
     "output_type": "stream",
     "text": [
      "INFO:spimagine.gui.glwidget | saving frame as /media/ivar/HDD3TB2/IN9400_exercises/week1/volume_convolution_demo/data/random_small/rendring3/output_053.png\n"
     ]
    },
    {
     "name": "stdout",
     "output_type": "stream",
     "text": [
      "record pos 53\n"
     ]
    },
    {
     "name": "stderr",
     "output_type": "stream",
     "text": [
      "INFO:spimagine.gui.glwidget | saving frame as /media/ivar/HDD3TB2/IN9400_exercises/week1/volume_convolution_demo/data/random_small/rendring3/output_054.png\n"
     ]
    },
    {
     "name": "stdout",
     "output_type": "stream",
     "text": [
      "record pos 54\n"
     ]
    },
    {
     "name": "stderr",
     "output_type": "stream",
     "text": [
      "INFO:spimagine.gui.glwidget | saving frame as /media/ivar/HDD3TB2/IN9400_exercises/week1/volume_convolution_demo/data/random_small/rendring3/output_055.png\n"
     ]
    },
    {
     "name": "stdout",
     "output_type": "stream",
     "text": [
      "record pos 55\n"
     ]
    },
    {
     "name": "stderr",
     "output_type": "stream",
     "text": [
      "INFO:spimagine.gui.glwidget | saving frame as /media/ivar/HDD3TB2/IN9400_exercises/week1/volume_convolution_demo/data/random_small/rendring3/output_056.png\n"
     ]
    },
    {
     "name": "stdout",
     "output_type": "stream",
     "text": [
      "record pos 56\n"
     ]
    },
    {
     "name": "stderr",
     "output_type": "stream",
     "text": [
      "INFO:spimagine.gui.glwidget | saving frame as /media/ivar/HDD3TB2/IN9400_exercises/week1/volume_convolution_demo/data/random_small/rendring3/output_057.png\n"
     ]
    },
    {
     "name": "stdout",
     "output_type": "stream",
     "text": [
      "record pos 57\n"
     ]
    },
    {
     "name": "stderr",
     "output_type": "stream",
     "text": [
      "INFO:spimagine.gui.glwidget | saving frame as /media/ivar/HDD3TB2/IN9400_exercises/week1/volume_convolution_demo/data/random_small/rendring3/output_058.png\n"
     ]
    },
    {
     "name": "stdout",
     "output_type": "stream",
     "text": [
      "record pos 58\n"
     ]
    },
    {
     "name": "stderr",
     "output_type": "stream",
     "text": [
      "INFO:spimagine.gui.glwidget | saving frame as /media/ivar/HDD3TB2/IN9400_exercises/week1/volume_convolution_demo/data/random_small/rendring3/output_059.png\n"
     ]
    },
    {
     "name": "stdout",
     "output_type": "stream",
     "text": [
      "record pos 59\n"
     ]
    },
    {
     "name": "stderr",
     "output_type": "stream",
     "text": [
      "INFO:spimagine.gui.glwidget | saving frame as /media/ivar/HDD3TB2/IN9400_exercises/week1/volume_convolution_demo/data/random_small/rendring3/output_060.png\n"
     ]
    },
    {
     "name": "stdout",
     "output_type": "stream",
     "text": [
      "record pos 60\n"
     ]
    },
    {
     "name": "stderr",
     "output_type": "stream",
     "text": [
      "INFO:spimagine.gui.glwidget | saving frame as /media/ivar/HDD3TB2/IN9400_exercises/week1/volume_convolution_demo/data/random_small/rendring3/output_061.png\n"
     ]
    },
    {
     "name": "stdout",
     "output_type": "stream",
     "text": [
      "record pos 61\n"
     ]
    },
    {
     "name": "stderr",
     "output_type": "stream",
     "text": [
      "INFO:spimagine.gui.glwidget | saving frame as /media/ivar/HDD3TB2/IN9400_exercises/week1/volume_convolution_demo/data/random_small/rendring3/output_062.png\n"
     ]
    },
    {
     "name": "stdout",
     "output_type": "stream",
     "text": [
      "record pos 62\n"
     ]
    },
    {
     "name": "stderr",
     "output_type": "stream",
     "text": [
      "INFO:spimagine.gui.glwidget | saving frame as /media/ivar/HDD3TB2/IN9400_exercises/week1/volume_convolution_demo/data/random_small/rendring3/output_063.png\n"
     ]
    },
    {
     "name": "stdout",
     "output_type": "stream",
     "text": [
      "record pos 63\n"
     ]
    },
    {
     "name": "stderr",
     "output_type": "stream",
     "text": [
      "INFO:spimagine.gui.glwidget | saving frame as /media/ivar/HDD3TB2/IN9400_exercises/week1/volume_convolution_demo/data/random_small/rendring3/output_064.png\n"
     ]
    },
    {
     "name": "stdout",
     "output_type": "stream",
     "text": [
      "record pos 64\n"
     ]
    },
    {
     "name": "stderr",
     "output_type": "stream",
     "text": [
      "INFO:spimagine.gui.glwidget | saving frame as /media/ivar/HDD3TB2/IN9400_exercises/week1/volume_convolution_demo/data/random_small/rendring3/output_065.png\n",
      "INFO:spimagine.gui.glwidget | saving frame as /media/ivar/HDD3TB2/IN9400_exercises/week1/volume_convolution_demo/data/random_small/rendring3/output_066.png\n"
     ]
    },
    {
     "name": "stdout",
     "output_type": "stream",
     "text": [
      "record pos 65\n",
      "record pos 66\n"
     ]
    },
    {
     "name": "stderr",
     "output_type": "stream",
     "text": [
      "INFO:spimagine.gui.glwidget | saving frame as /media/ivar/HDD3TB2/IN9400_exercises/week1/volume_convolution_demo/data/random_small/rendring3/output_067.png\n"
     ]
    },
    {
     "name": "stdout",
     "output_type": "stream",
     "text": [
      "record pos 67\n"
     ]
    },
    {
     "name": "stderr",
     "output_type": "stream",
     "text": [
      "INFO:spimagine.gui.glwidget | saving frame as /media/ivar/HDD3TB2/IN9400_exercises/week1/volume_convolution_demo/data/random_small/rendring3/output_068.png\n"
     ]
    },
    {
     "name": "stdout",
     "output_type": "stream",
     "text": [
      "record pos 68\n"
     ]
    },
    {
     "name": "stderr",
     "output_type": "stream",
     "text": [
      "INFO:spimagine.gui.glwidget | saving frame as /media/ivar/HDD3TB2/IN9400_exercises/week1/volume_convolution_demo/data/random_small/rendring3/output_069.png\n"
     ]
    },
    {
     "name": "stdout",
     "output_type": "stream",
     "text": [
      "record pos 69\n"
     ]
    },
    {
     "name": "stderr",
     "output_type": "stream",
     "text": [
      "INFO:spimagine.gui.glwidget | saving frame as /media/ivar/HDD3TB2/IN9400_exercises/week1/volume_convolution_demo/data/random_small/rendring3/output_070.png\n"
     ]
    },
    {
     "name": "stdout",
     "output_type": "stream",
     "text": [
      "record pos 70\n"
     ]
    },
    {
     "name": "stderr",
     "output_type": "stream",
     "text": [
      "INFO:spimagine.gui.glwidget | saving frame as /media/ivar/HDD3TB2/IN9400_exercises/week1/volume_convolution_demo/data/random_small/rendring3/output_071.png\n"
     ]
    },
    {
     "name": "stdout",
     "output_type": "stream",
     "text": [
      "record pos 71\n"
     ]
    },
    {
     "name": "stderr",
     "output_type": "stream",
     "text": [
      "INFO:spimagine.gui.glwidget | saving frame as /media/ivar/HDD3TB2/IN9400_exercises/week1/volume_convolution_demo/data/random_small/rendring3/output_072.png\n"
     ]
    },
    {
     "name": "stdout",
     "output_type": "stream",
     "text": [
      "record pos 72\n"
     ]
    },
    {
     "name": "stderr",
     "output_type": "stream",
     "text": [
      "INFO:spimagine.gui.glwidget | saving frame as /media/ivar/HDD3TB2/IN9400_exercises/week1/volume_convolution_demo/data/random_small/rendring3/output_073.png\n"
     ]
    },
    {
     "name": "stdout",
     "output_type": "stream",
     "text": [
      "record pos 73\n"
     ]
    },
    {
     "name": "stderr",
     "output_type": "stream",
     "text": [
      "INFO:spimagine.gui.glwidget | saving frame as /media/ivar/HDD3TB2/IN9400_exercises/week1/volume_convolution_demo/data/random_small/rendring3/output_074.png\n"
     ]
    },
    {
     "name": "stdout",
     "output_type": "stream",
     "text": [
      "record pos 74\n"
     ]
    },
    {
     "name": "stderr",
     "output_type": "stream",
     "text": [
      "INFO:spimagine.gui.glwidget | saving frame as /media/ivar/HDD3TB2/IN9400_exercises/week1/volume_convolution_demo/data/random_small/rendring3/output_075.png\n"
     ]
    },
    {
     "name": "stdout",
     "output_type": "stream",
     "text": [
      "record pos 75\n"
     ]
    },
    {
     "name": "stderr",
     "output_type": "stream",
     "text": [
      "INFO:spimagine.gui.glwidget | saving frame as /media/ivar/HDD3TB2/IN9400_exercises/week1/volume_convolution_demo/data/random_small/rendring3/output_076.png\n",
      "INFO:spimagine.gui.glwidget | saving frame as /media/ivar/HDD3TB2/IN9400_exercises/week1/volume_convolution_demo/data/random_small/rendring3/output_077.png\n"
     ]
    },
    {
     "name": "stdout",
     "output_type": "stream",
     "text": [
      "record pos 76\n",
      "record pos 77\n"
     ]
    },
    {
     "name": "stderr",
     "output_type": "stream",
     "text": [
      "INFO:spimagine.gui.glwidget | saving frame as /media/ivar/HDD3TB2/IN9400_exercises/week1/volume_convolution_demo/data/random_small/rendring3/output_078.png\n"
     ]
    },
    {
     "name": "stdout",
     "output_type": "stream",
     "text": [
      "record pos 78\n"
     ]
    },
    {
     "name": "stderr",
     "output_type": "stream",
     "text": [
      "INFO:spimagine.gui.glwidget | saving frame as /media/ivar/HDD3TB2/IN9400_exercises/week1/volume_convolution_demo/data/random_small/rendring3/output_079.png\n"
     ]
    },
    {
     "name": "stdout",
     "output_type": "stream",
     "text": [
      "record pos 79\n"
     ]
    },
    {
     "name": "stderr",
     "output_type": "stream",
     "text": [
      "INFO:spimagine.gui.glwidget | saving frame as /media/ivar/HDD3TB2/IN9400_exercises/week1/volume_convolution_demo/data/random_small/rendring3/output_080.png\n"
     ]
    },
    {
     "name": "stdout",
     "output_type": "stream",
     "text": [
      "record pos 80\n"
     ]
    },
    {
     "name": "stderr",
     "output_type": "stream",
     "text": [
      "INFO:spimagine.gui.glwidget | saving frame as /media/ivar/HDD3TB2/IN9400_exercises/week1/volume_convolution_demo/data/random_small/rendring3/output_081.png\n"
     ]
    },
    {
     "name": "stdout",
     "output_type": "stream",
     "text": [
      "record pos 81\n"
     ]
    },
    {
     "name": "stderr",
     "output_type": "stream",
     "text": [
      "INFO:spimagine.gui.glwidget | saving frame as /media/ivar/HDD3TB2/IN9400_exercises/week1/volume_convolution_demo/data/random_small/rendring3/output_082.png\n",
      "INFO:spimagine.gui.glwidget | saving frame as /media/ivar/HDD3TB2/IN9400_exercises/week1/volume_convolution_demo/data/random_small/rendring3/output_083.png\n"
     ]
    },
    {
     "name": "stdout",
     "output_type": "stream",
     "text": [
      "record pos 82\n",
      "record pos 83\n"
     ]
    },
    {
     "name": "stderr",
     "output_type": "stream",
     "text": [
      "INFO:spimagine.gui.glwidget | saving frame as /media/ivar/HDD3TB2/IN9400_exercises/week1/volume_convolution_demo/data/random_small/rendring3/output_084.png\n"
     ]
    },
    {
     "name": "stdout",
     "output_type": "stream",
     "text": [
      "record pos 84\n"
     ]
    },
    {
     "name": "stderr",
     "output_type": "stream",
     "text": [
      "INFO:spimagine.gui.glwidget | saving frame as /media/ivar/HDD3TB2/IN9400_exercises/week1/volume_convolution_demo/data/random_small/rendring3/output_085.png\n"
     ]
    },
    {
     "name": "stdout",
     "output_type": "stream",
     "text": [
      "record pos 85\n"
     ]
    },
    {
     "name": "stderr",
     "output_type": "stream",
     "text": [
      "INFO:spimagine.gui.glwidget | saving frame as /media/ivar/HDD3TB2/IN9400_exercises/week1/volume_convolution_demo/data/random_small/rendring3/output_086.png\n"
     ]
    },
    {
     "name": "stdout",
     "output_type": "stream",
     "text": [
      "record pos 86\n"
     ]
    },
    {
     "name": "stderr",
     "output_type": "stream",
     "text": [
      "INFO:spimagine.gui.glwidget | saving frame as /media/ivar/HDD3TB2/IN9400_exercises/week1/volume_convolution_demo/data/random_small/rendring3/output_087.png\n"
     ]
    },
    {
     "name": "stdout",
     "output_type": "stream",
     "text": [
      "record pos 87\n"
     ]
    },
    {
     "name": "stderr",
     "output_type": "stream",
     "text": [
      "INFO:spimagine.gui.glwidget | saving frame as /media/ivar/HDD3TB2/IN9400_exercises/week1/volume_convolution_demo/data/random_small/rendring3/output_088.png\n"
     ]
    },
    {
     "name": "stdout",
     "output_type": "stream",
     "text": [
      "record pos 88\n",
      "record pos 89\n"
     ]
    },
    {
     "name": "stderr",
     "output_type": "stream",
     "text": [
      "INFO:spimagine.gui.glwidget | saving frame as /media/ivar/HDD3TB2/IN9400_exercises/week1/volume_convolution_demo/data/random_small/rendring3/output_089.png\n",
      "INFO:spimagine.gui.glwidget | saving frame as /media/ivar/HDD3TB2/IN9400_exercises/week1/volume_convolution_demo/data/random_small/rendring3/output_090.png\n"
     ]
    },
    {
     "name": "stdout",
     "output_type": "stream",
     "text": [
      "record pos 90\n"
     ]
    },
    {
     "name": "stderr",
     "output_type": "stream",
     "text": [
      "INFO:spimagine.gui.glwidget | saving frame as /media/ivar/HDD3TB2/IN9400_exercises/week1/volume_convolution_demo/data/random_small/rendring3/output_091.png\n"
     ]
    },
    {
     "name": "stdout",
     "output_type": "stream",
     "text": [
      "record pos 91\n"
     ]
    },
    {
     "name": "stderr",
     "output_type": "stream",
     "text": [
      "INFO:spimagine.gui.glwidget | saving frame as /media/ivar/HDD3TB2/IN9400_exercises/week1/volume_convolution_demo/data/random_small/rendring3/output_092.png\n"
     ]
    },
    {
     "name": "stdout",
     "output_type": "stream",
     "text": [
      "record pos 92\n"
     ]
    },
    {
     "name": "stderr",
     "output_type": "stream",
     "text": [
      "INFO:spimagine.gui.glwidget | saving frame as /media/ivar/HDD3TB2/IN9400_exercises/week1/volume_convolution_demo/data/random_small/rendring3/output_093.png\n"
     ]
    },
    {
     "name": "stdout",
     "output_type": "stream",
     "text": [
      "record pos 93\n"
     ]
    },
    {
     "name": "stderr",
     "output_type": "stream",
     "text": [
      "INFO:spimagine.gui.glwidget | saving frame as /media/ivar/HDD3TB2/IN9400_exercises/week1/volume_convolution_demo/data/random_small/rendring3/output_094.png\n"
     ]
    },
    {
     "name": "stdout",
     "output_type": "stream",
     "text": [
      "record pos 94\n"
     ]
    },
    {
     "name": "stderr",
     "output_type": "stream",
     "text": [
      "INFO:spimagine.gui.glwidget | saving frame as /media/ivar/HDD3TB2/IN9400_exercises/week1/volume_convolution_demo/data/random_small/rendring3/output_095.png\n"
     ]
    },
    {
     "name": "stdout",
     "output_type": "stream",
     "text": [
      "record pos 95\n"
     ]
    },
    {
     "name": "stderr",
     "output_type": "stream",
     "text": [
      "INFO:spimagine.gui.glwidget | saving frame as /media/ivar/HDD3TB2/IN9400_exercises/week1/volume_convolution_demo/data/random_small/rendring3/output_096.png\n"
     ]
    },
    {
     "name": "stdout",
     "output_type": "stream",
     "text": [
      "record pos 96\n"
     ]
    },
    {
     "name": "stderr",
     "output_type": "stream",
     "text": [
      "INFO:spimagine.gui.glwidget | saving frame as /media/ivar/HDD3TB2/IN9400_exercises/week1/volume_convolution_demo/data/random_small/rendring3/output_097.png\n"
     ]
    },
    {
     "name": "stdout",
     "output_type": "stream",
     "text": [
      "record pos 97\n"
     ]
    },
    {
     "name": "stderr",
     "output_type": "stream",
     "text": [
      "INFO:spimagine.gui.glwidget | saving frame as /media/ivar/HDD3TB2/IN9400_exercises/week1/volume_convolution_demo/data/random_small/rendring3/output_098.png\n",
      "INFO:spimagine.gui.glwidget | saving frame as /media/ivar/HDD3TB2/IN9400_exercises/week1/volume_convolution_demo/data/random_small/rendring3/output_099.png\n"
     ]
    },
    {
     "name": "stdout",
     "output_type": "stream",
     "text": [
      "record pos 98\n",
      "record pos 99\n"
     ]
    },
    {
     "name": "stderr",
     "output_type": "stream",
     "text": [
      "INFO:spimagine.gui.glwidget | saving frame as /media/ivar/HDD3TB2/IN9400_exercises/week1/volume_convolution_demo/data/random_small/rendring3/output_100.png\n"
     ]
    },
    {
     "name": "stdout",
     "output_type": "stream",
     "text": [
      "record pos 100\n"
     ]
    },
    {
     "name": "stderr",
     "output_type": "stream",
     "text": [
      "INFO:spimagine.gui.glwidget | saving frame as /media/ivar/HDD3TB2/IN9400_exercises/week1/volume_convolution_demo/data/random_small/rendring3/output_101.png\n"
     ]
    },
    {
     "name": "stdout",
     "output_type": "stream",
     "text": [
      "record pos 1\n",
      "record pos 2\n"
     ]
    },
    {
     "name": "stderr",
     "output_type": "stream",
     "text": [
      "INFO:spimagine.gui.glwidget | saving frame as /media/ivar/HDD3TB2/IN9400_exercises/week1/volume_convolution_demo/data/random_small/rendring4/output_002.png\n",
      "INFO:spimagine.gui.glwidget | saving frame as /media/ivar/HDD3TB2/IN9400_exercises/week1/volume_convolution_demo/data/random_small/rendring4/output_003.png\n"
     ]
    },
    {
     "name": "stdout",
     "output_type": "stream",
     "text": [
      "record pos 3\n"
     ]
    },
    {
     "name": "stderr",
     "output_type": "stream",
     "text": [
      "INFO:spimagine.gui.glwidget | saving frame as /media/ivar/HDD3TB2/IN9400_exercises/week1/volume_convolution_demo/data/random_small/rendring4/output_004.png\n"
     ]
    },
    {
     "name": "stdout",
     "output_type": "stream",
     "text": [
      "record pos 4\n"
     ]
    },
    {
     "name": "stderr",
     "output_type": "stream",
     "text": [
      "INFO:spimagine.gui.glwidget | saving frame as /media/ivar/HDD3TB2/IN9400_exercises/week1/volume_convolution_demo/data/random_small/rendring4/output_005.png\n"
     ]
    },
    {
     "name": "stdout",
     "output_type": "stream",
     "text": [
      "record pos 5\n"
     ]
    },
    {
     "name": "stderr",
     "output_type": "stream",
     "text": [
      "INFO:spimagine.gui.glwidget | saving frame as /media/ivar/HDD3TB2/IN9400_exercises/week1/volume_convolution_demo/data/random_small/rendring4/output_006.png\n"
     ]
    },
    {
     "name": "stdout",
     "output_type": "stream",
     "text": [
      "record pos 6\n"
     ]
    },
    {
     "name": "stderr",
     "output_type": "stream",
     "text": [
      "INFO:spimagine.gui.glwidget | saving frame as /media/ivar/HDD3TB2/IN9400_exercises/week1/volume_convolution_demo/data/random_small/rendring4/output_007.png\n",
      "INFO:spimagine.gui.glwidget | saving frame as /media/ivar/HDD3TB2/IN9400_exercises/week1/volume_convolution_demo/data/random_small/rendring4/output_008.png\n"
     ]
    },
    {
     "name": "stdout",
     "output_type": "stream",
     "text": [
      "record pos 7\n",
      "record pos 8\n"
     ]
    },
    {
     "name": "stderr",
     "output_type": "stream",
     "text": [
      "INFO:spimagine.gui.glwidget | saving frame as /media/ivar/HDD3TB2/IN9400_exercises/week1/volume_convolution_demo/data/random_small/rendring4/output_009.png\n"
     ]
    },
    {
     "name": "stdout",
     "output_type": "stream",
     "text": [
      "record pos 9\n"
     ]
    },
    {
     "name": "stderr",
     "output_type": "stream",
     "text": [
      "INFO:spimagine.gui.glwidget | saving frame as /media/ivar/HDD3TB2/IN9400_exercises/week1/volume_convolution_demo/data/random_small/rendring4/output_010.png\n"
     ]
    },
    {
     "name": "stdout",
     "output_type": "stream",
     "text": [
      "record pos 10\n"
     ]
    },
    {
     "name": "stderr",
     "output_type": "stream",
     "text": [
      "INFO:spimagine.gui.glwidget | saving frame as /media/ivar/HDD3TB2/IN9400_exercises/week1/volume_convolution_demo/data/random_small/rendring4/output_011.png\n"
     ]
    },
    {
     "name": "stdout",
     "output_type": "stream",
     "text": [
      "record pos 11\n"
     ]
    },
    {
     "name": "stderr",
     "output_type": "stream",
     "text": [
      "INFO:spimagine.gui.glwidget | saving frame as /media/ivar/HDD3TB2/IN9400_exercises/week1/volume_convolution_demo/data/random_small/rendring4/output_012.png\n"
     ]
    },
    {
     "name": "stdout",
     "output_type": "stream",
     "text": [
      "record pos 12\n"
     ]
    },
    {
     "name": "stderr",
     "output_type": "stream",
     "text": [
      "INFO:spimagine.gui.glwidget | saving frame as /media/ivar/HDD3TB2/IN9400_exercises/week1/volume_convolution_demo/data/random_small/rendring4/output_013.png\n"
     ]
    },
    {
     "name": "stdout",
     "output_type": "stream",
     "text": [
      "record pos 13\n"
     ]
    },
    {
     "name": "stderr",
     "output_type": "stream",
     "text": [
      "INFO:spimagine.gui.glwidget | saving frame as /media/ivar/HDD3TB2/IN9400_exercises/week1/volume_convolution_demo/data/random_small/rendring4/output_014.png\n"
     ]
    },
    {
     "name": "stdout",
     "output_type": "stream",
     "text": [
      "record pos 14\n"
     ]
    },
    {
     "name": "stderr",
     "output_type": "stream",
     "text": [
      "INFO:spimagine.gui.glwidget | saving frame as /media/ivar/HDD3TB2/IN9400_exercises/week1/volume_convolution_demo/data/random_small/rendring4/output_015.png\n"
     ]
    },
    {
     "name": "stdout",
     "output_type": "stream",
     "text": [
      "record pos 15\n"
     ]
    },
    {
     "name": "stderr",
     "output_type": "stream",
     "text": [
      "INFO:spimagine.gui.glwidget | saving frame as /media/ivar/HDD3TB2/IN9400_exercises/week1/volume_convolution_demo/data/random_small/rendring4/output_016.png\n"
     ]
    },
    {
     "name": "stdout",
     "output_type": "stream",
     "text": [
      "record pos 16\n"
     ]
    },
    {
     "name": "stderr",
     "output_type": "stream",
     "text": [
      "INFO:spimagine.gui.glwidget | saving frame as /media/ivar/HDD3TB2/IN9400_exercises/week1/volume_convolution_demo/data/random_small/rendring4/output_017.png\n"
     ]
    },
    {
     "name": "stdout",
     "output_type": "stream",
     "text": [
      "record pos 17\n"
     ]
    },
    {
     "name": "stderr",
     "output_type": "stream",
     "text": [
      "INFO:spimagine.gui.glwidget | saving frame as /media/ivar/HDD3TB2/IN9400_exercises/week1/volume_convolution_demo/data/random_small/rendring4/output_018.png\n"
     ]
    },
    {
     "name": "stdout",
     "output_type": "stream",
     "text": [
      "record pos 18\n"
     ]
    },
    {
     "name": "stderr",
     "output_type": "stream",
     "text": [
      "INFO:spimagine.gui.glwidget | saving frame as /media/ivar/HDD3TB2/IN9400_exercises/week1/volume_convolution_demo/data/random_small/rendring4/output_019.png\n"
     ]
    },
    {
     "name": "stdout",
     "output_type": "stream",
     "text": [
      "record pos 19\n"
     ]
    },
    {
     "name": "stderr",
     "output_type": "stream",
     "text": [
      "INFO:spimagine.gui.glwidget | saving frame as /media/ivar/HDD3TB2/IN9400_exercises/week1/volume_convolution_demo/data/random_small/rendring4/output_020.png\n"
     ]
    },
    {
     "name": "stdout",
     "output_type": "stream",
     "text": [
      "record pos 20\n"
     ]
    },
    {
     "name": "stderr",
     "output_type": "stream",
     "text": [
      "INFO:spimagine.gui.glwidget | saving frame as /media/ivar/HDD3TB2/IN9400_exercises/week1/volume_convolution_demo/data/random_small/rendring4/output_021.png\n"
     ]
    },
    {
     "name": "stdout",
     "output_type": "stream",
     "text": [
      "record pos 21\n"
     ]
    },
    {
     "name": "stderr",
     "output_type": "stream",
     "text": [
      "INFO:spimagine.gui.glwidget | saving frame as /media/ivar/HDD3TB2/IN9400_exercises/week1/volume_convolution_demo/data/random_small/rendring4/output_022.png\n"
     ]
    },
    {
     "name": "stdout",
     "output_type": "stream",
     "text": [
      "record pos 22\n"
     ]
    },
    {
     "name": "stderr",
     "output_type": "stream",
     "text": [
      "INFO:spimagine.gui.glwidget | saving frame as /media/ivar/HDD3TB2/IN9400_exercises/week1/volume_convolution_demo/data/random_small/rendring4/output_023.png\n"
     ]
    },
    {
     "name": "stdout",
     "output_type": "stream",
     "text": [
      "record pos 23\n"
     ]
    },
    {
     "name": "stderr",
     "output_type": "stream",
     "text": [
      "INFO:spimagine.gui.glwidget | saving frame as /media/ivar/HDD3TB2/IN9400_exercises/week1/volume_convolution_demo/data/random_small/rendring4/output_024.png\n"
     ]
    },
    {
     "name": "stdout",
     "output_type": "stream",
     "text": [
      "record pos 24\n"
     ]
    },
    {
     "name": "stderr",
     "output_type": "stream",
     "text": [
      "INFO:spimagine.gui.glwidget | saving frame as /media/ivar/HDD3TB2/IN9400_exercises/week1/volume_convolution_demo/data/random_small/rendring4/output_025.png\n"
     ]
    },
    {
     "name": "stdout",
     "output_type": "stream",
     "text": [
      "record pos 25\n"
     ]
    },
    {
     "name": "stderr",
     "output_type": "stream",
     "text": [
      "INFO:spimagine.gui.glwidget | saving frame as /media/ivar/HDD3TB2/IN9400_exercises/week1/volume_convolution_demo/data/random_small/rendring4/output_026.png\n"
     ]
    },
    {
     "name": "stdout",
     "output_type": "stream",
     "text": [
      "record pos 26\n"
     ]
    },
    {
     "name": "stderr",
     "output_type": "stream",
     "text": [
      "INFO:spimagine.gui.glwidget | saving frame as /media/ivar/HDD3TB2/IN9400_exercises/week1/volume_convolution_demo/data/random_small/rendring4/output_027.png\n"
     ]
    },
    {
     "name": "stdout",
     "output_type": "stream",
     "text": [
      "record pos 27\n"
     ]
    },
    {
     "name": "stderr",
     "output_type": "stream",
     "text": [
      "INFO:spimagine.gui.glwidget | saving frame as /media/ivar/HDD3TB2/IN9400_exercises/week1/volume_convolution_demo/data/random_small/rendring4/output_028.png\n"
     ]
    },
    {
     "name": "stdout",
     "output_type": "stream",
     "text": [
      "record pos 28\n"
     ]
    },
    {
     "name": "stderr",
     "output_type": "stream",
     "text": [
      "INFO:spimagine.gui.glwidget | saving frame as /media/ivar/HDD3TB2/IN9400_exercises/week1/volume_convolution_demo/data/random_small/rendring4/output_029.png\n"
     ]
    },
    {
     "name": "stdout",
     "output_type": "stream",
     "text": [
      "record pos 29\n"
     ]
    },
    {
     "name": "stderr",
     "output_type": "stream",
     "text": [
      "INFO:spimagine.gui.glwidget | saving frame as /media/ivar/HDD3TB2/IN9400_exercises/week1/volume_convolution_demo/data/random_small/rendring4/output_030.png\n"
     ]
    },
    {
     "name": "stdout",
     "output_type": "stream",
     "text": [
      "record pos 30\n"
     ]
    },
    {
     "name": "stderr",
     "output_type": "stream",
     "text": [
      "INFO:spimagine.gui.glwidget | saving frame as /media/ivar/HDD3TB2/IN9400_exercises/week1/volume_convolution_demo/data/random_small/rendring4/output_031.png\n"
     ]
    },
    {
     "name": "stdout",
     "output_type": "stream",
     "text": [
      "record pos 31\n"
     ]
    },
    {
     "name": "stderr",
     "output_type": "stream",
     "text": [
      "INFO:spimagine.gui.glwidget | saving frame as /media/ivar/HDD3TB2/IN9400_exercises/week1/volume_convolution_demo/data/random_small/rendring4/output_032.png\n"
     ]
    },
    {
     "name": "stdout",
     "output_type": "stream",
     "text": [
      "record pos 32\n"
     ]
    },
    {
     "name": "stderr",
     "output_type": "stream",
     "text": [
      "INFO:spimagine.gui.glwidget | saving frame as /media/ivar/HDD3TB2/IN9400_exercises/week1/volume_convolution_demo/data/random_small/rendring4/output_033.png\n"
     ]
    },
    {
     "name": "stdout",
     "output_type": "stream",
     "text": [
      "record pos 33\n"
     ]
    },
    {
     "name": "stderr",
     "output_type": "stream",
     "text": [
      "INFO:spimagine.gui.glwidget | saving frame as /media/ivar/HDD3TB2/IN9400_exercises/week1/volume_convolution_demo/data/random_small/rendring4/output_034.png\n"
     ]
    },
    {
     "name": "stdout",
     "output_type": "stream",
     "text": [
      "record pos 34\n"
     ]
    },
    {
     "name": "stderr",
     "output_type": "stream",
     "text": [
      "INFO:spimagine.gui.glwidget | saving frame as /media/ivar/HDD3TB2/IN9400_exercises/week1/volume_convolution_demo/data/random_small/rendring4/output_035.png\n"
     ]
    },
    {
     "name": "stdout",
     "output_type": "stream",
     "text": [
      "record pos 35\n"
     ]
    },
    {
     "name": "stderr",
     "output_type": "stream",
     "text": [
      "INFO:spimagine.gui.glwidget | saving frame as /media/ivar/HDD3TB2/IN9400_exercises/week1/volume_convolution_demo/data/random_small/rendring4/output_036.png\n"
     ]
    },
    {
     "name": "stdout",
     "output_type": "stream",
     "text": [
      "record pos 36\n"
     ]
    },
    {
     "name": "stderr",
     "output_type": "stream",
     "text": [
      "INFO:spimagine.gui.glwidget | saving frame as /media/ivar/HDD3TB2/IN9400_exercises/week1/volume_convolution_demo/data/random_small/rendring4/output_037.png\n"
     ]
    },
    {
     "name": "stdout",
     "output_type": "stream",
     "text": [
      "record pos 37\n"
     ]
    },
    {
     "name": "stderr",
     "output_type": "stream",
     "text": [
      "INFO:spimagine.gui.glwidget | saving frame as /media/ivar/HDD3TB2/IN9400_exercises/week1/volume_convolution_demo/data/random_small/rendring4/output_038.png\n"
     ]
    },
    {
     "name": "stdout",
     "output_type": "stream",
     "text": [
      "record pos 38\n"
     ]
    },
    {
     "name": "stderr",
     "output_type": "stream",
     "text": [
      "INFO:spimagine.gui.glwidget | saving frame as /media/ivar/HDD3TB2/IN9400_exercises/week1/volume_convolution_demo/data/random_small/rendring4/output_039.png\n"
     ]
    },
    {
     "name": "stdout",
     "output_type": "stream",
     "text": [
      "record pos 39\n"
     ]
    },
    {
     "name": "stderr",
     "output_type": "stream",
     "text": [
      "INFO:spimagine.gui.glwidget | saving frame as /media/ivar/HDD3TB2/IN9400_exercises/week1/volume_convolution_demo/data/random_small/rendring4/output_040.png\n"
     ]
    },
    {
     "name": "stdout",
     "output_type": "stream",
     "text": [
      "record pos 40\n"
     ]
    },
    {
     "name": "stderr",
     "output_type": "stream",
     "text": [
      "INFO:spimagine.gui.glwidget | saving frame as /media/ivar/HDD3TB2/IN9400_exercises/week1/volume_convolution_demo/data/random_small/rendring4/output_041.png\n"
     ]
    },
    {
     "name": "stdout",
     "output_type": "stream",
     "text": [
      "record pos 41\n"
     ]
    },
    {
     "name": "stderr",
     "output_type": "stream",
     "text": [
      "INFO:spimagine.gui.glwidget | saving frame as /media/ivar/HDD3TB2/IN9400_exercises/week1/volume_convolution_demo/data/random_small/rendring4/output_042.png\n"
     ]
    },
    {
     "name": "stdout",
     "output_type": "stream",
     "text": [
      "record pos 42\n"
     ]
    },
    {
     "name": "stderr",
     "output_type": "stream",
     "text": [
      "INFO:spimagine.gui.glwidget | saving frame as /media/ivar/HDD3TB2/IN9400_exercises/week1/volume_convolution_demo/data/random_small/rendring4/output_043.png\n"
     ]
    },
    {
     "name": "stdout",
     "output_type": "stream",
     "text": [
      "record pos 43\n"
     ]
    },
    {
     "name": "stderr",
     "output_type": "stream",
     "text": [
      "INFO:spimagine.gui.glwidget | saving frame as /media/ivar/HDD3TB2/IN9400_exercises/week1/volume_convolution_demo/data/random_small/rendring4/output_044.png\n"
     ]
    },
    {
     "name": "stdout",
     "output_type": "stream",
     "text": [
      "record pos 44\n"
     ]
    },
    {
     "name": "stderr",
     "output_type": "stream",
     "text": [
      "INFO:spimagine.gui.glwidget | saving frame as /media/ivar/HDD3TB2/IN9400_exercises/week1/volume_convolution_demo/data/random_small/rendring4/output_045.png\n",
      "INFO:spimagine.gui.glwidget | saving frame as /media/ivar/HDD3TB2/IN9400_exercises/week1/volume_convolution_demo/data/random_small/rendring4/output_046.png\n"
     ]
    },
    {
     "name": "stdout",
     "output_type": "stream",
     "text": [
      "record pos 45\n",
      "record pos 46\n"
     ]
    },
    {
     "name": "stderr",
     "output_type": "stream",
     "text": [
      "INFO:spimagine.gui.glwidget | saving frame as /media/ivar/HDD3TB2/IN9400_exercises/week1/volume_convolution_demo/data/random_small/rendring4/output_047.png\n"
     ]
    },
    {
     "name": "stdout",
     "output_type": "stream",
     "text": [
      "record pos 47\n"
     ]
    },
    {
     "name": "stderr",
     "output_type": "stream",
     "text": [
      "INFO:spimagine.gui.glwidget | saving frame as /media/ivar/HDD3TB2/IN9400_exercises/week1/volume_convolution_demo/data/random_small/rendring4/output_048.png\n"
     ]
    },
    {
     "name": "stdout",
     "output_type": "stream",
     "text": [
      "record pos 48\n"
     ]
    },
    {
     "name": "stderr",
     "output_type": "stream",
     "text": [
      "INFO:spimagine.gui.glwidget | saving frame as /media/ivar/HDD3TB2/IN9400_exercises/week1/volume_convolution_demo/data/random_small/rendring4/output_049.png\n",
      "INFO:spimagine.gui.glwidget | saving frame as /media/ivar/HDD3TB2/IN9400_exercises/week1/volume_convolution_demo/data/random_small/rendring4/output_050.png\n"
     ]
    },
    {
     "name": "stdout",
     "output_type": "stream",
     "text": [
      "record pos 49\n",
      "record pos 50\n"
     ]
    },
    {
     "name": "stderr",
     "output_type": "stream",
     "text": [
      "INFO:spimagine.gui.glwidget | saving frame as /media/ivar/HDD3TB2/IN9400_exercises/week1/volume_convolution_demo/data/random_small/rendring4/output_051.png\n"
     ]
    },
    {
     "name": "stdout",
     "output_type": "stream",
     "text": [
      "record pos 51\n"
     ]
    },
    {
     "name": "stderr",
     "output_type": "stream",
     "text": [
      "INFO:spimagine.gui.glwidget | saving frame as /media/ivar/HDD3TB2/IN9400_exercises/week1/volume_convolution_demo/data/random_small/rendring4/output_052.png\n"
     ]
    },
    {
     "name": "stdout",
     "output_type": "stream",
     "text": [
      "record pos 52\n"
     ]
    },
    {
     "name": "stderr",
     "output_type": "stream",
     "text": [
      "INFO:spimagine.gui.glwidget | saving frame as /media/ivar/HDD3TB2/IN9400_exercises/week1/volume_convolution_demo/data/random_small/rendring4/output_053.png\n"
     ]
    },
    {
     "name": "stdout",
     "output_type": "stream",
     "text": [
      "record pos 53\n"
     ]
    },
    {
     "name": "stderr",
     "output_type": "stream",
     "text": [
      "INFO:spimagine.gui.glwidget | saving frame as /media/ivar/HDD3TB2/IN9400_exercises/week1/volume_convolution_demo/data/random_small/rendring4/output_054.png\n"
     ]
    },
    {
     "name": "stdout",
     "output_type": "stream",
     "text": [
      "record pos 54\n"
     ]
    },
    {
     "name": "stderr",
     "output_type": "stream",
     "text": [
      "INFO:spimagine.gui.glwidget | saving frame as /media/ivar/HDD3TB2/IN9400_exercises/week1/volume_convolution_demo/data/random_small/rendring4/output_055.png\n"
     ]
    },
    {
     "name": "stdout",
     "output_type": "stream",
     "text": [
      "record pos 55\n"
     ]
    },
    {
     "name": "stderr",
     "output_type": "stream",
     "text": [
      "INFO:spimagine.gui.glwidget | saving frame as /media/ivar/HDD3TB2/IN9400_exercises/week1/volume_convolution_demo/data/random_small/rendring4/output_056.png\n"
     ]
    },
    {
     "name": "stdout",
     "output_type": "stream",
     "text": [
      "record pos 56\n"
     ]
    },
    {
     "name": "stderr",
     "output_type": "stream",
     "text": [
      "INFO:spimagine.gui.glwidget | saving frame as /media/ivar/HDD3TB2/IN9400_exercises/week1/volume_convolution_demo/data/random_small/rendring4/output_057.png\n"
     ]
    },
    {
     "name": "stdout",
     "output_type": "stream",
     "text": [
      "record pos 57\n"
     ]
    },
    {
     "name": "stderr",
     "output_type": "stream",
     "text": [
      "INFO:spimagine.gui.glwidget | saving frame as /media/ivar/HDD3TB2/IN9400_exercises/week1/volume_convolution_demo/data/random_small/rendring4/output_058.png\n"
     ]
    },
    {
     "name": "stdout",
     "output_type": "stream",
     "text": [
      "record pos 58\n",
      "record pos 59\n"
     ]
    },
    {
     "name": "stderr",
     "output_type": "stream",
     "text": [
      "INFO:spimagine.gui.glwidget | saving frame as /media/ivar/HDD3TB2/IN9400_exercises/week1/volume_convolution_demo/data/random_small/rendring4/output_059.png\n",
      "INFO:spimagine.gui.glwidget | saving frame as /media/ivar/HDD3TB2/IN9400_exercises/week1/volume_convolution_demo/data/random_small/rendring4/output_060.png\n"
     ]
    },
    {
     "name": "stdout",
     "output_type": "stream",
     "text": [
      "record pos 60\n"
     ]
    },
    {
     "name": "stderr",
     "output_type": "stream",
     "text": [
      "INFO:spimagine.gui.glwidget | saving frame as /media/ivar/HDD3TB2/IN9400_exercises/week1/volume_convolution_demo/data/random_small/rendring4/output_061.png\n"
     ]
    },
    {
     "name": "stdout",
     "output_type": "stream",
     "text": [
      "record pos 61\n"
     ]
    },
    {
     "name": "stderr",
     "output_type": "stream",
     "text": [
      "INFO:spimagine.gui.glwidget | saving frame as /media/ivar/HDD3TB2/IN9400_exercises/week1/volume_convolution_demo/data/random_small/rendring4/output_062.png\n"
     ]
    },
    {
     "name": "stdout",
     "output_type": "stream",
     "text": [
      "record pos 62\n"
     ]
    },
    {
     "name": "stderr",
     "output_type": "stream",
     "text": [
      "INFO:spimagine.gui.glwidget | saving frame as /media/ivar/HDD3TB2/IN9400_exercises/week1/volume_convolution_demo/data/random_small/rendring4/output_063.png\n",
      "INFO:spimagine.gui.glwidget | saving frame as /media/ivar/HDD3TB2/IN9400_exercises/week1/volume_convolution_demo/data/random_small/rendring4/output_064.png\n"
     ]
    },
    {
     "name": "stdout",
     "output_type": "stream",
     "text": [
      "record pos 63\n",
      "record pos 64\n"
     ]
    },
    {
     "name": "stderr",
     "output_type": "stream",
     "text": [
      "INFO:spimagine.gui.glwidget | saving frame as /media/ivar/HDD3TB2/IN9400_exercises/week1/volume_convolution_demo/data/random_small/rendring4/output_065.png\n"
     ]
    },
    {
     "name": "stdout",
     "output_type": "stream",
     "text": [
      "record pos 65\n"
     ]
    },
    {
     "name": "stderr",
     "output_type": "stream",
     "text": [
      "INFO:spimagine.gui.glwidget | saving frame as /media/ivar/HDD3TB2/IN9400_exercises/week1/volume_convolution_demo/data/random_small/rendring4/output_066.png\n"
     ]
    },
    {
     "name": "stdout",
     "output_type": "stream",
     "text": [
      "record pos 66\n"
     ]
    },
    {
     "name": "stderr",
     "output_type": "stream",
     "text": [
      "INFO:spimagine.gui.glwidget | saving frame as /media/ivar/HDD3TB2/IN9400_exercises/week1/volume_convolution_demo/data/random_small/rendring4/output_067.png\n"
     ]
    },
    {
     "name": "stdout",
     "output_type": "stream",
     "text": [
      "record pos 67\n"
     ]
    },
    {
     "name": "stderr",
     "output_type": "stream",
     "text": [
      "INFO:spimagine.gui.glwidget | saving frame as /media/ivar/HDD3TB2/IN9400_exercises/week1/volume_convolution_demo/data/random_small/rendring4/output_068.png\n"
     ]
    },
    {
     "name": "stdout",
     "output_type": "stream",
     "text": [
      "record pos 68\n",
      "record pos 69\n"
     ]
    },
    {
     "name": "stderr",
     "output_type": "stream",
     "text": [
      "INFO:spimagine.gui.glwidget | saving frame as /media/ivar/HDD3TB2/IN9400_exercises/week1/volume_convolution_demo/data/random_small/rendring4/output_069.png\n",
      "INFO:spimagine.gui.glwidget | saving frame as /media/ivar/HDD3TB2/IN9400_exercises/week1/volume_convolution_demo/data/random_small/rendring4/output_070.png\n"
     ]
    },
    {
     "name": "stdout",
     "output_type": "stream",
     "text": [
      "record pos 70\n"
     ]
    },
    {
     "name": "stderr",
     "output_type": "stream",
     "text": [
      "INFO:spimagine.gui.glwidget | saving frame as /media/ivar/HDD3TB2/IN9400_exercises/week1/volume_convolution_demo/data/random_small/rendring4/output_071.png\n"
     ]
    },
    {
     "name": "stdout",
     "output_type": "stream",
     "text": [
      "record pos 71\n"
     ]
    },
    {
     "name": "stderr",
     "output_type": "stream",
     "text": [
      "INFO:spimagine.gui.glwidget | saving frame as /media/ivar/HDD3TB2/IN9400_exercises/week1/volume_convolution_demo/data/random_small/rendring4/output_072.png\n"
     ]
    },
    {
     "name": "stdout",
     "output_type": "stream",
     "text": [
      "record pos 72\n"
     ]
    },
    {
     "name": "stderr",
     "output_type": "stream",
     "text": [
      "INFO:spimagine.gui.glwidget | saving frame as /media/ivar/HDD3TB2/IN9400_exercises/week1/volume_convolution_demo/data/random_small/rendring4/output_073.png\n"
     ]
    },
    {
     "name": "stdout",
     "output_type": "stream",
     "text": [
      "record pos 73\n"
     ]
    },
    {
     "name": "stderr",
     "output_type": "stream",
     "text": [
      "INFO:spimagine.gui.glwidget | saving frame as /media/ivar/HDD3TB2/IN9400_exercises/week1/volume_convolution_demo/data/random_small/rendring4/output_074.png\n"
     ]
    },
    {
     "name": "stdout",
     "output_type": "stream",
     "text": [
      "record pos 74\n"
     ]
    },
    {
     "name": "stderr",
     "output_type": "stream",
     "text": [
      "INFO:spimagine.gui.glwidget | saving frame as /media/ivar/HDD3TB2/IN9400_exercises/week1/volume_convolution_demo/data/random_small/rendring4/output_075.png\n"
     ]
    },
    {
     "name": "stdout",
     "output_type": "stream",
     "text": [
      "record pos 75\n"
     ]
    },
    {
     "name": "stderr",
     "output_type": "stream",
     "text": [
      "INFO:spimagine.gui.glwidget | saving frame as /media/ivar/HDD3TB2/IN9400_exercises/week1/volume_convolution_demo/data/random_small/rendring4/output_076.png\n"
     ]
    },
    {
     "name": "stdout",
     "output_type": "stream",
     "text": [
      "record pos 76\n"
     ]
    },
    {
     "name": "stderr",
     "output_type": "stream",
     "text": [
      "INFO:spimagine.gui.glwidget | saving frame as /media/ivar/HDD3TB2/IN9400_exercises/week1/volume_convolution_demo/data/random_small/rendring4/output_077.png\n"
     ]
    },
    {
     "name": "stdout",
     "output_type": "stream",
     "text": [
      "record pos 77\n"
     ]
    },
    {
     "name": "stderr",
     "output_type": "stream",
     "text": [
      "INFO:spimagine.gui.glwidget | saving frame as /media/ivar/HDD3TB2/IN9400_exercises/week1/volume_convolution_demo/data/random_small/rendring4/output_078.png\n",
      "INFO:spimagine.gui.glwidget | saving frame as /media/ivar/HDD3TB2/IN9400_exercises/week1/volume_convolution_demo/data/random_small/rendring4/output_079.png\n"
     ]
    },
    {
     "name": "stdout",
     "output_type": "stream",
     "text": [
      "record pos 78\n",
      "record pos 79\n"
     ]
    },
    {
     "name": "stderr",
     "output_type": "stream",
     "text": [
      "INFO:spimagine.gui.glwidget | saving frame as /media/ivar/HDD3TB2/IN9400_exercises/week1/volume_convolution_demo/data/random_small/rendring4/output_080.png\n"
     ]
    },
    {
     "name": "stdout",
     "output_type": "stream",
     "text": [
      "record pos 80\n",
      "record pos 81\n"
     ]
    },
    {
     "name": "stderr",
     "output_type": "stream",
     "text": [
      "INFO:spimagine.gui.glwidget | saving frame as /media/ivar/HDD3TB2/IN9400_exercises/week1/volume_convolution_demo/data/random_small/rendring4/output_081.png\n",
      "INFO:spimagine.gui.glwidget | saving frame as /media/ivar/HDD3TB2/IN9400_exercises/week1/volume_convolution_demo/data/random_small/rendring4/output_082.png\n"
     ]
    },
    {
     "name": "stdout",
     "output_type": "stream",
     "text": [
      "record pos 82\n"
     ]
    },
    {
     "name": "stderr",
     "output_type": "stream",
     "text": [
      "INFO:spimagine.gui.glwidget | saving frame as /media/ivar/HDD3TB2/IN9400_exercises/week1/volume_convolution_demo/data/random_small/rendring4/output_083.png\n"
     ]
    },
    {
     "name": "stdout",
     "output_type": "stream",
     "text": [
      "record pos 83\n"
     ]
    },
    {
     "name": "stderr",
     "output_type": "stream",
     "text": [
      "INFO:spimagine.gui.glwidget | saving frame as /media/ivar/HDD3TB2/IN9400_exercises/week1/volume_convolution_demo/data/random_small/rendring4/output_084.png\n",
      "INFO:spimagine.gui.glwidget | saving frame as /media/ivar/HDD3TB2/IN9400_exercises/week1/volume_convolution_demo/data/random_small/rendring4/output_085.png\n"
     ]
    },
    {
     "name": "stdout",
     "output_type": "stream",
     "text": [
      "record pos 84\n",
      "record pos 85\n"
     ]
    },
    {
     "name": "stderr",
     "output_type": "stream",
     "text": [
      "INFO:spimagine.gui.glwidget | saving frame as /media/ivar/HDD3TB2/IN9400_exercises/week1/volume_convolution_demo/data/random_small/rendring4/output_086.png\n"
     ]
    },
    {
     "name": "stdout",
     "output_type": "stream",
     "text": [
      "record pos 86\n"
     ]
    },
    {
     "name": "stderr",
     "output_type": "stream",
     "text": [
      "INFO:spimagine.gui.glwidget | saving frame as /media/ivar/HDD3TB2/IN9400_exercises/week1/volume_convolution_demo/data/random_small/rendring4/output_087.png\n",
      "INFO:spimagine.gui.glwidget | saving frame as /media/ivar/HDD3TB2/IN9400_exercises/week1/volume_convolution_demo/data/random_small/rendring4/output_088.png\n"
     ]
    },
    {
     "name": "stdout",
     "output_type": "stream",
     "text": [
      "record pos 87\n",
      "record pos 88\n"
     ]
    },
    {
     "name": "stderr",
     "output_type": "stream",
     "text": [
      "INFO:spimagine.gui.glwidget | saving frame as /media/ivar/HDD3TB2/IN9400_exercises/week1/volume_convolution_demo/data/random_small/rendring4/output_089.png\n"
     ]
    },
    {
     "name": "stdout",
     "output_type": "stream",
     "text": [
      "record pos 89\n"
     ]
    },
    {
     "name": "stderr",
     "output_type": "stream",
     "text": [
      "INFO:spimagine.gui.glwidget | saving frame as /media/ivar/HDD3TB2/IN9400_exercises/week1/volume_convolution_demo/data/random_small/rendring4/output_090.png\n"
     ]
    },
    {
     "name": "stdout",
     "output_type": "stream",
     "text": [
      "record pos 90\n"
     ]
    },
    {
     "name": "stderr",
     "output_type": "stream",
     "text": [
      "INFO:spimagine.gui.glwidget | saving frame as /media/ivar/HDD3TB2/IN9400_exercises/week1/volume_convolution_demo/data/random_small/rendring4/output_091.png\n"
     ]
    },
    {
     "name": "stdout",
     "output_type": "stream",
     "text": [
      "record pos 91\n"
     ]
    },
    {
     "name": "stderr",
     "output_type": "stream",
     "text": [
      "INFO:spimagine.gui.glwidget | saving frame as /media/ivar/HDD3TB2/IN9400_exercises/week1/volume_convolution_demo/data/random_small/rendring4/output_092.png\n"
     ]
    },
    {
     "name": "stdout",
     "output_type": "stream",
     "text": [
      "record pos 92\n"
     ]
    },
    {
     "name": "stderr",
     "output_type": "stream",
     "text": [
      "INFO:spimagine.gui.glwidget | saving frame as /media/ivar/HDD3TB2/IN9400_exercises/week1/volume_convolution_demo/data/random_small/rendring4/output_093.png\n"
     ]
    },
    {
     "name": "stdout",
     "output_type": "stream",
     "text": [
      "record pos 93\n"
     ]
    },
    {
     "name": "stderr",
     "output_type": "stream",
     "text": [
      "INFO:spimagine.gui.glwidget | saving frame as /media/ivar/HDD3TB2/IN9400_exercises/week1/volume_convolution_demo/data/random_small/rendring4/output_094.png\n",
      "INFO:spimagine.gui.glwidget | saving frame as /media/ivar/HDD3TB2/IN9400_exercises/week1/volume_convolution_demo/data/random_small/rendring4/output_095.png\n"
     ]
    },
    {
     "name": "stdout",
     "output_type": "stream",
     "text": [
      "record pos 94\n",
      "record pos 95\n"
     ]
    },
    {
     "name": "stderr",
     "output_type": "stream",
     "text": [
      "INFO:spimagine.gui.glwidget | saving frame as /media/ivar/HDD3TB2/IN9400_exercises/week1/volume_convolution_demo/data/random_small/rendring4/output_096.png\n"
     ]
    },
    {
     "name": "stdout",
     "output_type": "stream",
     "text": [
      "record pos 96\n"
     ]
    },
    {
     "name": "stderr",
     "output_type": "stream",
     "text": [
      "INFO:spimagine.gui.glwidget | saving frame as /media/ivar/HDD3TB2/IN9400_exercises/week1/volume_convolution_demo/data/random_small/rendring4/output_097.png\n",
      "INFO:spimagine.gui.glwidget | saving frame as /media/ivar/HDD3TB2/IN9400_exercises/week1/volume_convolution_demo/data/random_small/rendring4/output_098.png\n"
     ]
    },
    {
     "name": "stdout",
     "output_type": "stream",
     "text": [
      "record pos 97\n",
      "record pos 98\n"
     ]
    },
    {
     "name": "stderr",
     "output_type": "stream",
     "text": [
      "INFO:spimagine.gui.glwidget | saving frame as /media/ivar/HDD3TB2/IN9400_exercises/week1/volume_convolution_demo/data/random_small/rendring4/output_099.png\n"
     ]
    },
    {
     "name": "stdout",
     "output_type": "stream",
     "text": [
      "record pos 99\n",
      "record pos 100\n"
     ]
    },
    {
     "name": "stderr",
     "output_type": "stream",
     "text": [
      "INFO:spimagine.gui.glwidget | saving frame as /media/ivar/HDD3TB2/IN9400_exercises/week1/volume_convolution_demo/data/random_small/rendring4/output_100.png\n",
      "INFO:spimagine.gui.glwidget | saving frame as /media/ivar/HDD3TB2/IN9400_exercises/week1/volume_convolution_demo/data/random_small/rendring4/output_101.png\n",
      "INFO:spimagine.gui.glwidget | saving frame as /media/ivar/HDD3TB2/IN9400_exercises/week1/volume_convolution_demo/data/random_small/rendring5/output_002.png\n"
     ]
    },
    {
     "name": "stdout",
     "output_type": "stream",
     "text": [
      "record pos 1\n",
      "record pos 2\n"
     ]
    },
    {
     "name": "stderr",
     "output_type": "stream",
     "text": [
      "INFO:spimagine.gui.glwidget | saving frame as /media/ivar/HDD3TB2/IN9400_exercises/week1/volume_convolution_demo/data/random_small/rendring5/output_003.png\n"
     ]
    },
    {
     "name": "stdout",
     "output_type": "stream",
     "text": [
      "record pos 3\n"
     ]
    },
    {
     "name": "stderr",
     "output_type": "stream",
     "text": [
      "INFO:spimagine.gui.glwidget | saving frame as /media/ivar/HDD3TB2/IN9400_exercises/week1/volume_convolution_demo/data/random_small/rendring5/output_004.png\n"
     ]
    },
    {
     "name": "stdout",
     "output_type": "stream",
     "text": [
      "record pos 4\n"
     ]
    },
    {
     "name": "stderr",
     "output_type": "stream",
     "text": [
      "INFO:spimagine.gui.glwidget | saving frame as /media/ivar/HDD3TB2/IN9400_exercises/week1/volume_convolution_demo/data/random_small/rendring5/output_005.png\n"
     ]
    },
    {
     "name": "stdout",
     "output_type": "stream",
     "text": [
      "record pos 5\n"
     ]
    },
    {
     "name": "stderr",
     "output_type": "stream",
     "text": [
      "INFO:spimagine.gui.glwidget | saving frame as /media/ivar/HDD3TB2/IN9400_exercises/week1/volume_convolution_demo/data/random_small/rendring5/output_006.png\n"
     ]
    },
    {
     "name": "stdout",
     "output_type": "stream",
     "text": [
      "record pos 6\n"
     ]
    },
    {
     "name": "stderr",
     "output_type": "stream",
     "text": [
      "INFO:spimagine.gui.glwidget | saving frame as /media/ivar/HDD3TB2/IN9400_exercises/week1/volume_convolution_demo/data/random_small/rendring5/output_007.png\n"
     ]
    },
    {
     "name": "stdout",
     "output_type": "stream",
     "text": [
      "record pos 7\n"
     ]
    },
    {
     "name": "stderr",
     "output_type": "stream",
     "text": [
      "INFO:spimagine.gui.glwidget | saving frame as /media/ivar/HDD3TB2/IN9400_exercises/week1/volume_convolution_demo/data/random_small/rendring5/output_008.png\n"
     ]
    },
    {
     "name": "stdout",
     "output_type": "stream",
     "text": [
      "record pos 8\n"
     ]
    },
    {
     "name": "stderr",
     "output_type": "stream",
     "text": [
      "INFO:spimagine.gui.glwidget | saving frame as /media/ivar/HDD3TB2/IN9400_exercises/week1/volume_convolution_demo/data/random_small/rendring5/output_009.png\n"
     ]
    },
    {
     "name": "stdout",
     "output_type": "stream",
     "text": [
      "record pos 9\n"
     ]
    },
    {
     "name": "stderr",
     "output_type": "stream",
     "text": [
      "INFO:spimagine.gui.glwidget | saving frame as /media/ivar/HDD3TB2/IN9400_exercises/week1/volume_convolution_demo/data/random_small/rendring5/output_010.png\n"
     ]
    },
    {
     "name": "stdout",
     "output_type": "stream",
     "text": [
      "record pos 10\n"
     ]
    },
    {
     "name": "stderr",
     "output_type": "stream",
     "text": [
      "INFO:spimagine.gui.glwidget | saving frame as /media/ivar/HDD3TB2/IN9400_exercises/week1/volume_convolution_demo/data/random_small/rendring5/output_011.png\n"
     ]
    },
    {
     "name": "stdout",
     "output_type": "stream",
     "text": [
      "record pos 11\n"
     ]
    },
    {
     "name": "stderr",
     "output_type": "stream",
     "text": [
      "INFO:spimagine.gui.glwidget | saving frame as /media/ivar/HDD3TB2/IN9400_exercises/week1/volume_convolution_demo/data/random_small/rendring5/output_012.png\n"
     ]
    },
    {
     "name": "stdout",
     "output_type": "stream",
     "text": [
      "record pos 12\n"
     ]
    },
    {
     "name": "stderr",
     "output_type": "stream",
     "text": [
      "INFO:spimagine.gui.glwidget | saving frame as /media/ivar/HDD3TB2/IN9400_exercises/week1/volume_convolution_demo/data/random_small/rendring5/output_013.png\n",
      "INFO:spimagine.gui.glwidget | saving frame as /media/ivar/HDD3TB2/IN9400_exercises/week1/volume_convolution_demo/data/random_small/rendring5/output_014.png\n"
     ]
    },
    {
     "name": "stdout",
     "output_type": "stream",
     "text": [
      "record pos 13\n",
      "record pos 14\n"
     ]
    },
    {
     "name": "stderr",
     "output_type": "stream",
     "text": [
      "INFO:spimagine.gui.glwidget | saving frame as /media/ivar/HDD3TB2/IN9400_exercises/week1/volume_convolution_demo/data/random_small/rendring5/output_015.png\n"
     ]
    },
    {
     "name": "stdout",
     "output_type": "stream",
     "text": [
      "record pos 15\n"
     ]
    },
    {
     "name": "stderr",
     "output_type": "stream",
     "text": [
      "INFO:spimagine.gui.glwidget | saving frame as /media/ivar/HDD3TB2/IN9400_exercises/week1/volume_convolution_demo/data/random_small/rendring5/output_016.png\n"
     ]
    },
    {
     "name": "stdout",
     "output_type": "stream",
     "text": [
      "record pos 16\n"
     ]
    },
    {
     "name": "stderr",
     "output_type": "stream",
     "text": [
      "INFO:spimagine.gui.glwidget | saving frame as /media/ivar/HDD3TB2/IN9400_exercises/week1/volume_convolution_demo/data/random_small/rendring5/output_017.png\n"
     ]
    },
    {
     "name": "stdout",
     "output_type": "stream",
     "text": [
      "record pos 17\n"
     ]
    },
    {
     "name": "stderr",
     "output_type": "stream",
     "text": [
      "INFO:spimagine.gui.glwidget | saving frame as /media/ivar/HDD3TB2/IN9400_exercises/week1/volume_convolution_demo/data/random_small/rendring5/output_018.png\n"
     ]
    },
    {
     "name": "stdout",
     "output_type": "stream",
     "text": [
      "record pos 18\n"
     ]
    },
    {
     "name": "stderr",
     "output_type": "stream",
     "text": [
      "INFO:spimagine.gui.glwidget | saving frame as /media/ivar/HDD3TB2/IN9400_exercises/week1/volume_convolution_demo/data/random_small/rendring5/output_019.png\n"
     ]
    },
    {
     "name": "stdout",
     "output_type": "stream",
     "text": [
      "record pos 19\n"
     ]
    },
    {
     "name": "stderr",
     "output_type": "stream",
     "text": [
      "INFO:spimagine.gui.glwidget | saving frame as /media/ivar/HDD3TB2/IN9400_exercises/week1/volume_convolution_demo/data/random_small/rendring5/output_020.png\n"
     ]
    },
    {
     "name": "stdout",
     "output_type": "stream",
     "text": [
      "record pos 20\n",
      "record pos 21\n"
     ]
    },
    {
     "name": "stderr",
     "output_type": "stream",
     "text": [
      "INFO:spimagine.gui.glwidget | saving frame as /media/ivar/HDD3TB2/IN9400_exercises/week1/volume_convolution_demo/data/random_small/rendring5/output_021.png\n",
      "INFO:spimagine.gui.glwidget | saving frame as /media/ivar/HDD3TB2/IN9400_exercises/week1/volume_convolution_demo/data/random_small/rendring5/output_022.png\n"
     ]
    },
    {
     "name": "stdout",
     "output_type": "stream",
     "text": [
      "record pos 22\n"
     ]
    },
    {
     "name": "stderr",
     "output_type": "stream",
     "text": [
      "INFO:spimagine.gui.glwidget | saving frame as /media/ivar/HDD3TB2/IN9400_exercises/week1/volume_convolution_demo/data/random_small/rendring5/output_023.png\n"
     ]
    },
    {
     "name": "stdout",
     "output_type": "stream",
     "text": [
      "record pos 23\n"
     ]
    },
    {
     "name": "stderr",
     "output_type": "stream",
     "text": [
      "INFO:spimagine.gui.glwidget | saving frame as /media/ivar/HDD3TB2/IN9400_exercises/week1/volume_convolution_demo/data/random_small/rendring5/output_024.png\n"
     ]
    },
    {
     "name": "stdout",
     "output_type": "stream",
     "text": [
      "record pos 24\n"
     ]
    },
    {
     "name": "stderr",
     "output_type": "stream",
     "text": [
      "INFO:spimagine.gui.glwidget | saving frame as /media/ivar/HDD3TB2/IN9400_exercises/week1/volume_convolution_demo/data/random_small/rendring5/output_025.png\n"
     ]
    },
    {
     "name": "stdout",
     "output_type": "stream",
     "text": [
      "record pos 25\n"
     ]
    },
    {
     "name": "stderr",
     "output_type": "stream",
     "text": [
      "INFO:spimagine.gui.glwidget | saving frame as /media/ivar/HDD3TB2/IN9400_exercises/week1/volume_convolution_demo/data/random_small/rendring5/output_026.png\n"
     ]
    },
    {
     "name": "stdout",
     "output_type": "stream",
     "text": [
      "record pos 26\n"
     ]
    },
    {
     "name": "stderr",
     "output_type": "stream",
     "text": [
      "INFO:spimagine.gui.glwidget | saving frame as /media/ivar/HDD3TB2/IN9400_exercises/week1/volume_convolution_demo/data/random_small/rendring5/output_027.png\n"
     ]
    },
    {
     "name": "stdout",
     "output_type": "stream",
     "text": [
      "record pos 27\n"
     ]
    },
    {
     "name": "stderr",
     "output_type": "stream",
     "text": [
      "INFO:spimagine.gui.glwidget | saving frame as /media/ivar/HDD3TB2/IN9400_exercises/week1/volume_convolution_demo/data/random_small/rendring5/output_028.png\n"
     ]
    },
    {
     "name": "stdout",
     "output_type": "stream",
     "text": [
      "record pos 28\n"
     ]
    },
    {
     "name": "stderr",
     "output_type": "stream",
     "text": [
      "INFO:spimagine.gui.glwidget | saving frame as /media/ivar/HDD3TB2/IN9400_exercises/week1/volume_convolution_demo/data/random_small/rendring5/output_029.png\n"
     ]
    },
    {
     "name": "stdout",
     "output_type": "stream",
     "text": [
      "record pos 29\n"
     ]
    },
    {
     "name": "stderr",
     "output_type": "stream",
     "text": [
      "INFO:spimagine.gui.glwidget | saving frame as /media/ivar/HDD3TB2/IN9400_exercises/week1/volume_convolution_demo/data/random_small/rendring5/output_030.png\n",
      "INFO:spimagine.gui.glwidget | saving frame as /media/ivar/HDD3TB2/IN9400_exercises/week1/volume_convolution_demo/data/random_small/rendring5/output_031.png\n"
     ]
    },
    {
     "name": "stdout",
     "output_type": "stream",
     "text": [
      "record pos 30\n",
      "record pos 31\n"
     ]
    },
    {
     "name": "stderr",
     "output_type": "stream",
     "text": [
      "INFO:spimagine.gui.glwidget | saving frame as /media/ivar/HDD3TB2/IN9400_exercises/week1/volume_convolution_demo/data/random_small/rendring5/output_032.png\n"
     ]
    },
    {
     "name": "stdout",
     "output_type": "stream",
     "text": [
      "record pos 32\n",
      "record pos 33\n"
     ]
    },
    {
     "name": "stderr",
     "output_type": "stream",
     "text": [
      "INFO:spimagine.gui.glwidget | saving frame as /media/ivar/HDD3TB2/IN9400_exercises/week1/volume_convolution_demo/data/random_small/rendring5/output_033.png\n",
      "INFO:spimagine.gui.glwidget | saving frame as /media/ivar/HDD3TB2/IN9400_exercises/week1/volume_convolution_demo/data/random_small/rendring5/output_034.png\n"
     ]
    },
    {
     "name": "stdout",
     "output_type": "stream",
     "text": [
      "record pos 34\n"
     ]
    },
    {
     "name": "stderr",
     "output_type": "stream",
     "text": [
      "INFO:spimagine.gui.glwidget | saving frame as /media/ivar/HDD3TB2/IN9400_exercises/week1/volume_convolution_demo/data/random_small/rendring5/output_035.png\n"
     ]
    },
    {
     "name": "stdout",
     "output_type": "stream",
     "text": [
      "record pos 35\n"
     ]
    },
    {
     "name": "stderr",
     "output_type": "stream",
     "text": [
      "INFO:spimagine.gui.glwidget | saving frame as /media/ivar/HDD3TB2/IN9400_exercises/week1/volume_convolution_demo/data/random_small/rendring5/output_036.png\n"
     ]
    },
    {
     "name": "stdout",
     "output_type": "stream",
     "text": [
      "record pos 36\n"
     ]
    },
    {
     "name": "stderr",
     "output_type": "stream",
     "text": [
      "INFO:spimagine.gui.glwidget | saving frame as /media/ivar/HDD3TB2/IN9400_exercises/week1/volume_convolution_demo/data/random_small/rendring5/output_037.png\n"
     ]
    },
    {
     "name": "stdout",
     "output_type": "stream",
     "text": [
      "record pos 37\n"
     ]
    },
    {
     "name": "stderr",
     "output_type": "stream",
     "text": [
      "INFO:spimagine.gui.glwidget | saving frame as /media/ivar/HDD3TB2/IN9400_exercises/week1/volume_convolution_demo/data/random_small/rendring5/output_038.png\n",
      "INFO:spimagine.gui.glwidget | saving frame as /media/ivar/HDD3TB2/IN9400_exercises/week1/volume_convolution_demo/data/random_small/rendring5/output_039.png\n"
     ]
    },
    {
     "name": "stdout",
     "output_type": "stream",
     "text": [
      "record pos 38\n",
      "record pos 39\n"
     ]
    },
    {
     "name": "stderr",
     "output_type": "stream",
     "text": [
      "INFO:spimagine.gui.glwidget | saving frame as /media/ivar/HDD3TB2/IN9400_exercises/week1/volume_convolution_demo/data/random_small/rendring5/output_040.png\n"
     ]
    },
    {
     "name": "stdout",
     "output_type": "stream",
     "text": [
      "record pos 40\n"
     ]
    },
    {
     "name": "stderr",
     "output_type": "stream",
     "text": [
      "INFO:spimagine.gui.glwidget | saving frame as /media/ivar/HDD3TB2/IN9400_exercises/week1/volume_convolution_demo/data/random_small/rendring5/output_041.png\n"
     ]
    },
    {
     "name": "stdout",
     "output_type": "stream",
     "text": [
      "record pos 41\n"
     ]
    },
    {
     "name": "stderr",
     "output_type": "stream",
     "text": [
      "INFO:spimagine.gui.glwidget | saving frame as /media/ivar/HDD3TB2/IN9400_exercises/week1/volume_convolution_demo/data/random_small/rendring5/output_042.png\n"
     ]
    },
    {
     "name": "stdout",
     "output_type": "stream",
     "text": [
      "record pos 42\n"
     ]
    },
    {
     "name": "stderr",
     "output_type": "stream",
     "text": [
      "INFO:spimagine.gui.glwidget | saving frame as /media/ivar/HDD3TB2/IN9400_exercises/week1/volume_convolution_demo/data/random_small/rendring5/output_043.png\n"
     ]
    },
    {
     "name": "stdout",
     "output_type": "stream",
     "text": [
      "record pos 43\n"
     ]
    },
    {
     "name": "stderr",
     "output_type": "stream",
     "text": [
      "INFO:spimagine.gui.glwidget | saving frame as /media/ivar/HDD3TB2/IN9400_exercises/week1/volume_convolution_demo/data/random_small/rendring5/output_044.png\n"
     ]
    },
    {
     "name": "stdout",
     "output_type": "stream",
     "text": [
      "record pos 44\n"
     ]
    },
    {
     "name": "stderr",
     "output_type": "stream",
     "text": [
      "INFO:spimagine.gui.glwidget | saving frame as /media/ivar/HDD3TB2/IN9400_exercises/week1/volume_convolution_demo/data/random_small/rendring5/output_045.png\n"
     ]
    },
    {
     "name": "stdout",
     "output_type": "stream",
     "text": [
      "record pos 45\n"
     ]
    },
    {
     "name": "stderr",
     "output_type": "stream",
     "text": [
      "INFO:spimagine.gui.glwidget | saving frame as /media/ivar/HDD3TB2/IN9400_exercises/week1/volume_convolution_demo/data/random_small/rendring5/output_046.png\n"
     ]
    },
    {
     "name": "stdout",
     "output_type": "stream",
     "text": [
      "record pos 46\n"
     ]
    },
    {
     "name": "stderr",
     "output_type": "stream",
     "text": [
      "INFO:spimagine.gui.glwidget | saving frame as /media/ivar/HDD3TB2/IN9400_exercises/week1/volume_convolution_demo/data/random_small/rendring5/output_047.png\n"
     ]
    },
    {
     "name": "stdout",
     "output_type": "stream",
     "text": [
      "record pos 47\n"
     ]
    },
    {
     "name": "stderr",
     "output_type": "stream",
     "text": [
      "INFO:spimagine.gui.glwidget | saving frame as /media/ivar/HDD3TB2/IN9400_exercises/week1/volume_convolution_demo/data/random_small/rendring5/output_048.png\n"
     ]
    },
    {
     "name": "stdout",
     "output_type": "stream",
     "text": [
      "record pos 48\n"
     ]
    },
    {
     "name": "stderr",
     "output_type": "stream",
     "text": [
      "INFO:spimagine.gui.glwidget | saving frame as /media/ivar/HDD3TB2/IN9400_exercises/week1/volume_convolution_demo/data/random_small/rendring5/output_049.png\n"
     ]
    },
    {
     "name": "stdout",
     "output_type": "stream",
     "text": [
      "record pos 49\n"
     ]
    },
    {
     "name": "stderr",
     "output_type": "stream",
     "text": [
      "INFO:spimagine.gui.glwidget | saving frame as /media/ivar/HDD3TB2/IN9400_exercises/week1/volume_convolution_demo/data/random_small/rendring5/output_050.png\n"
     ]
    },
    {
     "name": "stdout",
     "output_type": "stream",
     "text": [
      "record pos 50\n"
     ]
    },
    {
     "name": "stderr",
     "output_type": "stream",
     "text": [
      "INFO:spimagine.gui.glwidget | saving frame as /media/ivar/HDD3TB2/IN9400_exercises/week1/volume_convolution_demo/data/random_small/rendring5/output_051.png\n"
     ]
    },
    {
     "name": "stdout",
     "output_type": "stream",
     "text": [
      "record pos 51\n"
     ]
    },
    {
     "name": "stderr",
     "output_type": "stream",
     "text": [
      "INFO:spimagine.gui.glwidget | saving frame as /media/ivar/HDD3TB2/IN9400_exercises/week1/volume_convolution_demo/data/random_small/rendring5/output_052.png\n"
     ]
    },
    {
     "name": "stdout",
     "output_type": "stream",
     "text": [
      "record pos 52\n"
     ]
    },
    {
     "name": "stderr",
     "output_type": "stream",
     "text": [
      "INFO:spimagine.gui.glwidget | saving frame as /media/ivar/HDD3TB2/IN9400_exercises/week1/volume_convolution_demo/data/random_small/rendring5/output_053.png\n"
     ]
    },
    {
     "name": "stdout",
     "output_type": "stream",
     "text": [
      "record pos 53\n"
     ]
    },
    {
     "name": "stderr",
     "output_type": "stream",
     "text": [
      "INFO:spimagine.gui.glwidget | saving frame as /media/ivar/HDD3TB2/IN9400_exercises/week1/volume_convolution_demo/data/random_small/rendring5/output_054.png\n"
     ]
    },
    {
     "name": "stdout",
     "output_type": "stream",
     "text": [
      "record pos 54\n"
     ]
    },
    {
     "name": "stderr",
     "output_type": "stream",
     "text": [
      "INFO:spimagine.gui.glwidget | saving frame as /media/ivar/HDD3TB2/IN9400_exercises/week1/volume_convolution_demo/data/random_small/rendring5/output_055.png\n"
     ]
    },
    {
     "name": "stdout",
     "output_type": "stream",
     "text": [
      "record pos 55\n"
     ]
    },
    {
     "name": "stderr",
     "output_type": "stream",
     "text": [
      "INFO:spimagine.gui.glwidget | saving frame as /media/ivar/HDD3TB2/IN9400_exercises/week1/volume_convolution_demo/data/random_small/rendring5/output_056.png\n"
     ]
    },
    {
     "name": "stdout",
     "output_type": "stream",
     "text": [
      "record pos 56\n"
     ]
    },
    {
     "name": "stderr",
     "output_type": "stream",
     "text": [
      "INFO:spimagine.gui.glwidget | saving frame as /media/ivar/HDD3TB2/IN9400_exercises/week1/volume_convolution_demo/data/random_small/rendring5/output_057.png\n"
     ]
    },
    {
     "name": "stdout",
     "output_type": "stream",
     "text": [
      "record pos 57\n"
     ]
    },
    {
     "name": "stderr",
     "output_type": "stream",
     "text": [
      "INFO:spimagine.gui.glwidget | saving frame as /media/ivar/HDD3TB2/IN9400_exercises/week1/volume_convolution_demo/data/random_small/rendring5/output_058.png\n"
     ]
    },
    {
     "name": "stdout",
     "output_type": "stream",
     "text": [
      "record pos 58\n"
     ]
    },
    {
     "name": "stderr",
     "output_type": "stream",
     "text": [
      "INFO:spimagine.gui.glwidget | saving frame as /media/ivar/HDD3TB2/IN9400_exercises/week1/volume_convolution_demo/data/random_small/rendring5/output_059.png\n"
     ]
    },
    {
     "name": "stdout",
     "output_type": "stream",
     "text": [
      "record pos 59\n"
     ]
    },
    {
     "name": "stderr",
     "output_type": "stream",
     "text": [
      "INFO:spimagine.gui.glwidget | saving frame as /media/ivar/HDD3TB2/IN9400_exercises/week1/volume_convolution_demo/data/random_small/rendring5/output_060.png\n"
     ]
    },
    {
     "name": "stdout",
     "output_type": "stream",
     "text": [
      "record pos 60\n"
     ]
    },
    {
     "name": "stderr",
     "output_type": "stream",
     "text": [
      "INFO:spimagine.gui.glwidget | saving frame as /media/ivar/HDD3TB2/IN9400_exercises/week1/volume_convolution_demo/data/random_small/rendring5/output_061.png\n"
     ]
    },
    {
     "name": "stdout",
     "output_type": "stream",
     "text": [
      "record pos 61\n"
     ]
    },
    {
     "name": "stderr",
     "output_type": "stream",
     "text": [
      "INFO:spimagine.gui.glwidget | saving frame as /media/ivar/HDD3TB2/IN9400_exercises/week1/volume_convolution_demo/data/random_small/rendring5/output_062.png\n",
      "INFO:spimagine.gui.glwidget | saving frame as /media/ivar/HDD3TB2/IN9400_exercises/week1/volume_convolution_demo/data/random_small/rendring5/output_063.png\n"
     ]
    },
    {
     "name": "stdout",
     "output_type": "stream",
     "text": [
      "record pos 62\n",
      "record pos 63\n"
     ]
    },
    {
     "name": "stderr",
     "output_type": "stream",
     "text": [
      "INFO:spimagine.gui.glwidget | saving frame as /media/ivar/HDD3TB2/IN9400_exercises/week1/volume_convolution_demo/data/random_small/rendring5/output_064.png\n"
     ]
    },
    {
     "name": "stdout",
     "output_type": "stream",
     "text": [
      "record pos 64\n"
     ]
    },
    {
     "name": "stderr",
     "output_type": "stream",
     "text": [
      "INFO:spimagine.gui.glwidget | saving frame as /media/ivar/HDD3TB2/IN9400_exercises/week1/volume_convolution_demo/data/random_small/rendring5/output_065.png\n"
     ]
    },
    {
     "name": "stdout",
     "output_type": "stream",
     "text": [
      "record pos 65\n"
     ]
    },
    {
     "name": "stderr",
     "output_type": "stream",
     "text": [
      "INFO:spimagine.gui.glwidget | saving frame as /media/ivar/HDD3TB2/IN9400_exercises/week1/volume_convolution_demo/data/random_small/rendring5/output_066.png\n"
     ]
    },
    {
     "name": "stdout",
     "output_type": "stream",
     "text": [
      "record pos 66\n"
     ]
    },
    {
     "name": "stderr",
     "output_type": "stream",
     "text": [
      "INFO:spimagine.gui.glwidget | saving frame as /media/ivar/HDD3TB2/IN9400_exercises/week1/volume_convolution_demo/data/random_small/rendring5/output_067.png\n"
     ]
    },
    {
     "name": "stdout",
     "output_type": "stream",
     "text": [
      "record pos 67\n"
     ]
    },
    {
     "name": "stderr",
     "output_type": "stream",
     "text": [
      "INFO:spimagine.gui.glwidget | saving frame as /media/ivar/HDD3TB2/IN9400_exercises/week1/volume_convolution_demo/data/random_small/rendring5/output_068.png\n"
     ]
    },
    {
     "name": "stdout",
     "output_type": "stream",
     "text": [
      "record pos 68\n"
     ]
    },
    {
     "name": "stderr",
     "output_type": "stream",
     "text": [
      "INFO:spimagine.gui.glwidget | saving frame as /media/ivar/HDD3TB2/IN9400_exercises/week1/volume_convolution_demo/data/random_small/rendring5/output_069.png\n"
     ]
    },
    {
     "name": "stdout",
     "output_type": "stream",
     "text": [
      "record pos 69\n"
     ]
    },
    {
     "name": "stderr",
     "output_type": "stream",
     "text": [
      "INFO:spimagine.gui.glwidget | saving frame as /media/ivar/HDD3TB2/IN9400_exercises/week1/volume_convolution_demo/data/random_small/rendring5/output_070.png\n"
     ]
    },
    {
     "name": "stdout",
     "output_type": "stream",
     "text": [
      "record pos 70\n"
     ]
    },
    {
     "name": "stderr",
     "output_type": "stream",
     "text": [
      "INFO:spimagine.gui.glwidget | saving frame as /media/ivar/HDD3TB2/IN9400_exercises/week1/volume_convolution_demo/data/random_small/rendring5/output_071.png\n"
     ]
    },
    {
     "name": "stdout",
     "output_type": "stream",
     "text": [
      "record pos 71\n"
     ]
    },
    {
     "name": "stderr",
     "output_type": "stream",
     "text": [
      "INFO:spimagine.gui.glwidget | saving frame as /media/ivar/HDD3TB2/IN9400_exercises/week1/volume_convolution_demo/data/random_small/rendring5/output_072.png\n"
     ]
    },
    {
     "name": "stdout",
     "output_type": "stream",
     "text": [
      "record pos 72\n"
     ]
    },
    {
     "name": "stderr",
     "output_type": "stream",
     "text": [
      "INFO:spimagine.gui.glwidget | saving frame as /media/ivar/HDD3TB2/IN9400_exercises/week1/volume_convolution_demo/data/random_small/rendring5/output_073.png\n"
     ]
    },
    {
     "name": "stdout",
     "output_type": "stream",
     "text": [
      "record pos 73\n"
     ]
    },
    {
     "name": "stderr",
     "output_type": "stream",
     "text": [
      "INFO:spimagine.gui.glwidget | saving frame as /media/ivar/HDD3TB2/IN9400_exercises/week1/volume_convolution_demo/data/random_small/rendring5/output_074.png\n"
     ]
    },
    {
     "name": "stdout",
     "output_type": "stream",
     "text": [
      "record pos 74\n"
     ]
    },
    {
     "name": "stderr",
     "output_type": "stream",
     "text": [
      "INFO:spimagine.gui.glwidget | saving frame as /media/ivar/HDD3TB2/IN9400_exercises/week1/volume_convolution_demo/data/random_small/rendring5/output_075.png\n"
     ]
    },
    {
     "name": "stdout",
     "output_type": "stream",
     "text": [
      "record pos 75\n"
     ]
    },
    {
     "name": "stderr",
     "output_type": "stream",
     "text": [
      "INFO:spimagine.gui.glwidget | saving frame as /media/ivar/HDD3TB2/IN9400_exercises/week1/volume_convolution_demo/data/random_small/rendring5/output_076.png\n"
     ]
    },
    {
     "name": "stdout",
     "output_type": "stream",
     "text": [
      "record pos 76\n"
     ]
    },
    {
     "name": "stderr",
     "output_type": "stream",
     "text": [
      "INFO:spimagine.gui.glwidget | saving frame as /media/ivar/HDD3TB2/IN9400_exercises/week1/volume_convolution_demo/data/random_small/rendring5/output_077.png\n"
     ]
    },
    {
     "name": "stdout",
     "output_type": "stream",
     "text": [
      "record pos 77\n"
     ]
    },
    {
     "name": "stderr",
     "output_type": "stream",
     "text": [
      "INFO:spimagine.gui.glwidget | saving frame as /media/ivar/HDD3TB2/IN9400_exercises/week1/volume_convolution_demo/data/random_small/rendring5/output_078.png\n"
     ]
    },
    {
     "name": "stdout",
     "output_type": "stream",
     "text": [
      "record pos 78\n"
     ]
    },
    {
     "name": "stderr",
     "output_type": "stream",
     "text": [
      "INFO:spimagine.gui.glwidget | saving frame as /media/ivar/HDD3TB2/IN9400_exercises/week1/volume_convolution_demo/data/random_small/rendring5/output_079.png\n"
     ]
    },
    {
     "name": "stdout",
     "output_type": "stream",
     "text": [
      "record pos 79\n"
     ]
    },
    {
     "name": "stderr",
     "output_type": "stream",
     "text": [
      "INFO:spimagine.gui.glwidget | saving frame as /media/ivar/HDD3TB2/IN9400_exercises/week1/volume_convolution_demo/data/random_small/rendring5/output_080.png\n"
     ]
    },
    {
     "name": "stdout",
     "output_type": "stream",
     "text": [
      "record pos 80\n"
     ]
    },
    {
     "name": "stderr",
     "output_type": "stream",
     "text": [
      "INFO:spimagine.gui.glwidget | saving frame as /media/ivar/HDD3TB2/IN9400_exercises/week1/volume_convolution_demo/data/random_small/rendring5/output_081.png\n"
     ]
    },
    {
     "name": "stdout",
     "output_type": "stream",
     "text": [
      "record pos 81\n"
     ]
    },
    {
     "name": "stderr",
     "output_type": "stream",
     "text": [
      "INFO:spimagine.gui.glwidget | saving frame as /media/ivar/HDD3TB2/IN9400_exercises/week1/volume_convolution_demo/data/random_small/rendring5/output_082.png\n"
     ]
    },
    {
     "name": "stdout",
     "output_type": "stream",
     "text": [
      "record pos 82\n"
     ]
    },
    {
     "name": "stderr",
     "output_type": "stream",
     "text": [
      "INFO:spimagine.gui.glwidget | saving frame as /media/ivar/HDD3TB2/IN9400_exercises/week1/volume_convolution_demo/data/random_small/rendring5/output_083.png\n"
     ]
    },
    {
     "name": "stdout",
     "output_type": "stream",
     "text": [
      "record pos 83\n"
     ]
    },
    {
     "name": "stderr",
     "output_type": "stream",
     "text": [
      "INFO:spimagine.gui.glwidget | saving frame as /media/ivar/HDD3TB2/IN9400_exercises/week1/volume_convolution_demo/data/random_small/rendring5/output_084.png\n"
     ]
    },
    {
     "name": "stdout",
     "output_type": "stream",
     "text": [
      "record pos 84\n"
     ]
    },
    {
     "name": "stderr",
     "output_type": "stream",
     "text": [
      "INFO:spimagine.gui.glwidget | saving frame as /media/ivar/HDD3TB2/IN9400_exercises/week1/volume_convolution_demo/data/random_small/rendring5/output_085.png\n"
     ]
    },
    {
     "name": "stdout",
     "output_type": "stream",
     "text": [
      "record pos 85\n"
     ]
    },
    {
     "name": "stderr",
     "output_type": "stream",
     "text": [
      "INFO:spimagine.gui.glwidget | saving frame as /media/ivar/HDD3TB2/IN9400_exercises/week1/volume_convolution_demo/data/random_small/rendring5/output_086.png\n"
     ]
    },
    {
     "name": "stdout",
     "output_type": "stream",
     "text": [
      "record pos 86\n"
     ]
    },
    {
     "name": "stderr",
     "output_type": "stream",
     "text": [
      "INFO:spimagine.gui.glwidget | saving frame as /media/ivar/HDD3TB2/IN9400_exercises/week1/volume_convolution_demo/data/random_small/rendring5/output_087.png\n"
     ]
    },
    {
     "name": "stdout",
     "output_type": "stream",
     "text": [
      "record pos 87\n"
     ]
    },
    {
     "name": "stderr",
     "output_type": "stream",
     "text": [
      "INFO:spimagine.gui.glwidget | saving frame as /media/ivar/HDD3TB2/IN9400_exercises/week1/volume_convolution_demo/data/random_small/rendring5/output_088.png\n"
     ]
    },
    {
     "name": "stdout",
     "output_type": "stream",
     "text": [
      "record pos 88\n"
     ]
    },
    {
     "name": "stderr",
     "output_type": "stream",
     "text": [
      "INFO:spimagine.gui.glwidget | saving frame as /media/ivar/HDD3TB2/IN9400_exercises/week1/volume_convolution_demo/data/random_small/rendring5/output_089.png\n"
     ]
    },
    {
     "name": "stdout",
     "output_type": "stream",
     "text": [
      "record pos 89\n"
     ]
    },
    {
     "name": "stderr",
     "output_type": "stream",
     "text": [
      "INFO:spimagine.gui.glwidget | saving frame as /media/ivar/HDD3TB2/IN9400_exercises/week1/volume_convolution_demo/data/random_small/rendring5/output_090.png\n"
     ]
    },
    {
     "name": "stdout",
     "output_type": "stream",
     "text": [
      "record pos 90\n"
     ]
    },
    {
     "name": "stderr",
     "output_type": "stream",
     "text": [
      "INFO:spimagine.gui.glwidget | saving frame as /media/ivar/HDD3TB2/IN9400_exercises/week1/volume_convolution_demo/data/random_small/rendring5/output_091.png\n"
     ]
    },
    {
     "name": "stdout",
     "output_type": "stream",
     "text": [
      "record pos 91\n"
     ]
    },
    {
     "name": "stderr",
     "output_type": "stream",
     "text": [
      "INFO:spimagine.gui.glwidget | saving frame as /media/ivar/HDD3TB2/IN9400_exercises/week1/volume_convolution_demo/data/random_small/rendring5/output_092.png\n"
     ]
    },
    {
     "name": "stdout",
     "output_type": "stream",
     "text": [
      "record pos 92\n"
     ]
    },
    {
     "name": "stderr",
     "output_type": "stream",
     "text": [
      "INFO:spimagine.gui.glwidget | saving frame as /media/ivar/HDD3TB2/IN9400_exercises/week1/volume_convolution_demo/data/random_small/rendring5/output_093.png\n"
     ]
    },
    {
     "name": "stdout",
     "output_type": "stream",
     "text": [
      "record pos 93\n"
     ]
    },
    {
     "name": "stderr",
     "output_type": "stream",
     "text": [
      "INFO:spimagine.gui.glwidget | saving frame as /media/ivar/HDD3TB2/IN9400_exercises/week1/volume_convolution_demo/data/random_small/rendring5/output_094.png\n"
     ]
    },
    {
     "name": "stdout",
     "output_type": "stream",
     "text": [
      "record pos 94\n"
     ]
    },
    {
     "name": "stderr",
     "output_type": "stream",
     "text": [
      "INFO:spimagine.gui.glwidget | saving frame as /media/ivar/HDD3TB2/IN9400_exercises/week1/volume_convolution_demo/data/random_small/rendring5/output_095.png\n"
     ]
    },
    {
     "name": "stdout",
     "output_type": "stream",
     "text": [
      "record pos 95\n"
     ]
    },
    {
     "name": "stderr",
     "output_type": "stream",
     "text": [
      "INFO:spimagine.gui.glwidget | saving frame as /media/ivar/HDD3TB2/IN9400_exercises/week1/volume_convolution_demo/data/random_small/rendring5/output_096.png\n"
     ]
    },
    {
     "name": "stdout",
     "output_type": "stream",
     "text": [
      "record pos 96\n"
     ]
    },
    {
     "name": "stderr",
     "output_type": "stream",
     "text": [
      "INFO:spimagine.gui.glwidget | saving frame as /media/ivar/HDD3TB2/IN9400_exercises/week1/volume_convolution_demo/data/random_small/rendring5/output_097.png\n"
     ]
    },
    {
     "name": "stdout",
     "output_type": "stream",
     "text": [
      "record pos 97\n"
     ]
    },
    {
     "name": "stderr",
     "output_type": "stream",
     "text": [
      "INFO:spimagine.gui.glwidget | saving frame as /media/ivar/HDD3TB2/IN9400_exercises/week1/volume_convolution_demo/data/random_small/rendring5/output_098.png\n"
     ]
    },
    {
     "name": "stdout",
     "output_type": "stream",
     "text": [
      "record pos 98\n"
     ]
    },
    {
     "name": "stderr",
     "output_type": "stream",
     "text": [
      "INFO:spimagine.gui.glwidget | saving frame as /media/ivar/HDD3TB2/IN9400_exercises/week1/volume_convolution_demo/data/random_small/rendring5/output_099.png\n"
     ]
    },
    {
     "name": "stdout",
     "output_type": "stream",
     "text": [
      "record pos 99\n"
     ]
    },
    {
     "name": "stderr",
     "output_type": "stream",
     "text": [
      "INFO:spimagine.gui.glwidget | saving frame as /media/ivar/HDD3TB2/IN9400_exercises/week1/volume_convolution_demo/data/random_small/rendring5/output_100.png\n"
     ]
    },
    {
     "name": "stdout",
     "output_type": "stream",
     "text": [
      "record pos 100\n"
     ]
    },
    {
     "name": "stderr",
     "output_type": "stream",
     "text": [
      "INFO:spimagine.gui.glwidget | saving frame as /media/ivar/HDD3TB2/IN9400_exercises/week1/volume_convolution_demo/data/random_small/rendring5/output_101.png\n"
     ]
    }
   ],
   "source": [
    "# Checking data.\n",
    "\n",
    "print(\"means\")\n",
    "\n",
    "print(torch.mean(x))\n",
    "print(torch.mean(w))\n",
    "print(torch.mean(b))\n",
    "print(torch.mean(z))\n",
    "print(np.mean(z_series[0]))\n",
    "\n",
    "print(\"stds\")\n",
    "\n",
    "print(torch.std(x))\n",
    "print(torch.std(w))\n",
    "print(torch.std(b))\n",
    "print(torch.std(z))\n",
    "print(np.std(z_series[0]))\n",
    "\n",
    "print(\"sums\")\n",
    "\n",
    "print(torch.sum(x))\n",
    "print(torch.sum(w))\n",
    "print(torch.sum(b))\n",
    "print(torch.sum(z))\n",
    "print(np.sum(z_series[0]))"
   ]
  }
 ],
 "metadata": {
  "kernelspec": {
   "display_name": "Python (spimenv)",
   "language": "python",
   "name": "spimenv"
  },
  "language_info": {
   "codemirror_mode": {
    "name": "ipython",
    "version": 3
   },
   "file_extension": ".py",
   "mimetype": "text/x-python",
   "name": "python",
   "nbconvert_exporter": "python",
   "pygments_lexer": "ipython3",
   "version": "3.6.8"
  }
 },
 "nbformat": 4,
 "nbformat_minor": 2
}
