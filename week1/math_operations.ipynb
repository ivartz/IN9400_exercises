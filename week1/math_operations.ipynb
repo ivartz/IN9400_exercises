{
 "cells": [
  {
   "cell_type": "markdown",
   "metadata": {},
   "source": [
    "## Some math in python\n",
    "\n",
    "Complete the code in the functions math1-math12 below.\n"
   ]
  },
  {
   "cell_type": "code",
   "execution_count": 5,
   "metadata": {
    "collapsed": true
   },
   "outputs": [],
   "source": [
    "import numpy as np\n"
   ]
  },
  {
   "cell_type": "code",
   "execution_count": 6,
   "metadata": {
    "collapsed": true
   },
   "outputs": [],
   "source": [
    "def math1(mat):\n",
    "  \"\"\"\n",
    "  Square each value in mat separatly and return the result\n",
    "  \"\"\"\n",
    "  return None"
   ]
  },
  {
   "cell_type": "code",
   "execution_count": 7,
   "metadata": {},
   "outputs": [
    {
     "name": "stdout",
     "output_type": "stream",
     "text": [
      "None\n"
     ]
    }
   ],
   "source": [
    "mat = np.arange(16).reshape((4, 4))\n",
    "print(math1(mat))"
   ]
  },
  {
   "cell_type": "markdown",
   "metadata": {},
   "source": [
    "### Expected output  \n",
    "[[  0   1   4   9]\n",
    " [ 16  25  36  49]\n",
    " [ 64  81 100 121]\n",
    " [144 169 196 225]]\n"
   ]
  },
  {
   "cell_type": "code",
   "execution_count": 8,
   "metadata": {
    "collapsed": true
   },
   "outputs": [],
   "source": [
    "def math2(mat):\n",
    "  \"\"\"\n",
    "  Return the sum of all the values in mat\n",
    "  \"\"\"\n",
    "  return None\n"
   ]
  },
  {
   "cell_type": "code",
   "execution_count": 9,
   "metadata": {},
   "outputs": [
    {
     "name": "stdout",
     "output_type": "stream",
     "text": [
      "None\n"
     ]
    }
   ],
   "source": [
    "mat = np.arange(16).reshape((4, 4))\n",
    "print(math2(mat))"
   ]
  },
  {
   "cell_type": "markdown",
   "metadata": {},
   "source": [
    "### Expected output\n",
    "\n",
    "120\n"
   ]
  },
  {
   "cell_type": "code",
   "execution_count": 10,
   "metadata": {
    "collapsed": true
   },
   "outputs": [],
   "source": [
    "def math3(mat):\n",
    "  \"\"\"\n",
    "  Return the sum of each row in mat\n",
    "  \"\"\"\n",
    "  return None"
   ]
  },
  {
   "cell_type": "code",
   "execution_count": 11,
   "metadata": {},
   "outputs": [
    {
     "name": "stdout",
     "output_type": "stream",
     "text": [
      "None\n"
     ]
    }
   ],
   "source": [
    "mat = np.arange(16).reshape((4, 4))\n",
    "print(math3(mat)) "
   ]
  },
  {
   "cell_type": "markdown",
   "metadata": {},
   "source": [
    "### Expected output\n",
    "\n",
    "[ 6 22 38 54]"
   ]
  },
  {
   "cell_type": "code",
   "execution_count": 12,
   "metadata": {
    "collapsed": true
   },
   "outputs": [],
   "source": [
    "def math4(mat):\n",
    "  \"\"\"\n",
    "  Return a scaled version of mat, so that it sums to 1\n",
    "  \"\"\"\n",
    "  return None\n"
   ]
  },
  {
   "cell_type": "code",
   "execution_count": 13,
   "metadata": {},
   "outputs": [
    {
     "name": "stdout",
     "output_type": "stream",
     "text": [
      "None\n"
     ]
    }
   ],
   "source": [
    "mat = np.arange(16).reshape((4, 4))\n",
    "print(math4(mat))"
   ]
  },
  {
   "cell_type": "markdown",
   "metadata": {},
   "source": [
    "### Expected output\n",
    "\n",
    "[[ 0.          0.00833333  0.01666667  0.025     ]\n",
    " [ 0.03333333  0.04166667  0.05        0.05833333]\n",
    " [ 0.06666667  0.075       0.08333333  0.09166667]\n",
    " [ 0.1         0.10833333  0.11666667  0.125     ]]"
   ]
  },
  {
   "cell_type": "code",
   "execution_count": 14,
   "metadata": {
    "collapsed": true
   },
   "outputs": [],
   "source": [
    "def math5(mat, v):\n",
    "  \"\"\"\n",
    "  Element-wise multiply each column in mat with vector v\n",
    "  \"\"\"\n",
    "  return None"
   ]
  },
  {
   "cell_type": "code",
   "execution_count": 15,
   "metadata": {},
   "outputs": [
    {
     "name": "stdout",
     "output_type": "stream",
     "text": [
      "None\n"
     ]
    }
   ],
   "source": [
    "mat = np.arange(16).reshape((4, 4))\n",
    "vec = np.arange(4)\n",
    "print(math5(mat,vec))"
   ]
  },
  {
   "cell_type": "markdown",
   "metadata": {},
   "source": [
    "### Expected output\n",
    "\n",
    "[[ 0  0  0  0]\n",
    " [ 4  5  6  7]\n",
    " [16 18 20 22]\n",
    " [36 39 42 45]]"
   ]
  },
  {
   "cell_type": "code",
   "execution_count": 16,
   "metadata": {
    "collapsed": true
   },
   "outputs": [],
   "source": [
    "def math6(mat, v):\n",
    "  \"\"\"\n",
    "  Element-wise multiply each row in mat with vector v\n",
    "  \"\"\"\n",
    "  return None\n"
   ]
  },
  {
   "cell_type": "code",
   "execution_count": 17,
   "metadata": {},
   "outputs": [
    {
     "name": "stdout",
     "output_type": "stream",
     "text": [
      "None\n"
     ]
    }
   ],
   "source": [
    "mat = np.arange(16).reshape((4, 4))\n",
    "vec = np.arange(4)\n",
    "print(math6(mat,vec))"
   ]
  },
  {
   "cell_type": "markdown",
   "metadata": {},
   "source": [
    "### Expected output\n",
    "\n",
    "[[ 0  1  4  9]\n",
    " [ 0  5 12 21]\n",
    " [ 0  9 20 33]\n",
    " [ 0 13 28 45]]"
   ]
  },
  {
   "cell_type": "code",
   "execution_count": 18,
   "metadata": {
    "collapsed": true
   },
   "outputs": [],
   "source": [
    "\n",
    "def math7(mat, v):\n",
    "  \"\"\"\n",
    "  Matrix multiply matrix m with vector v\n",
    "  \"\"\"\n",
    "  return None"
   ]
  },
  {
   "cell_type": "code",
   "execution_count": 19,
   "metadata": {},
   "outputs": [
    {
     "name": "stdout",
     "output_type": "stream",
     "text": [
      "None\n"
     ]
    }
   ],
   "source": [
    "mat = np.arange(16).reshape((4, 4))\n",
    "vec = np.arange(4)\n",
    "print(math7(mat,vec))"
   ]
  },
  {
   "cell_type": "markdown",
   "metadata": {},
   "source": [
    "### Expected output\n",
    "\n",
    "[14 38 62 86]"
   ]
  },
  {
   "cell_type": "code",
   "execution_count": 22,
   "metadata": {
    "collapsed": true
   },
   "outputs": [],
   "source": [
    "def math8(mat):\n",
    "  \"\"\"\n",
    "  Return the inverse matrix of mat\n",
    "  \"\"\"\n",
    "  return None\n"
   ]
  },
  {
   "cell_type": "code",
   "execution_count": 23,
   "metadata": {},
   "outputs": [
    {
     "name": "stdout",
     "output_type": "stream",
     "text": [
      "None\n"
     ]
    }
   ],
   "source": [
    "mat = np.array([[4, 7], [2, 6]])\n",
    "print(math8(mat))"
   ]
  },
  {
   "cell_type": "markdown",
   "metadata": {},
   "source": [
    "### Expected output\n",
    "\n",
    "[[ 0.6 -0.7]\n",
    " [-0.2  0.4]]\n",
    " "
   ]
  },
  {
   "cell_type": "code",
   "execution_count": 26,
   "metadata": {
    "collapsed": true
   },
   "outputs": [],
   "source": [
    "def math9(mat, v):\n",
    "  \"\"\"\n",
    "  Return the dot-product between each row in mat and v\n",
    "  \"\"\"\n",
    "  return None"
   ]
  },
  {
   "cell_type": "code",
   "execution_count": 27,
   "metadata": {},
   "outputs": [
    {
     "name": "stdout",
     "output_type": "stream",
     "text": [
      "None\n"
     ]
    }
   ],
   "source": [
    "mat = np.arange(16).reshape((4, 4))\n",
    "vec = np.arange(4)\n",
    "print(math9(mat,vec))"
   ]
  },
  {
   "cell_type": "markdown",
   "metadata": {},
   "source": [
    "### Expected output\n",
    "\n",
    "[14 38 62 86]"
   ]
  },
  {
   "cell_type": "code",
   "execution_count": 28,
   "metadata": {
    "collapsed": true
   },
   "outputs": [],
   "source": [
    "def math10(mat, v):\n",
    "  \"\"\"\n",
    "  Return the dot-product between each column in mat and v\n",
    "  \"\"\"\n",
    "  return None\n"
   ]
  },
  {
   "cell_type": "code",
   "execution_count": 29,
   "metadata": {},
   "outputs": [
    {
     "name": "stdout",
     "output_type": "stream",
     "text": [
      "None\n"
     ]
    }
   ],
   "source": [
    "mat = np.arange(16).reshape((4, 4))\n",
    "vec = np.arange(4)\n",
    "print(math10(mat,vec))"
   ]
  },
  {
   "cell_type": "markdown",
   "metadata": {},
   "source": [
    "### Expected output\n",
    "\n",
    "[56 62 68 74]"
   ]
  },
  {
   "cell_type": "code",
   "execution_count": 30,
   "metadata": {
    "collapsed": true
   },
   "outputs": [],
   "source": [
    "def math11(mat1, mat2):\n",
    "  \"\"\"\n",
    "  Return the dot-products between each corresponding (same index) column in mat1 and mat2\n",
    "  \"\"\"\n",
    "  return None"
   ]
  },
  {
   "cell_type": "code",
   "execution_count": 31,
   "metadata": {},
   "outputs": [
    {
     "name": "stdout",
     "output_type": "stream",
     "text": [
      "None\n"
     ]
    }
   ],
   "source": [
    "mat = np.arange(16).reshape((4, 4))\n",
    "print(math11(mat,mat.T))"
   ]
  },
  {
   "cell_type": "markdown",
   "metadata": {},
   "source": [
    "### Expected value\n",
    "\n",
    "[ 56 174 324 506]"
   ]
  },
  {
   "cell_type": "code",
   "execution_count": null,
   "metadata": {
    "collapsed": true
   },
   "outputs": [],
   "source": []
  }
 ],
 "metadata": {
  "kernelspec": {
   "display_name": "Python 3",
   "language": "python",
   "name": "python3"
  },
  "language_info": {
   "codemirror_mode": {
    "name": "ipython",
    "version": 3
   },
   "file_extension": ".py",
   "mimetype": "text/x-python",
   "name": "python",
   "nbconvert_exporter": "python",
   "pygments_lexer": "ipython3",
   "version": "3.6.3"
  }
 },
 "nbformat": 4,
 "nbformat_minor": 2
}
