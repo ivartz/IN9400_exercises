{
 "cells": [
  {
   "cell_type": "code",
   "execution_count": 61,
   "metadata": {},
   "outputs": [],
   "source": [
    "import numpy as np\n",
    "import torch\n",
    "import matplotlib as mpl\n",
    "%matplotlib inline\n",
    "import matplotlib.pyplot as plt\n",
    "scaling = 1\n",
    "mpl.rcParams['figure.figsize'] = [6.4*scaling, 4.8*scaling]"
   ]
  },
  {
   "cell_type": "code",
   "execution_count": 62,
   "metadata": {},
   "outputs": [
    {
     "data": {
      "text/plain": [
       "tensor([[  2.2000,   4.4120, 123.0000],\n",
       "        [  2.3450,  23.2000, 123.0000]])"
      ]
     },
     "execution_count": 62,
     "metadata": {},
     "output_type": "execute_result"
    }
   ],
   "source": [
    "data = torch.tensor([2.2, 4.412, 123, 2.345, 23.2, 123])\n",
    "data.reshape((2,3))"
   ]
  },
  {
   "cell_type": "code",
   "execution_count": 63,
   "metadata": {},
   "outputs": [
    {
     "data": {
      "text/plain": [
       "torch.float32"
      ]
     },
     "execution_count": 63,
     "metadata": {},
     "output_type": "execute_result"
    }
   ],
   "source": [
    "torch.get_default_dtype()"
   ]
  },
  {
   "cell_type": "code",
   "execution_count": 64,
   "metadata": {},
   "outputs": [],
   "source": [
    "from pydicom.filereader import dcmread"
   ]
  },
  {
   "cell_type": "code",
   "execution_count": 84,
   "metadata": {},
   "outputs": [],
   "source": [
    "import pydicom"
   ]
  },
  {
   "cell_type": "code",
   "execution_count": 90,
   "metadata": {
    "scrolled": true
   },
   "outputs": [
    {
     "data": {
      "text/plain": [
       "(0008, 0005) Specific Character Set              CS: 'ISO_IR 100'\n",
       "(0008, 0008) Image Type                          CS: ['ORIGINAL', 'PRIMARY', 'M_IR', 'M', 'IR']\n",
       "(0008, 0012) Instance Creation Date              DA: ''\n",
       "(0008, 0013) Instance Creation Time              TM: ''\n",
       "(0008, 0014) Instance Creator UID                UI: ''\n",
       "(0008, 0016) SOP Class UID                       UI: MR Image Storage\n",
       "(0008, 0018) SOP Instance UID                    UI: 1.3.6.1.4.1.9590.100.1.2.263705835111834919505275419503615297439\n",
       "(0008, 0020) Study Date                          DA: ''\n",
       "(0008, 0021) Series Date                         DA: ''\n",
       "(0008, 0022) Acquisition Date                    DA: ''\n",
       "(0008, 0023) Content Date                        DA: ''\n",
       "(0008, 0030) Study Time                          TM: '145923'\n",
       "(0008, 0031) Series Time                         TM: '151804.64000'\n",
       "(0008, 0032) Acquisition Time                    TM: '151825.35'\n",
       "(0008, 0033) Content Time                        TM: ''\n",
       "(0008, 0050) Accession Number                    SH: ''\n",
       "(0008, 0060) Modality                            CS: 'MR'\n",
       "(0008, 0064) Conversion Type                     CS: ''\n",
       "(0008, 0070) Manufacturer                        LO: 'Philips Medical Systems'\n",
       "(0008, 0080) Institution Name                    LO: ''\n",
       "(0008, 0081) Institution Address                 ST: ''\n",
       "(0008, 0090) Referring Physician's Name          PN: ''\n",
       "(0008, 0100) Code Value                          SH: ''\n",
       "(0008, 0102) Coding Scheme Designator            SH: ''\n",
       "(0008, 0104) Code Meaning                        LO: ''\n",
       "(0008, 1010) Station Name                        SH: ''\n",
       "(0008, 1030) Study Description                   LO: 'MR Caput'\n",
       "(0008, 1032)  Procedure Code Sequence   1 item(s) ---- \n",
       "   (0008, 0100) Code Value                          SH: 'MR Caput'\n",
       "   (0008, 0102) Coding Scheme Designator            SH: 'SECTRA RIS'\n",
       "   (0008, 0103) Coding Scheme Version               SH: '1.0'\n",
       "   (0008, 0104) Code Meaning                        LO: 'MR Caput'\n",
       "   (0008, 010b) Context Group Extension Flag        CS: 'N'\n",
       "   ---------\n",
       "(0008, 103e) Series Description                  LO: 'FLAIR 3D'\n",
       "(0008, 1040) Institutional Department Name       LO: ''\n",
       "(0008, 1050) Performing Physician's Name         PN: ''\n",
       "(0008, 1070) Operators' Name                     PN: ''\n",
       "(0008, 1080) Admitting Diagnoses Description     LO: ''\n",
       "(0008, 1090) Manufacturer's Model Name           LO: 'Ingenia'\n",
       "(0008, 1111)  Referenced Performed Procedure Step Sequence   1 item(s) ---- \n",
       "   (0008, 0012) Instance Creation Date              DA: ''\n",
       "   (0008, 0013) Instance Creation Time              TM: ''\n",
       "   (0008, 0014) Instance Creator UID                UI: ''\n",
       "   (0008, 1150) Referenced SOP Class UID            UI: Modality Performed Procedure Step SOP Class\n",
       "   (0008, 1155) Referenced SOP Instance UID         UI: 1.3.46.670589.11.71060.5.0.5820.2015100714592370001\n",
       "   (0020, 0013) Instance Number                     IS: \"0\"\n",
       "   (2005, 0014) Private Creator                     LO: ''\n",
       "   (2005, 1404) Private tag data                    UN: b''\n",
       "   (2005, 1406) Private tag data                    UN: b''\n",
       "   ---------\n",
       "(0008, 1140)  Referenced Image Sequence   3 item(s) ---- \n",
       "   (0008, 1150) Referenced SOP Class UID            UI: MR Image Storage\n",
       "   (0008, 1155) Referenced SOP Instance UID         UI: 1.3.46.670589.11.71060.5.0.5540.2015100715103480011\n",
       "   ---------\n",
       "   (0008, 1150) Referenced SOP Class UID            UI: MR Image Storage\n",
       "   (0008, 1155) Referenced SOP Instance UID         UI: 1.3.46.670589.11.71060.5.0.5540.2015100715103480031\n",
       "   ---------\n",
       "   (0008, 1150) Referenced SOP Class UID            UI: MR Image Storage\n",
       "   (0008, 1155) Referenced SOP Instance UID         UI: 1.3.46.670589.11.71060.5.0.5540.2015100715103480047\n",
       "   ---------\n",
       "(0010, 0010) Patient's Name                      PN: '600877272'\n",
       "(0010, 0020) Patient ID                          LO: '600877272'\n",
       "(0010, 0030) Patient's Birth Date                DA: ''\n",
       "(0010, 0040) Patient's Sex                       CS: ''\n",
       "(0010, 1010) Patient's Age                       AS: '064Y'\n",
       "(0010, 1030) Patient's Weight                    DS: ''\n",
       "(0010, 1040) Patient's Address                   LO: ''\n",
       "(0010, 2000) Medical Alerts                      LO: ''\n",
       "(0010, 2110) Allergies                           LO: ''\n",
       "(0010, 2160) Ethnic Group                        SH: ''\n",
       "(0010, 2180) Occupation                          SH: ''\n",
       "(0010, 21b0) Additional Patient History          LT: ''\n",
       "(0010, 21c0) Pregnancy Status                    US: 4\n",
       "(0010, 4000) Patient Comments                    LT: ''\n",
       "(0018, 0015) Body Part Examined                  CS: 'MR CAPUT'\n",
       "(0018, 0020) Scanning Sequence                   CS: 'IR'\n",
       "(0018, 0021) Sequence Variant                    CS: 'SK'\n",
       "(0018, 0022) Scan Options                        CS: 'FS'\n",
       "(0018, 0023) MR Acquisition Type                 CS: '3D'\n",
       "(0018, 0050) Slice Thickness                     DS: \"1\"\n",
       "(0018, 0080) Repetition Time                     DS: \"4800\"\n",
       "(0018, 0081) Echo Time                           DS: \"310.765\"\n",
       "(0018, 0082) Inversion Time                      DS: \"1650\"\n",
       "(0018, 0083) Number of Averages                  DS: \"2\"\n",
       "(0018, 0084) Imaging Frequency                   DS: \"127.770401\"\n",
       "(0018, 0085) Imaged Nucleus                      SH: '1H'\n",
       "(0018, 0086) Echo Number(s)                      IS: \"1\"\n",
       "(0018, 0087) Magnetic Field Strength             DS: \"3\"\n",
       "(0018, 0088) Spacing Between Slices              DS: \"0.5\"\n",
       "(0018, 0089) Number of Phase Encoding Steps      IS: \"249\"\n",
       "(0018, 0091) Echo Train Length                   IS: \"167\"\n",
       "(0018, 0093) Percent Sampling                    DS: \"77.9164810180664\"\n",
       "(0018, 0094) Percent Phase Field of View         DS: \"100\"\n",
       "(0018, 0095) Pixel Bandwidth                     DS: \"936\"\n",
       "(0018, 1000) Device Serial Number                LO: '71060'\n",
       "(0018, 1010) Secondary Capture Device ID         LO: ''\n",
       "(0018, 1016) Secondary Capture Device Manufactur LO: ''\n",
       "(0018, 1018) Secondary Capture Device Manufactur LO: ''\n",
       "(0018, 1019) Secondary Capture Device Software V LO: ''\n",
       "(0018, 1020) Software Version(s)                 LO: ['5.1.7', '5.1.7.2']\n",
       "(0018, 1022) Video Image Format Acquired         SH: ''\n",
       "(0018, 1023) Digital Image Format Acquired       LO: ''\n",
       "(0018, 1030) Protocol Name                       LO: ''\n",
       "(0018, 1081) Low R-R Value                       IS: \"0\"\n",
       "(0018, 1082) High R-R Value                      IS: \"0\"\n",
       "(0018, 1083) Intervals Acquired                  IS: \"0\"\n",
       "(0018, 1084) Intervals Rejected                  IS: \"0\"\n",
       "(0018, 1088) Heart Rate                          IS: \"0\"\n",
       "(0018, 1100) Reconstruction Diameter             DS: \"250\"\n",
       "(0018, 1250) Receive Coil Name                   SH: 'MULTI COIL'\n",
       "(0018, 1310) Acquisition Matrix                  US: [0, 252, 249, 0]\n",
       "(0018, 1312) In-plane Phase Encoding Direction   CS: 'ROW'\n",
       "(0018, 1314) Flip Angle                          DS: \"90\"\n",
       "(0018, 1316) SAR                                 DS: \"0.05456737428903\"\n",
       "(0018, 1318) dB/dt                               DS: \"110.709976196289\"\n",
       "(0018, 5100) Patient Position                    CS: 'HFS'\n",
       "(0018, 9073) Acquisition Duration                FD: 340.8000183105469\n",
       "(0018, 9087) Diffusion b-value                   FD: 0.0\n",
       "(0018, 9089) Diffusion Gradient Orientation      FD: [0.0, 0.0, 0.0]\n",
       "(0020, 000d) Study Instance UID                  UI: ''\n",
       "(0020, 000e) Series Instance UID                 UI: ''\n",
       "(0020, 0010) Study ID                            SH: ''\n",
       "(0020, 0011) Series Number                       IS: \"401\"\n",
       "(0020, 0012) Acquisition Number                  IS: ''\n",
       "(0020, 0013) Instance Number                     IS: \"274\"\n",
       "(0020, 0032) Image Position (Patient)            DS: ['-59.906578092008', '-144.97174020892', '138.00892182466']\n",
       "(0020, 0037) Image Orientation (Patient)         DS: ['0.0153808323666', '0.9998409152031', '0.009034528397', '0.058308288455', '0.0081233205274', '-0.9982655644416']\n",
       "(0020, 0052) Frame of Reference UID              UI: 1.3.46.670589.11.71060.5.0.5776.2015100715083786001\n",
       "(0020, 0060) Laterality                          CS: ''\n",
       "(0020, 0100) Temporal Position Identifier        IS: \"1\"\n",
       "(0020, 0105) Number of Temporal Positions        IS: \"1\"\n",
       "(0020, 1040) Position Reference Indicator        LO: ''\n",
       "(0020, 1041) Slice Location                      DS: \"-3170.8864955478\"\n",
       "(0028, 0002) Samples per Pixel                   US: 1\n",
       "(0028, 0004) Photometric Interpretation          CS: 'MONOCHROME2'\n",
       "(0028, 0006) Planar Configuration                US: 0\n",
       "(0028, 0010) Rows                                US: 512\n",
       "(0028, 0011) Columns                             US: 512\n",
       "(0028, 0030) Pixel Spacing                       DS: ['0.48828125', '0.48828125']\n",
       "(0028, 0100) Bits Allocated                      US: 16\n",
       "(0028, 0101) Bits Stored                         US: 16\n",
       "(0028, 0102) High Bit                            US: 15\n",
       "(0028, 0103) Pixel Representation                US: 0\n",
       "(0028, 0106) Smallest Image Pixel Value          US: 0\n",
       "(0028, 0107) Largest Image Pixel Value           US: 118\n",
       "(0028, 1050) Window Center                       DS: \"59.91\"\n",
       "(0028, 1051) Window Width                        DS: \"104.15\"\n",
       "(0032, 1032) Requesting Physician                PN: ''\n",
       "(0032, 1033) Requesting Service                  LO: ''\n",
       "(0032, 1060) Requested Procedure Description     LO: 'MR Caput'\n",
       "(0032, 1070) Requested Contrast Agent            LO: ''\n",
       "(0032, 4000) Study Comments                      LT: ''\n",
       "(0038, 0050) Special Needs                       LO: ''\n",
       "(0038, 0500) Patient State                       LO: ''\n",
       "(0040, 0006) Scheduled Performing Physician's Na PN: ''\n",
       "(0040, 0241) Performed Station AE Title          AE: 'MRIVS'\n",
       "(0040, 0242) Performed Station Name              SH: ''\n",
       "(0040, 0243) Performed Location                  SH: ''\n",
       "(0040, 0244) Performed Procedure Step Start Date DA: ''\n",
       "(0040, 0245) Performed Procedure Step Start Time TM: '145923'\n",
       "(0040, 0250) Performed Procedure Step End Date   DA: ''\n",
       "(0040, 0251) Performed Procedure Step End Time   TM: ''\n",
       "(0040, 0252) Performed Procedure Step Status     CS: ''\n",
       "(0040, 0253) Performed Procedure Step ID         SH: ''\n",
       "(0040, 0254) Performed Procedure Step Descriptio LO: 'PRE OP'\n",
       "(0040, 0255) Performed Procedure Type Descriptio LO: ''\n",
       "(0040, 0260)  Performed Protocol Code Sequence   1 item(s) ---- \n",
       "   (0008, 0100) Code Value                          SH: 'MR Caput'\n",
       "   (0008, 0102) Coding Scheme Designator            SH: 'SECTRA RIS'\n",
       "   (0008, 0103) Coding Scheme Version               SH: '1.0'\n",
       "   (0008, 0104) Code Meaning                        LO: 'MR Caput'\n",
       "   (0008, 010b) Context Group Extension Flag        CS: 'N'\n",
       "   ---------\n",
       "(0040, 0275)  Request Attributes Sequence   1 item(s) ---- \n",
       "   (0040, 0009) Scheduled Procedure Step ID         SH: ''\n",
       "   (0040, 1001) Requested Procedure ID              SH: ''\n",
       "   ---------\n",
       "(0040, 0280) Comments on the Performed Procedure ST: ''\n",
       "(0040, 1001) Requested Procedure ID              SH: ''\n",
       "(0040, 1002) Reason for the Requested Procedure  LO: ''\n",
       "(0040, 1003) Requested Procedure Priority        SH: ''\n",
       "(0040, 1004) Patient Transport Arrangements      LO: ''\n",
       "(0040, 1005) Requested Procedure Location        LO: ''\n",
       "(0040, 1400) Requested Procedure Comments        LT: ''\n",
       "(0040, 2001) Reason for the Imaging Service Requ LO: ''\n",
       "(0040, 2004) Issue Date of Imaging Service Reque DA: ''\n",
       "(0040, 2005) Issue Time of Imaging Service Reque TM: ''\n",
       "(0040, 2009) Order Enterer's Location            SH: ''\n",
       "(0040, 2010) Order Callback Phone Number         SH: ''\n",
       "(0040, 2400) Imaging Service Request Comments    LT: ''\n",
       "(0040, 9096)  Real World Value Mapping Sequence   1 item(s) ---- \n",
       "   (0040, 9224) Real World Value Intercept          FD: 0.0\n",
       "   (0040, 9225) Real World Value Slope              FD: 17.85885225885226\n",
       "   (2001, 0010) Private Creator                     LO: ''\n",
       "   (2001, 10c1) Private tag data                    UN: b''\n",
       "   ---------\n",
       "(2050, 0020) Presentation LUT Shape              CS: 'IDENTITY'\n",
       "(7fe0, 0010) Pixel Data                          OW: Array of 524288 bytes"
      ]
     },
     "execution_count": 90,
     "metadata": {},
     "output_type": "execute_result"
    }
   ],
   "source": [
    "volume = pydicom.read_file(\"D:/IN9400_exercises/DeFaced_FLAIR 3D/600877272_401_274.dcm\")\n",
    "volume"
   ]
  },
  {
   "cell_type": "code",
   "execution_count": 68,
   "metadata": {},
   "outputs": [],
   "source": [
    "pydicom?"
   ]
  },
  {
   "cell_type": "code",
   "execution_count": 83,
   "metadata": {
    "scrolled": false
   },
   "outputs": [
    {
     "ename": "OSError",
     "evalue": "[Errno 22] Invalid argument: 'D:/IN9400_exercises/DeFaced_FLAIR 3D/*'",
     "output_type": "error",
     "traceback": [
      "\u001b[1;31m---------------------------------------------------------------------------\u001b[0m",
      "\u001b[1;31mOSError\u001b[0m                                   Traceback (most recent call last)",
      "\u001b[1;32m<ipython-input-83-4d8af8f8fe41>\u001b[0m in \u001b[0;36m<module>\u001b[1;34m\u001b[0m\n\u001b[1;32m----> 1\u001b[1;33m \u001b[0mdataset\u001b[0m \u001b[1;33m=\u001b[0m \u001b[0mdcmread\u001b[0m\u001b[1;33m(\u001b[0m\u001b[1;34m\"D:/IN9400_exercises/DeFaced_FLAIR 3D/*\"\u001b[0m\u001b[1;33m)\u001b[0m\u001b[1;33m\u001b[0m\u001b[1;33m\u001b[0m\u001b[0m\n\u001b[0m\u001b[0;32m      2\u001b[0m \u001b[0mimage\u001b[0m \u001b[1;33m=\u001b[0m \u001b[0mdataset\u001b[0m\u001b[1;33m.\u001b[0m\u001b[0mpixel_array\u001b[0m\u001b[1;33m\u001b[0m\u001b[1;33m\u001b[0m\u001b[0m\n\u001b[0;32m      3\u001b[0m \u001b[0mtensorImage\u001b[0m \u001b[1;33m=\u001b[0m \u001b[0mtorch\u001b[0m\u001b[1;33m.\u001b[0m\u001b[0mfrom_numpy\u001b[0m\u001b[1;33m(\u001b[0m\u001b[0mnp\u001b[0m\u001b[1;33m.\u001b[0m\u001b[0mfloat32\u001b[0m\u001b[1;33m(\u001b[0m\u001b[0mimage\u001b[0m\u001b[1;33m)\u001b[0m\u001b[1;33m)\u001b[0m\u001b[1;33m\u001b[0m\u001b[1;33m\u001b[0m\u001b[0m\n\u001b[0;32m      4\u001b[0m \u001b[0mplt\u001b[0m\u001b[1;33m.\u001b[0m\u001b[0mfigure\u001b[0m\u001b[1;33m(\u001b[0m\u001b[1;36m1\u001b[0m\u001b[1;33m)\u001b[0m\u001b[1;33m\u001b[0m\u001b[1;33m\u001b[0m\u001b[0m\n\u001b[0;32m      5\u001b[0m \u001b[0mplt\u001b[0m\u001b[1;33m.\u001b[0m\u001b[0mimshow\u001b[0m\u001b[1;33m(\u001b[0m\u001b[0mimage\u001b[0m\u001b[1;33m,\u001b[0m \u001b[0mcmap\u001b[0m\u001b[1;33m=\u001b[0m\u001b[1;34m\"gray\"\u001b[0m\u001b[1;33m)\u001b[0m\u001b[1;33m\u001b[0m\u001b[1;33m\u001b[0m\u001b[0m\n",
      "\u001b[1;32mD:\\WindowsInstalls\\Anaconda3\\lib\\site-packages\\pydicom\\filereader.py\u001b[0m in \u001b[0;36mdcmread\u001b[1;34m(fp, defer_size, stop_before_pixels, force, specific_tags)\u001b[0m\n\u001b[0;32m    854\u001b[0m         \u001b[1;32mexcept\u001b[0m \u001b[0mException\u001b[0m\u001b[1;33m:\u001b[0m\u001b[1;33m\u001b[0m\u001b[1;33m\u001b[0m\u001b[0m\n\u001b[0;32m    855\u001b[0m             \u001b[0mlogger\u001b[0m\u001b[1;33m.\u001b[0m\u001b[0mdebug\u001b[0m\u001b[1;33m(\u001b[0m\u001b[1;34m\"Reading file '{0}'\"\u001b[0m\u001b[1;33m.\u001b[0m\u001b[0mformat\u001b[0m\u001b[1;33m(\u001b[0m\u001b[0mfp\u001b[0m\u001b[1;33m)\u001b[0m\u001b[1;33m)\u001b[0m\u001b[1;33m\u001b[0m\u001b[1;33m\u001b[0m\u001b[0m\n\u001b[1;32m--> 856\u001b[1;33m         \u001b[0mfp\u001b[0m \u001b[1;33m=\u001b[0m \u001b[0mopen\u001b[0m\u001b[1;33m(\u001b[0m\u001b[0mfp\u001b[0m\u001b[1;33m,\u001b[0m \u001b[1;34m'rb'\u001b[0m\u001b[1;33m)\u001b[0m\u001b[1;33m\u001b[0m\u001b[1;33m\u001b[0m\u001b[0m\n\u001b[0m\u001b[0;32m    857\u001b[0m \u001b[1;33m\u001b[0m\u001b[0m\n\u001b[0;32m    858\u001b[0m     \u001b[1;32mif\u001b[0m \u001b[0mconfig\u001b[0m\u001b[1;33m.\u001b[0m\u001b[0mdebugging\u001b[0m\u001b[1;33m:\u001b[0m\u001b[1;33m\u001b[0m\u001b[1;33m\u001b[0m\u001b[0m\n",
      "\u001b[1;31mOSError\u001b[0m: [Errno 22] Invalid argument: 'D:/IN9400_exercises/DeFaced_FLAIR 3D/*'"
     ]
    }
   ],
   "source": [
    "dataset = dcmread(\"D:/IN9400_exercises/DeFaced_FLAIR 3D/*\")\n",
    "image = dataset.pixel_array\n",
    "tensorImage = torch.from_numpy(np.float32(image))\n",
    "plt.figure(1)\n",
    "plt.imshow(image, cmap=\"gray\")\n",
    "plt.figure(2)\n",
    "plt.imshow(tensorImage, cmap=\"gray\")"
   ]
  },
  {
   "cell_type": "code",
   "execution_count": 91,
   "metadata": {},
   "outputs": [],
   "source": [
    "from glue_vispy_viewers.isosurface import setup as setup_isosurface"
   ]
  },
  {
   "cell_type": "code",
   "execution_count": 92,
   "metadata": {},
   "outputs": [],
   "source": [
    "setup_isosurface()"
   ]
  }
 ],
 "metadata": {
  "kernelspec": {
   "display_name": "Python 3",
   "language": "python",
   "name": "python3"
  },
  "language_info": {
   "codemirror_mode": {
    "name": "ipython",
    "version": 3
   },
   "file_extension": ".py",
   "mimetype": "text/x-python",
   "name": "python",
   "nbconvert_exporter": "python",
   "pygments_lexer": "ipython3",
   "version": "3.7.1"
  }
 },
 "nbformat": 4,
 "nbformat_minor": 2
}
