{
 "cells": [
  {
   "cell_type": "code",
   "execution_count": 1,
   "metadata": {},
   "outputs": [],
   "source": [
    "import numpy as np\n",
    "import torch\n",
    "from ipywidgets import interact, interact_manual\n",
    "import ipywidgets as widgets\n",
    "import matplotlib as mpl\n",
    "import matplotlib.pyplot as plt\n",
    "%matplotlib notebook\n",
    "#%matplotlib inline\n",
    "scaling = 2\n",
    "mpl.rcParams['figure.figsize'] = [6.4*scaling, 4.8*scaling]"
   ]
  },
  {
   "cell_type": "code",
   "execution_count": 2,
   "metadata": {},
   "outputs": [
    {
     "data": {
      "text/html": [
       "<style>.container { width:90% !important; }</style>"
      ],
      "text/plain": [
       "<IPython.core.display.HTML object>"
      ]
     },
     "metadata": {},
     "output_type": "display_data"
    }
   ],
   "source": [
    "from IPython.core.display import display, HTML\n",
    "display(HTML(\"<style>.container { width:90% !important; }</style>\"))"
   ]
  },
  {
   "cell_type": "code",
   "execution_count": 3,
   "metadata": {},
   "outputs": [
    {
     "data": {
      "text/plain": [
       "tensor([[  2.2000,   4.4120, 123.0000],\n",
       "        [  2.3450,  23.2000, 123.0000]])"
      ]
     },
     "execution_count": 3,
     "metadata": {},
     "output_type": "execute_result"
    }
   ],
   "source": [
    "data = torch.tensor([2.2, 4.412, 123, 2.345, 23.2, 123])\n",
    "data.reshape((2,3))"
   ]
  },
  {
   "cell_type": "code",
   "execution_count": 4,
   "metadata": {},
   "outputs": [
    {
     "data": {
      "text/plain": [
       "torch.float32"
      ]
     },
     "execution_count": 4,
     "metadata": {},
     "output_type": "execute_result"
    }
   ],
   "source": [
    "torch.get_default_dtype()"
   ]
  },
  {
   "cell_type": "code",
   "execution_count": 5,
   "metadata": {
    "scrolled": false
   },
   "outputs": [
    {
     "data": {
      "text/plain": [
       "'\\n# Read a DICOMDIR file\\n\\ndicomdir = \"/media/ivar/HDD3TB2/IN9400_exercises/Ivar_MRI/FLAIR 3D/DICOMDIR\"\\n\\nds = read_dicomdir(dicomdir)\\npixel_data = list()\\nfor record in ds.DirectoryRecordSequence:\\n    if record.DirectoryRecordType == \"IMAGE\":\\n    # Extract the relative path to the DICOM file\\n        path = dicomdir[:-len(\"DICOMDIR\")] + os.path.join(*record.ReferencedFileID)\\n        dcm = dcmread(path)\\n\\n        # Now get your image data\\n        pixel_data.append(dcm.pixel_array)\\npixel_data = np.array(pixel_data)\\n'"
      ]
     },
     "execution_count": 5,
     "metadata": {},
     "output_type": "execute_result"
    }
   ],
   "source": [
    "# conda install -c conda-forge nibabel\n",
    "from pydicom.filereader import dcmread, FileDataset, read_dicomdir\n",
    "#import pydicom\n",
    "from glob import glob\n",
    "import os\n",
    "\n",
    "\"\"\"\n",
    "# Read a DICOMDIR file\n",
    "\n",
    "dicomdir = \"/media/ivar/HDD3TB2/IN9400_exercises/Ivar_MRI/FLAIR 3D/DICOMDIR\"\n",
    "\n",
    "ds = read_dicomdir(dicomdir)\n",
    "pixel_data = list()\n",
    "for record in ds.DirectoryRecordSequence:\n",
    "    if record.DirectoryRecordType == \"IMAGE\":\n",
    "    # Extract the relative path to the DICOM file\n",
    "        path = dicomdir[:-len(\"DICOMDIR\")] + os.path.join(*record.ReferencedFileID)\n",
    "        dcm = dcmread(path)\n",
    "\n",
    "        # Now get your image data\n",
    "        pixel_data.append(dcm.pixel_array)\n",
    "pixel_data = np.array(pixel_data)\n",
    "\"\"\""
   ]
  },
  {
   "cell_type": "code",
   "execution_count": 6,
   "metadata": {
    "scrolled": false
   },
   "outputs": [],
   "source": [
    "#dcmread(image_slices[int([i for (i, s) in enumerate(image_slices) if \"IM\" in s][0])]).pixel_array\n",
    "\n",
    "#series_numbers = np.unique([dcmread(s).SeriesNumber for s in image_slices])\n",
    "\n",
    "# Read an actual directory of dicom files\n",
    "\n",
    "aquisition_image_path = \"/media/ivar/HDD3TB2/IN9400_exercises/Ivar_MRI/FLAIR 3D/DICOM\"\n",
    "image_slices_unsorted = glob(aquisition_image_path + \"/IM*\")\n",
    "def get_image_number(file):\n",
    "    return int(file[len(file)-list(reversed(file)).index(\"_\"):])\n",
    "image_slices = sorted(image_slices_unsorted, key=get_image_number)\n",
    "vol1 = np.array([dcmread(s).pixel_array for s in image_slices if np.str(dcmread(s).SeriesNumber) == \"1301\"])\n",
    "#vol2 = np.array([dcmread(s).pixel_array for s in image_slices if np.str(dcmread(s).SeriesNumber) == \"1302\"])\n",
    "#vol3 = np.array([dcmread(s).pixel_array for s in image_slices if np.str(dcmread(s).SeriesNumber) == \"1303\"])"
   ]
  },
  {
   "cell_type": "code",
   "execution_count": 7,
   "metadata": {},
   "outputs": [],
   "source": [
    "#dcmread( image_slices[ int( [i for (i, s) in enumerate(image_slices) if np.str(dcmread(image_slices[i]).SeriesNumber) == \"1301\" ][0] ) ] ).walk"
   ]
  },
  {
   "cell_type": "code",
   "execution_count": 7,
   "metadata": {
    "scrolled": false
   },
   "outputs": [
    {
     "data": {
      "text/plain": [
       "<Figure size 432x288 with 0 Axes>"
      ]
     },
     "metadata": {},
     "output_type": "display_data"
    },
    {
     "data": {
      "application/vnd.jupyter.widget-view+json": {
       "model_id": "aae1394b2505409db59d46e26ccb7f6f",
       "version_major": 2,
       "version_minor": 0
      },
      "text/plain": [
       "HBox(box_style='info', children=(HTML(value='<em>Slice selection L/R</em>'), IntSlider(value=182, max=365), In…"
      ]
     },
     "metadata": {},
     "output_type": "display_data"
    },
    {
     "data": {
      "application/vnd.jupyter.widget-view+json": {
       "model_id": "ec1a29ef07494b029f4cf5f86c321602",
       "version_major": 2,
       "version_minor": 0
      },
      "text/plain": [
       "Output()"
      ]
     },
     "metadata": {},
     "output_type": "display_data"
    }
   ],
   "source": [
    "plt.figure(1)\n",
    "def load_and_display_slice(image_slice_nr):\n",
    "    #image_tensor = \\\n",
    "    #torch.from_numpy(np.float32(dcmread(image_slices[image_slice_nr]).pixel_array))\n",
    "    s = vol1[image_slice_nr]\n",
    "    plt.figure(1)\n",
    "    plt.imshow(s, cmap=\"gray\")\n",
    "\n",
    "#interact(load_and_display_slice, \\\n",
    "#         image_slice_nr=widgets.IntSlider(min=0,max=len(image_slices),step=1,value=len(image_slices)//2, continuous_update=True))\n",
    "    \n",
    "#interact(load_and_display_slice, image_slice_nr=range(len(image_slices)))\n",
    "\n",
    "x_slider = widgets.IntSlider(min=0,max=len(vol1),step=1,value=len(vol1)//2)\n",
    "\n",
    "x_box = widgets.IntText()\n",
    "\n",
    "widgets.jslink((x_slider, 'value'), (x_box, 'value'))\n",
    "\n",
    "title_widget = widgets.HTML('<em>Slice selection L/R</em>')\n",
    "\n",
    "play = widgets.Play(\n",
    "    value=len(vol1)//2,\n",
    "    min=0,\n",
    "    max=len(vol1),\n",
    "    step=1\n",
    ")\n",
    "\n",
    "widgets.jslink((play, 'value'), (x_slider, 'value'))\n",
    "\n",
    "ui = widgets.HBox([title_widget, x_slider, x_box, play])\n",
    "\n",
    "ui.box_style=\"info\"\n",
    "\n",
    "out = widgets.interactive_output(load_and_display_slice, {'image_slice_nr': x_slider})\n",
    "\n",
    "display(ui, out)"
   ]
  },
  {
   "cell_type": "code",
   "execution_count": 8,
   "metadata": {},
   "outputs": [],
   "source": [
    "%gui qt5\n",
    "from spimagine import volshow\n",
    "\n",
    "\n",
    "# render the data and returns the widget \n",
    "#w = volshow(np.flip(np.flip(vol1, axis=1), axis=0), stackUnits=(0.48828125, 0.48828125, 0.5), interpolation='nearest')\n",
    "\n",
    "vol1_zyx = np.swapaxes(vol1, 0, 2)\n",
    "vol1_zyx = np.swapaxes(vol1_zyx, 0, 1)\n",
    "vol1_zyx = np.flip(vol1_zyx, 0)\n",
    "vol1_zyx = np.flip(vol1_zyx, 1)\n",
    "\n",
    "w = volshow(vol1_zyx, stackUnits=(0.5, 0.48828125, 0.48828125), interpolation='nearest')\n",
    "\n",
    "\n",
    "w.set_colormap(\"grays\")"
   ]
  },
  {
   "cell_type": "code",
   "execution_count": 10,
   "metadata": {},
   "outputs": [
    {
     "data": {
      "text/plain": [
       "(512, 512, 365)"
      ]
     },
     "execution_count": 10,
     "metadata": {},
     "output_type": "execute_result"
    }
   ],
   "source": [
    "vol1_zyx.shape"
   ]
  },
  {
   "cell_type": "code",
   "execution_count": 11,
   "metadata": {},
   "outputs": [],
   "source": [
    "volshow?"
   ]
  }
 ],
 "metadata": {
  "kernelspec": {
   "display_name": "Python (spimenv)",
   "language": "python",
   "name": "spimenv"
  },
  "language_info": {
   "codemirror_mode": {
    "name": "ipython",
    "version": 3
   },
   "file_extension": ".py",
   "mimetype": "text/x-python",
   "name": "python",
   "nbconvert_exporter": "python",
   "pygments_lexer": "ipython3",
   "version": "3.6.8"
  }
 },
 "nbformat": 4,
 "nbformat_minor": 2
}
